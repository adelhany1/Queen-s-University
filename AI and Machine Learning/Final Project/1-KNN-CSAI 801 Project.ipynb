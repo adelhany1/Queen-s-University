{
 "cells": [
  {
   "cell_type": "markdown",
   "id": "a6ebbc0d",
   "metadata": {},
   "source": [
    "# KNN"
   ]
  },
  {
   "cell_type": "code",
   "execution_count": 1,
   "id": "0567339b",
   "metadata": {},
   "outputs": [
    {
     "name": "stderr",
     "output_type": "stream",
     "text": [
      "<frozen importlib._bootstrap>:219: RuntimeWarning: scipy._lib.messagestream.MessageStream size changed, may indicate binary incompatibility. Expected 56 from C header, got 64 from PyObject\n"
     ]
    }
   ],
   "source": [
    "import pandas as pd\n",
    "import seaborn as sns\n",
    "import matplotlib.pyplot as plt\n",
    "import numpy as np\n",
    "%matplotlib inline"
   ]
  },
  {
   "cell_type": "code",
   "execution_count": 2,
   "id": "1e11db2f",
   "metadata": {},
   "outputs": [
    {
     "name": "stdout",
     "output_type": "stream",
     "text": [
      "(863, 14)\n"
     ]
    },
    {
     "data": {
      "text/html": [
       "<div>\n",
       "<style scoped>\n",
       "    .dataframe tbody tr th:only-of-type {\n",
       "        vertical-align: middle;\n",
       "    }\n",
       "\n",
       "    .dataframe tbody tr th {\n",
       "        vertical-align: top;\n",
       "    }\n",
       "\n",
       "    .dataframe thead th {\n",
       "        text-align: right;\n",
       "    }\n",
       "</style>\n",
       "<table border=\"1\" class=\"dataframe\">\n",
       "  <thead>\n",
       "    <tr style=\"text-align: right;\">\n",
       "      <th></th>\n",
       "      <th>location</th>\n",
       "      <th>country</th>\n",
       "      <th>gender</th>\n",
       "      <th>age</th>\n",
       "      <th>vis_wuhan</th>\n",
       "      <th>from_wuhan</th>\n",
       "      <th>symptom1</th>\n",
       "      <th>symptom2</th>\n",
       "      <th>symptom3</th>\n",
       "      <th>symptom4</th>\n",
       "      <th>symptom5</th>\n",
       "      <th>symptom6</th>\n",
       "      <th>diff_sym_hos</th>\n",
       "      <th>result</th>\n",
       "    </tr>\n",
       "  </thead>\n",
       "  <tbody>\n",
       "    <tr>\n",
       "      <th>0</th>\n",
       "      <td>104</td>\n",
       "      <td>8</td>\n",
       "      <td>1</td>\n",
       "      <td>66.0</td>\n",
       "      <td>1</td>\n",
       "      <td>0</td>\n",
       "      <td>14</td>\n",
       "      <td>31</td>\n",
       "      <td>19</td>\n",
       "      <td>12</td>\n",
       "      <td>3</td>\n",
       "      <td>1</td>\n",
       "      <td>8</td>\n",
       "      <td>1</td>\n",
       "    </tr>\n",
       "    <tr>\n",
       "      <th>1</th>\n",
       "      <td>101</td>\n",
       "      <td>8</td>\n",
       "      <td>0</td>\n",
       "      <td>56.0</td>\n",
       "      <td>0</td>\n",
       "      <td>1</td>\n",
       "      <td>14</td>\n",
       "      <td>31</td>\n",
       "      <td>19</td>\n",
       "      <td>12</td>\n",
       "      <td>3</td>\n",
       "      <td>1</td>\n",
       "      <td>0</td>\n",
       "      <td>0</td>\n",
       "    </tr>\n",
       "  </tbody>\n",
       "</table>\n",
       "</div>"
      ],
      "text/plain": [
       "   location  country  gender   age  vis_wuhan  from_wuhan  symptom1  symptom2  \\\n",
       "0       104        8       1  66.0          1           0        14        31   \n",
       "1       101        8       0  56.0          0           1        14        31   \n",
       "\n",
       "   symptom3  symptom4  symptom5  symptom6  diff_sym_hos  result  \n",
       "0        19        12         3         1             8       1  \n",
       "1        19        12         3         1             0       0  "
      ]
     },
     "execution_count": 2,
     "metadata": {},
     "output_type": "execute_result"
    }
   ],
   "source": [
    "df = pd.read_csv('data.csv', index_col=0)\n",
    "print(df.shape)\n",
    "df.head(2)"
   ]
  },
  {
   "cell_type": "markdown",
   "id": "92a03b8d",
   "metadata": {},
   "source": [
    "## Standardize the Variables\n",
    "\n",
    "KNN classifier predicts the class of a given test observation by identifying the observations that are nearest to it, the scale of the variables matters. Any variables that are on a large scale will have a much larger effect on the distance between the observations, and hence on the KNN classifier, than variables that are on a small scale."
   ]
  },
  {
   "cell_type": "code",
   "execution_count": 3,
   "id": "7b5f8dcf",
   "metadata": {},
   "outputs": [],
   "source": [
    "from sklearn.preprocessing import StandardScaler"
   ]
  },
  {
   "cell_type": "code",
   "execution_count": 4,
   "id": "a6fceba8",
   "metadata": {},
   "outputs": [],
   "source": [
    "scaler = StandardScaler()"
   ]
  },
  {
   "cell_type": "code",
   "execution_count": 5,
   "id": "3293ffc4",
   "metadata": {},
   "outputs": [
    {
     "data": {
      "text/html": [
       "<style>#sk-container-id-1 {color: black;background-color: white;}#sk-container-id-1 pre{padding: 0;}#sk-container-id-1 div.sk-toggleable {background-color: white;}#sk-container-id-1 label.sk-toggleable__label {cursor: pointer;display: block;width: 100%;margin-bottom: 0;padding: 0.3em;box-sizing: border-box;text-align: center;}#sk-container-id-1 label.sk-toggleable__label-arrow:before {content: \"▸\";float: left;margin-right: 0.25em;color: #696969;}#sk-container-id-1 label.sk-toggleable__label-arrow:hover:before {color: black;}#sk-container-id-1 div.sk-estimator:hover label.sk-toggleable__label-arrow:before {color: black;}#sk-container-id-1 div.sk-toggleable__content {max-height: 0;max-width: 0;overflow: hidden;text-align: left;background-color: #f0f8ff;}#sk-container-id-1 div.sk-toggleable__content pre {margin: 0.2em;color: black;border-radius: 0.25em;background-color: #f0f8ff;}#sk-container-id-1 input.sk-toggleable__control:checked~div.sk-toggleable__content {max-height: 200px;max-width: 100%;overflow: auto;}#sk-container-id-1 input.sk-toggleable__control:checked~label.sk-toggleable__label-arrow:before {content: \"▾\";}#sk-container-id-1 div.sk-estimator input.sk-toggleable__control:checked~label.sk-toggleable__label {background-color: #d4ebff;}#sk-container-id-1 div.sk-label input.sk-toggleable__control:checked~label.sk-toggleable__label {background-color: #d4ebff;}#sk-container-id-1 input.sk-hidden--visually {border: 0;clip: rect(1px 1px 1px 1px);clip: rect(1px, 1px, 1px, 1px);height: 1px;margin: -1px;overflow: hidden;padding: 0;position: absolute;width: 1px;}#sk-container-id-1 div.sk-estimator {font-family: monospace;background-color: #f0f8ff;border: 1px dotted black;border-radius: 0.25em;box-sizing: border-box;margin-bottom: 0.5em;}#sk-container-id-1 div.sk-estimator:hover {background-color: #d4ebff;}#sk-container-id-1 div.sk-parallel-item::after {content: \"\";width: 100%;border-bottom: 1px solid gray;flex-grow: 1;}#sk-container-id-1 div.sk-label:hover label.sk-toggleable__label {background-color: #d4ebff;}#sk-container-id-1 div.sk-serial::before {content: \"\";position: absolute;border-left: 1px solid gray;box-sizing: border-box;top: 0;bottom: 0;left: 50%;z-index: 0;}#sk-container-id-1 div.sk-serial {display: flex;flex-direction: column;align-items: center;background-color: white;padding-right: 0.2em;padding-left: 0.2em;position: relative;}#sk-container-id-1 div.sk-item {position: relative;z-index: 1;}#sk-container-id-1 div.sk-parallel {display: flex;align-items: stretch;justify-content: center;background-color: white;position: relative;}#sk-container-id-1 div.sk-item::before, #sk-container-id-1 div.sk-parallel-item::before {content: \"\";position: absolute;border-left: 1px solid gray;box-sizing: border-box;top: 0;bottom: 0;left: 50%;z-index: -1;}#sk-container-id-1 div.sk-parallel-item {display: flex;flex-direction: column;z-index: 1;position: relative;background-color: white;}#sk-container-id-1 div.sk-parallel-item:first-child::after {align-self: flex-end;width: 50%;}#sk-container-id-1 div.sk-parallel-item:last-child::after {align-self: flex-start;width: 50%;}#sk-container-id-1 div.sk-parallel-item:only-child::after {width: 0;}#sk-container-id-1 div.sk-dashed-wrapped {border: 1px dashed gray;margin: 0 0.4em 0.5em 0.4em;box-sizing: border-box;padding-bottom: 0.4em;background-color: white;}#sk-container-id-1 div.sk-label label {font-family: monospace;font-weight: bold;display: inline-block;line-height: 1.2em;}#sk-container-id-1 div.sk-label-container {text-align: center;}#sk-container-id-1 div.sk-container {/* jupyter's `normalize.less` sets `[hidden] { display: none; }` but bootstrap.min.css set `[hidden] { display: none !important; }` so we also need the `!important` here to be able to override the default hidden behavior on the sphinx rendered scikit-learn.org. See: https://github.com/scikit-learn/scikit-learn/issues/21755 */display: inline-block !important;position: relative;}#sk-container-id-1 div.sk-text-repr-fallback {display: none;}</style><div id=\"sk-container-id-1\" class=\"sk-top-container\"><div class=\"sk-text-repr-fallback\"><pre>StandardScaler()</pre><b>In a Jupyter environment, please rerun this cell to show the HTML representation or trust the notebook. <br />On GitHub, the HTML representation is unable to render, please try loading this page with nbviewer.org.</b></div><div class=\"sk-container\" hidden><div class=\"sk-item\"><div class=\"sk-estimator sk-toggleable\"><input class=\"sk-toggleable__control sk-hidden--visually\" id=\"sk-estimator-id-1\" type=\"checkbox\" checked><label for=\"sk-estimator-id-1\" class=\"sk-toggleable__label sk-toggleable__label-arrow\">StandardScaler</label><div class=\"sk-toggleable__content\"><pre>StandardScaler()</pre></div></div></div></div></div>"
      ],
      "text/plain": [
       "StandardScaler()"
      ]
     },
     "execution_count": 5,
     "metadata": {},
     "output_type": "execute_result"
    }
   ],
   "source": [
    "scaler.fit(df.drop('result',axis=1))"
   ]
  },
  {
   "cell_type": "code",
   "execution_count": 6,
   "id": "96e082c2",
   "metadata": {},
   "outputs": [],
   "source": [
    "scaled_features = scaler.transform(df.drop('result',axis=1))"
   ]
  },
  {
   "cell_type": "code",
   "execution_count": 7,
   "id": "a7ac5d86",
   "metadata": {},
   "outputs": [
    {
     "data": {
      "text/html": [
       "<div>\n",
       "<style scoped>\n",
       "    .dataframe tbody tr th:only-of-type {\n",
       "        vertical-align: middle;\n",
       "    }\n",
       "\n",
       "    .dataframe tbody tr th {\n",
       "        vertical-align: top;\n",
       "    }\n",
       "\n",
       "    .dataframe thead th {\n",
       "        text-align: right;\n",
       "    }\n",
       "</style>\n",
       "<table border=\"1\" class=\"dataframe\">\n",
       "  <thead>\n",
       "    <tr style=\"text-align: right;\">\n",
       "      <th></th>\n",
       "      <th>location</th>\n",
       "      <th>country</th>\n",
       "      <th>gender</th>\n",
       "      <th>age</th>\n",
       "      <th>vis_wuhan</th>\n",
       "      <th>from_wuhan</th>\n",
       "      <th>symptom1</th>\n",
       "      <th>symptom2</th>\n",
       "      <th>symptom3</th>\n",
       "      <th>symptom4</th>\n",
       "      <th>symptom5</th>\n",
       "      <th>symptom6</th>\n",
       "      <th>diff_sym_hos</th>\n",
       "    </tr>\n",
       "  </thead>\n",
       "  <tbody>\n",
       "    <tr>\n",
       "      <th>0</th>\n",
       "      <td>0.698221</td>\n",
       "      <td>-1.15245</td>\n",
       "      <td>0.207592</td>\n",
       "      <td>1.101492</td>\n",
       "      <td>2.120570</td>\n",
       "      <td>-0.347533</td>\n",
       "      <td>0.465755</td>\n",
       "      <td>0.401355</td>\n",
       "      <td>0.244914</td>\n",
       "      <td>0.135161</td>\n",
       "      <td>0.054668</td>\n",
       "      <td>0.03406</td>\n",
       "      <td>2.971339</td>\n",
       "    </tr>\n",
       "    <tr>\n",
       "      <th>1</th>\n",
       "      <td>0.621646</td>\n",
       "      <td>-1.15245</td>\n",
       "      <td>-1.170499</td>\n",
       "      <td>0.437943</td>\n",
       "      <td>-0.471571</td>\n",
       "      <td>2.877424</td>\n",
       "      <td>0.465755</td>\n",
       "      <td>0.401355</td>\n",
       "      <td>0.244914</td>\n",
       "      <td>0.135161</td>\n",
       "      <td>0.054668</td>\n",
       "      <td>0.03406</td>\n",
       "      <td>-0.422230</td>\n",
       "    </tr>\n",
       "    <tr>\n",
       "      <th>2</th>\n",
       "      <td>1.540540</td>\n",
       "      <td>-1.15245</td>\n",
       "      <td>0.207592</td>\n",
       "      <td>-0.225607</td>\n",
       "      <td>-0.471571</td>\n",
       "      <td>2.877424</td>\n",
       "      <td>0.465755</td>\n",
       "      <td>0.401355</td>\n",
       "      <td>0.244914</td>\n",
       "      <td>0.135161</td>\n",
       "      <td>0.054668</td>\n",
       "      <td>0.03406</td>\n",
       "      <td>5.092319</td>\n",
       "    </tr>\n",
       "    <tr>\n",
       "      <th>3</th>\n",
       "      <td>1.004519</td>\n",
       "      <td>-1.15245</td>\n",
       "      <td>-1.170499</td>\n",
       "      <td>0.703363</td>\n",
       "      <td>2.120570</td>\n",
       "      <td>-0.347533</td>\n",
       "      <td>0.465755</td>\n",
       "      <td>0.401355</td>\n",
       "      <td>0.244914</td>\n",
       "      <td>0.135161</td>\n",
       "      <td>0.054668</td>\n",
       "      <td>0.03406</td>\n",
       "      <td>-0.422230</td>\n",
       "    </tr>\n",
       "    <tr>\n",
       "      <th>4</th>\n",
       "      <td>1.004519</td>\n",
       "      <td>-1.15245</td>\n",
       "      <td>0.207592</td>\n",
       "      <td>0.570653</td>\n",
       "      <td>-0.471571</td>\n",
       "      <td>-0.347533</td>\n",
       "      <td>0.465755</td>\n",
       "      <td>0.401355</td>\n",
       "      <td>0.244914</td>\n",
       "      <td>0.135161</td>\n",
       "      <td>0.054668</td>\n",
       "      <td>0.03406</td>\n",
       "      <td>-0.422230</td>\n",
       "    </tr>\n",
       "  </tbody>\n",
       "</table>\n",
       "</div>"
      ],
      "text/plain": [
       "   location  country    gender       age  vis_wuhan  from_wuhan  symptom1  \\\n",
       "0  0.698221 -1.15245  0.207592  1.101492   2.120570   -0.347533  0.465755   \n",
       "1  0.621646 -1.15245 -1.170499  0.437943  -0.471571    2.877424  0.465755   \n",
       "2  1.540540 -1.15245  0.207592 -0.225607  -0.471571    2.877424  0.465755   \n",
       "3  1.004519 -1.15245 -1.170499  0.703363   2.120570   -0.347533  0.465755   \n",
       "4  1.004519 -1.15245  0.207592  0.570653  -0.471571   -0.347533  0.465755   \n",
       "\n",
       "   symptom2  symptom3  symptom4  symptom5  symptom6  diff_sym_hos  \n",
       "0  0.401355  0.244914  0.135161  0.054668   0.03406      2.971339  \n",
       "1  0.401355  0.244914  0.135161  0.054668   0.03406     -0.422230  \n",
       "2  0.401355  0.244914  0.135161  0.054668   0.03406      5.092319  \n",
       "3  0.401355  0.244914  0.135161  0.054668   0.03406     -0.422230  \n",
       "4  0.401355  0.244914  0.135161  0.054668   0.03406     -0.422230  "
      ]
     },
     "execution_count": 7,
     "metadata": {},
     "output_type": "execute_result"
    }
   ],
   "source": [
    "df_feat = pd.DataFrame(scaled_features,columns=df.columns[:-1])\n",
    "df_feat.head()"
   ]
  },
  {
   "cell_type": "code",
   "execution_count": 8,
   "id": "1625753e",
   "metadata": {},
   "outputs": [],
   "source": [
    "df_feat=df_feat.drop(['location','country'] , axis=1)"
   ]
  },
  {
   "cell_type": "code",
   "execution_count": 9,
   "id": "950edabd",
   "metadata": {},
   "outputs": [
    {
     "data": {
      "text/html": [
       "<div>\n",
       "<style scoped>\n",
       "    .dataframe tbody tr th:only-of-type {\n",
       "        vertical-align: middle;\n",
       "    }\n",
       "\n",
       "    .dataframe tbody tr th {\n",
       "        vertical-align: top;\n",
       "    }\n",
       "\n",
       "    .dataframe thead th {\n",
       "        text-align: right;\n",
       "    }\n",
       "</style>\n",
       "<table border=\"1\" class=\"dataframe\">\n",
       "  <thead>\n",
       "    <tr style=\"text-align: right;\">\n",
       "      <th></th>\n",
       "      <th>gender</th>\n",
       "      <th>age</th>\n",
       "      <th>vis_wuhan</th>\n",
       "      <th>from_wuhan</th>\n",
       "      <th>symptom1</th>\n",
       "      <th>symptom2</th>\n",
       "      <th>symptom3</th>\n",
       "      <th>symptom4</th>\n",
       "      <th>symptom5</th>\n",
       "      <th>symptom6</th>\n",
       "      <th>diff_sym_hos</th>\n",
       "    </tr>\n",
       "  </thead>\n",
       "  <tbody>\n",
       "    <tr>\n",
       "      <th>0</th>\n",
       "      <td>0.207592</td>\n",
       "      <td>1.101492</td>\n",
       "      <td>2.120570</td>\n",
       "      <td>-0.347533</td>\n",
       "      <td>0.465755</td>\n",
       "      <td>0.401355</td>\n",
       "      <td>0.244914</td>\n",
       "      <td>0.135161</td>\n",
       "      <td>0.054668</td>\n",
       "      <td>0.03406</td>\n",
       "      <td>2.971339</td>\n",
       "    </tr>\n",
       "    <tr>\n",
       "      <th>1</th>\n",
       "      <td>-1.170499</td>\n",
       "      <td>0.437943</td>\n",
       "      <td>-0.471571</td>\n",
       "      <td>2.877424</td>\n",
       "      <td>0.465755</td>\n",
       "      <td>0.401355</td>\n",
       "      <td>0.244914</td>\n",
       "      <td>0.135161</td>\n",
       "      <td>0.054668</td>\n",
       "      <td>0.03406</td>\n",
       "      <td>-0.422230</td>\n",
       "    </tr>\n",
       "    <tr>\n",
       "      <th>2</th>\n",
       "      <td>0.207592</td>\n",
       "      <td>-0.225607</td>\n",
       "      <td>-0.471571</td>\n",
       "      <td>2.877424</td>\n",
       "      <td>0.465755</td>\n",
       "      <td>0.401355</td>\n",
       "      <td>0.244914</td>\n",
       "      <td>0.135161</td>\n",
       "      <td>0.054668</td>\n",
       "      <td>0.03406</td>\n",
       "      <td>5.092319</td>\n",
       "    </tr>\n",
       "    <tr>\n",
       "      <th>3</th>\n",
       "      <td>-1.170499</td>\n",
       "      <td>0.703363</td>\n",
       "      <td>2.120570</td>\n",
       "      <td>-0.347533</td>\n",
       "      <td>0.465755</td>\n",
       "      <td>0.401355</td>\n",
       "      <td>0.244914</td>\n",
       "      <td>0.135161</td>\n",
       "      <td>0.054668</td>\n",
       "      <td>0.03406</td>\n",
       "      <td>-0.422230</td>\n",
       "    </tr>\n",
       "    <tr>\n",
       "      <th>4</th>\n",
       "      <td>0.207592</td>\n",
       "      <td>0.570653</td>\n",
       "      <td>-0.471571</td>\n",
       "      <td>-0.347533</td>\n",
       "      <td>0.465755</td>\n",
       "      <td>0.401355</td>\n",
       "      <td>0.244914</td>\n",
       "      <td>0.135161</td>\n",
       "      <td>0.054668</td>\n",
       "      <td>0.03406</td>\n",
       "      <td>-0.422230</td>\n",
       "    </tr>\n",
       "    <tr>\n",
       "      <th>...</th>\n",
       "      <td>...</td>\n",
       "      <td>...</td>\n",
       "      <td>...</td>\n",
       "      <td>...</td>\n",
       "      <td>...</td>\n",
       "      <td>...</td>\n",
       "      <td>...</td>\n",
       "      <td>...</td>\n",
       "      <td>...</td>\n",
       "      <td>...</td>\n",
       "      <td>...</td>\n",
       "    </tr>\n",
       "    <tr>\n",
       "      <th>858</th>\n",
       "      <td>1.585683</td>\n",
       "      <td>-1.685416</td>\n",
       "      <td>-0.471571</td>\n",
       "      <td>-0.347533</td>\n",
       "      <td>0.465755</td>\n",
       "      <td>0.401355</td>\n",
       "      <td>0.244914</td>\n",
       "      <td>0.135161</td>\n",
       "      <td>0.054668</td>\n",
       "      <td>0.03406</td>\n",
       "      <td>-0.422230</td>\n",
       "    </tr>\n",
       "    <tr>\n",
       "      <th>859</th>\n",
       "      <td>1.585683</td>\n",
       "      <td>-0.955511</td>\n",
       "      <td>-0.471571</td>\n",
       "      <td>-0.347533</td>\n",
       "      <td>0.465755</td>\n",
       "      <td>0.401355</td>\n",
       "      <td>0.244914</td>\n",
       "      <td>0.135161</td>\n",
       "      <td>0.054668</td>\n",
       "      <td>0.03406</td>\n",
       "      <td>-0.422230</td>\n",
       "    </tr>\n",
       "    <tr>\n",
       "      <th>860</th>\n",
       "      <td>0.207592</td>\n",
       "      <td>0.000000</td>\n",
       "      <td>-0.471571</td>\n",
       "      <td>-0.347533</td>\n",
       "      <td>0.465755</td>\n",
       "      <td>0.401355</td>\n",
       "      <td>0.244914</td>\n",
       "      <td>0.135161</td>\n",
       "      <td>0.054668</td>\n",
       "      <td>0.03406</td>\n",
       "      <td>-0.422230</td>\n",
       "    </tr>\n",
       "    <tr>\n",
       "      <th>861</th>\n",
       "      <td>0.207592</td>\n",
       "      <td>0.000000</td>\n",
       "      <td>-0.471571</td>\n",
       "      <td>-0.347533</td>\n",
       "      <td>0.465755</td>\n",
       "      <td>0.401355</td>\n",
       "      <td>0.244914</td>\n",
       "      <td>0.135161</td>\n",
       "      <td>0.054668</td>\n",
       "      <td>0.03406</td>\n",
       "      <td>-0.422230</td>\n",
       "    </tr>\n",
       "    <tr>\n",
       "      <th>862</th>\n",
       "      <td>0.207592</td>\n",
       "      <td>1.366912</td>\n",
       "      <td>-0.471571</td>\n",
       "      <td>-0.347533</td>\n",
       "      <td>0.465755</td>\n",
       "      <td>0.401355</td>\n",
       "      <td>0.244914</td>\n",
       "      <td>0.135161</td>\n",
       "      <td>0.054668</td>\n",
       "      <td>0.03406</td>\n",
       "      <td>-0.422230</td>\n",
       "    </tr>\n",
       "  </tbody>\n",
       "</table>\n",
       "<p>863 rows × 11 columns</p>\n",
       "</div>"
      ],
      "text/plain": [
       "       gender       age  vis_wuhan  from_wuhan  symptom1  symptom2  symptom3  \\\n",
       "0    0.207592  1.101492   2.120570   -0.347533  0.465755  0.401355  0.244914   \n",
       "1   -1.170499  0.437943  -0.471571    2.877424  0.465755  0.401355  0.244914   \n",
       "2    0.207592 -0.225607  -0.471571    2.877424  0.465755  0.401355  0.244914   \n",
       "3   -1.170499  0.703363   2.120570   -0.347533  0.465755  0.401355  0.244914   \n",
       "4    0.207592  0.570653  -0.471571   -0.347533  0.465755  0.401355  0.244914   \n",
       "..        ...       ...        ...         ...       ...       ...       ...   \n",
       "858  1.585683 -1.685416  -0.471571   -0.347533  0.465755  0.401355  0.244914   \n",
       "859  1.585683 -0.955511  -0.471571   -0.347533  0.465755  0.401355  0.244914   \n",
       "860  0.207592  0.000000  -0.471571   -0.347533  0.465755  0.401355  0.244914   \n",
       "861  0.207592  0.000000  -0.471571   -0.347533  0.465755  0.401355  0.244914   \n",
       "862  0.207592  1.366912  -0.471571   -0.347533  0.465755  0.401355  0.244914   \n",
       "\n",
       "     symptom4  symptom5  symptom6  diff_sym_hos  \n",
       "0    0.135161  0.054668   0.03406      2.971339  \n",
       "1    0.135161  0.054668   0.03406     -0.422230  \n",
       "2    0.135161  0.054668   0.03406      5.092319  \n",
       "3    0.135161  0.054668   0.03406     -0.422230  \n",
       "4    0.135161  0.054668   0.03406     -0.422230  \n",
       "..        ...       ...       ...           ...  \n",
       "858  0.135161  0.054668   0.03406     -0.422230  \n",
       "859  0.135161  0.054668   0.03406     -0.422230  \n",
       "860  0.135161  0.054668   0.03406     -0.422230  \n",
       "861  0.135161  0.054668   0.03406     -0.422230  \n",
       "862  0.135161  0.054668   0.03406     -0.422230  \n",
       "\n",
       "[863 rows x 11 columns]"
      ]
     },
     "execution_count": 9,
     "metadata": {},
     "output_type": "execute_result"
    }
   ],
   "source": [
    "df_feat"
   ]
  },
  {
   "cell_type": "code",
   "execution_count": 10,
   "id": "c58901b6",
   "metadata": {},
   "outputs": [],
   "source": [
    "# Split the data\n",
    "from sklearn.model_selection import train_test_split"
   ]
  },
  {
   "cell_type": "code",
   "execution_count": 11,
   "id": "6833aab9",
   "metadata": {},
   "outputs": [],
   "source": [
    "x_train, x_rem, y_train, y_rem = train_test_split(df_feat , df['result'], test_size=0.2)"
   ]
  },
  {
   "cell_type": "code",
   "execution_count": 12,
   "id": "a8a633d8",
   "metadata": {},
   "outputs": [],
   "source": [
    "x_valid, x_test, y_valid, y_test = train_test_split(x_rem , y_rem , test_size=0.5)"
   ]
  },
  {
   "cell_type": "markdown",
   "id": "fdf9e3ea",
   "metadata": {},
   "source": [
    "Now we have:\n",
    "\n",
    "- x_train and y_train ,, 80% of the data\n",
    "- x_valid and y_valid ,, 10% of the data\n",
    "- x_test and y_test ,, 10% of the data"
   ]
  },
  {
   "cell_type": "markdown",
   "id": "8800449e",
   "metadata": {},
   "source": [
    "# Using KNN"
   ]
  },
  {
   "cell_type": "code",
   "execution_count": 13,
   "id": "231c51ae",
   "metadata": {},
   "outputs": [],
   "source": [
    "from sklearn.neighbors import KNeighborsClassifier"
   ]
  },
  {
   "cell_type": "code",
   "execution_count": 14,
   "id": "0433c0d4",
   "metadata": {},
   "outputs": [],
   "source": [
    "knn = KNeighborsClassifier(n_neighbors=3)  # will start with 3"
   ]
  },
  {
   "cell_type": "code",
   "execution_count": 15,
   "id": "5a07d225",
   "metadata": {},
   "outputs": [
    {
     "data": {
      "text/html": [
       "<style>#sk-container-id-2 {color: black;background-color: white;}#sk-container-id-2 pre{padding: 0;}#sk-container-id-2 div.sk-toggleable {background-color: white;}#sk-container-id-2 label.sk-toggleable__label {cursor: pointer;display: block;width: 100%;margin-bottom: 0;padding: 0.3em;box-sizing: border-box;text-align: center;}#sk-container-id-2 label.sk-toggleable__label-arrow:before {content: \"▸\";float: left;margin-right: 0.25em;color: #696969;}#sk-container-id-2 label.sk-toggleable__label-arrow:hover:before {color: black;}#sk-container-id-2 div.sk-estimator:hover label.sk-toggleable__label-arrow:before {color: black;}#sk-container-id-2 div.sk-toggleable__content {max-height: 0;max-width: 0;overflow: hidden;text-align: left;background-color: #f0f8ff;}#sk-container-id-2 div.sk-toggleable__content pre {margin: 0.2em;color: black;border-radius: 0.25em;background-color: #f0f8ff;}#sk-container-id-2 input.sk-toggleable__control:checked~div.sk-toggleable__content {max-height: 200px;max-width: 100%;overflow: auto;}#sk-container-id-2 input.sk-toggleable__control:checked~label.sk-toggleable__label-arrow:before {content: \"▾\";}#sk-container-id-2 div.sk-estimator input.sk-toggleable__control:checked~label.sk-toggleable__label {background-color: #d4ebff;}#sk-container-id-2 div.sk-label input.sk-toggleable__control:checked~label.sk-toggleable__label {background-color: #d4ebff;}#sk-container-id-2 input.sk-hidden--visually {border: 0;clip: rect(1px 1px 1px 1px);clip: rect(1px, 1px, 1px, 1px);height: 1px;margin: -1px;overflow: hidden;padding: 0;position: absolute;width: 1px;}#sk-container-id-2 div.sk-estimator {font-family: monospace;background-color: #f0f8ff;border: 1px dotted black;border-radius: 0.25em;box-sizing: border-box;margin-bottom: 0.5em;}#sk-container-id-2 div.sk-estimator:hover {background-color: #d4ebff;}#sk-container-id-2 div.sk-parallel-item::after {content: \"\";width: 100%;border-bottom: 1px solid gray;flex-grow: 1;}#sk-container-id-2 div.sk-label:hover label.sk-toggleable__label {background-color: #d4ebff;}#sk-container-id-2 div.sk-serial::before {content: \"\";position: absolute;border-left: 1px solid gray;box-sizing: border-box;top: 0;bottom: 0;left: 50%;z-index: 0;}#sk-container-id-2 div.sk-serial {display: flex;flex-direction: column;align-items: center;background-color: white;padding-right: 0.2em;padding-left: 0.2em;position: relative;}#sk-container-id-2 div.sk-item {position: relative;z-index: 1;}#sk-container-id-2 div.sk-parallel {display: flex;align-items: stretch;justify-content: center;background-color: white;position: relative;}#sk-container-id-2 div.sk-item::before, #sk-container-id-2 div.sk-parallel-item::before {content: \"\";position: absolute;border-left: 1px solid gray;box-sizing: border-box;top: 0;bottom: 0;left: 50%;z-index: -1;}#sk-container-id-2 div.sk-parallel-item {display: flex;flex-direction: column;z-index: 1;position: relative;background-color: white;}#sk-container-id-2 div.sk-parallel-item:first-child::after {align-self: flex-end;width: 50%;}#sk-container-id-2 div.sk-parallel-item:last-child::after {align-self: flex-start;width: 50%;}#sk-container-id-2 div.sk-parallel-item:only-child::after {width: 0;}#sk-container-id-2 div.sk-dashed-wrapped {border: 1px dashed gray;margin: 0 0.4em 0.5em 0.4em;box-sizing: border-box;padding-bottom: 0.4em;background-color: white;}#sk-container-id-2 div.sk-label label {font-family: monospace;font-weight: bold;display: inline-block;line-height: 1.2em;}#sk-container-id-2 div.sk-label-container {text-align: center;}#sk-container-id-2 div.sk-container {/* jupyter's `normalize.less` sets `[hidden] { display: none; }` but bootstrap.min.css set `[hidden] { display: none !important; }` so we also need the `!important` here to be able to override the default hidden behavior on the sphinx rendered scikit-learn.org. See: https://github.com/scikit-learn/scikit-learn/issues/21755 */display: inline-block !important;position: relative;}#sk-container-id-2 div.sk-text-repr-fallback {display: none;}</style><div id=\"sk-container-id-2\" class=\"sk-top-container\"><div class=\"sk-text-repr-fallback\"><pre>KNeighborsClassifier(n_neighbors=3)</pre><b>In a Jupyter environment, please rerun this cell to show the HTML representation or trust the notebook. <br />On GitHub, the HTML representation is unable to render, please try loading this page with nbviewer.org.</b></div><div class=\"sk-container\" hidden><div class=\"sk-item\"><div class=\"sk-estimator sk-toggleable\"><input class=\"sk-toggleable__control sk-hidden--visually\" id=\"sk-estimator-id-2\" type=\"checkbox\" checked><label for=\"sk-estimator-id-2\" class=\"sk-toggleable__label sk-toggleable__label-arrow\">KNeighborsClassifier</label><div class=\"sk-toggleable__content\"><pre>KNeighborsClassifier(n_neighbors=3)</pre></div></div></div></div></div>"
      ],
      "text/plain": [
       "KNeighborsClassifier(n_neighbors=3)"
      ]
     },
     "execution_count": 15,
     "metadata": {},
     "output_type": "execute_result"
    }
   ],
   "source": [
    "knn.fit(x_train,y_train)"
   ]
  },
  {
   "cell_type": "code",
   "execution_count": 16,
   "id": "6e82d653",
   "metadata": {},
   "outputs": [],
   "source": [
    "pred = knn.predict(x_valid)"
   ]
  },
  {
   "cell_type": "markdown",
   "id": "6b710e9a",
   "metadata": {},
   "source": [
    "## Predictions and Evaluations"
   ]
  },
  {
   "cell_type": "code",
   "execution_count": 17,
   "id": "e26f588a",
   "metadata": {},
   "outputs": [],
   "source": [
    "from sklearn.metrics import classification_report,confusion_matrix"
   ]
  },
  {
   "cell_type": "code",
   "execution_count": 18,
   "id": "709d10f2",
   "metadata": {},
   "outputs": [
    {
     "name": "stdout",
     "output_type": "stream",
     "text": [
      "[[74  1]\n",
      " [ 3  8]]\n"
     ]
    }
   ],
   "source": [
    "print(confusion_matrix(y_valid,pred))"
   ]
  },
  {
   "cell_type": "code",
   "execution_count": 19,
   "id": "a51801f8",
   "metadata": {},
   "outputs": [
    {
     "name": "stdout",
     "output_type": "stream",
     "text": [
      "              precision    recall  f1-score   support\n",
      "\n",
      "           0       0.96      0.99      0.97        75\n",
      "           1       0.89      0.73      0.80        11\n",
      "\n",
      "    accuracy                           0.95        86\n",
      "   macro avg       0.92      0.86      0.89        86\n",
      "weighted avg       0.95      0.95      0.95        86\n",
      "\n"
     ]
    }
   ],
   "source": [
    "print(classification_report(y_valid,pred))"
   ]
  },
  {
   "cell_type": "markdown",
   "id": "0f45b5cd",
   "metadata": {},
   "source": [
    "acceptable results"
   ]
  },
  {
   "cell_type": "markdown",
   "id": "b8620a53",
   "metadata": {},
   "source": [
    "## Choosing a K Value\n",
    "\n",
    "Let's use the elbow method to pick a good K Value"
   ]
  },
  {
   "cell_type": "code",
   "execution_count": 20,
   "id": "7176257f",
   "metadata": {},
   "outputs": [],
   "source": [
    "error_rate = []\n",
    "\n",
    "for i in range(1,20):\n",
    "    \n",
    "    knn = KNeighborsClassifier(n_neighbors=i)\n",
    "    knn.fit(x_train,y_train)\n",
    "    pred_i = knn.predict(x_valid)\n",
    "    error_rate.append(np.mean(pred_i != y_valid))"
   ]
  },
  {
   "cell_type": "code",
   "execution_count": 21,
   "id": "12028a87",
   "metadata": {},
   "outputs": [
    {
     "data": {
      "text/plain": [
       "Text(0, 0.5, 'Error Rate')"
      ]
     },
     "execution_count": 21,
     "metadata": {},
     "output_type": "execute_result"
    },
    {
     "data": {
      "image/png": "[encoded data removed]",
      "text/plain": [
       "<Figure size 720x432 with 1 Axes>"
      ]
     },
     "metadata": {
      "needs_background": "light"
     },
     "output_type": "display_data"
    }
   ],
   "source": [
    "plt.figure(figsize=(10,6))\n",
    "plt.plot(range(1,20),error_rate,color='blue', linestyle='dashed', marker='o',\n",
    "         markerfacecolor='red', markersize=10)\n",
    "plt.title('Error Rate vs. K Value')\n",
    "plt.xlabel('K')\n",
    "plt.ylabel('Error Rate')"
   ]
  },
  {
   "cell_type": "markdown",
   "id": "fb64dfed",
   "metadata": {},
   "source": [
    "Looks like we already chosen the best value of k , k=3\n",
    "\n",
    "Lets check out how our model performs on unseen data (test data)"
   ]
  },
  {
   "cell_type": "code",
   "execution_count": 22,
   "id": "cc1a17d4",
   "metadata": {},
   "outputs": [
    {
     "name": "stdout",
     "output_type": "stream",
     "text": [
      "\n",
      "\n",
      "[[74  1]\n",
      " [ 1 11]]\n",
      "\n",
      "\n",
      "              precision    recall  f1-score   support\n",
      "\n",
      "           0       0.99      0.99      0.99        75\n",
      "           1       0.92      0.92      0.92        12\n",
      "\n",
      "    accuracy                           0.98        87\n",
      "   macro avg       0.95      0.95      0.95        87\n",
      "weighted avg       0.98      0.98      0.98        87\n",
      "\n"
     ]
    }
   ],
   "source": [
    "knn = KNeighborsClassifier(n_neighbors=3)\n",
    "\n",
    "knn.fit(x_train,y_train)\n",
    "pred = knn.predict(x_test)\n",
    "\n",
    "print('\\n')\n",
    "print(confusion_matrix(y_test,pred))\n",
    "print('\\n')\n",
    "print(classification_report(y_test,pred))"
   ]
  },
  {
   "cell_type": "code",
   "execution_count": 23,
   "id": "04f3bc1c",
   "metadata": {},
   "outputs": [
    {
     "name": "stderr",
     "output_type": "stream",
     "text": [
      "C:\\Users\\Adel\\anaconda3\\lib\\site-packages\\sklearn\\utils\\deprecation.py:87: FutureWarning: Function plot_roc_curve is deprecated; Function :func:`plot_roc_curve` is deprecated in 1.0 and will be removed in 1.2. Use one of the class methods: :meth:`sklearn.metrics.RocCurveDisplay.from_predictions` or :meth:`sklearn.metrics.RocCurveDisplay.from_estimator`.\n",
      "  warnings.warn(msg, category=FutureWarning)\n"
     ]
    },
    {
     "data": {
      "image/png": "[encoded data removed]",
      "text/plain": [
       "<Figure size 432x288 with 1 Axes>"
      ]
     },
     "metadata": {
      "needs_background": "light"
     },
     "output_type": "display_data"
    }
   ],
   "source": [
    "from sklearn import metrics\n",
    "metrics.plot_roc_curve(knn, x_test, y_test)\n",
    "plt.show()"
   ]
  },
  {
   "cell_type": "markdown",
   "id": "811f288b",
   "metadata": {},
   "source": [
    "# Thank You"
   ]
  },
  {
   "cell_type": "code",
   "execution_count": null,
   "id": "2090ce58",
   "metadata": {},
   "outputs": [],
   "source": []
  }
 ],
 "metadata": {
  "kernelspec": {
   "display_name": "Python 3 (ipykernel)",
   "language": "python",
   "name": "python3"
  },
  "language_info": {
   "codemirror_mode": {
    "name": "ipython",
    "version": 3
   },
   "file_extension": ".py",
   "mimetype": "text/x-python",
   "name": "python",
   "nbconvert_exporter": "python",
   "pygments_lexer": "ipython3",
   "version": "3.8.5"
  }
 },
 "nbformat": 4,
 "nbformat_minor": 5
}
