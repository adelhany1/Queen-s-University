{
 "cells": [
  {
   "cell_type": "code",
   "execution_count": 1,
   "id": "9f6259be",
   "metadata": {},
   "outputs": [],
   "source": [
    "import numpy as np\n",
    "import pandas as pd"
   ]
  },
  {
   "cell_type": "code",
   "execution_count": 2,
   "id": "69e8d48f",
   "metadata": {},
   "outputs": [
    {
     "data": {
      "text/html": [
       "<div>\n",
       "<style scoped>\n",
       "    .dataframe tbody tr th:only-of-type {\n",
       "        vertical-align: middle;\n",
       "    }\n",
       "\n",
       "    .dataframe tbody tr th {\n",
       "        vertical-align: top;\n",
       "    }\n",
       "\n",
       "    .dataframe thead th {\n",
       "        text-align: right;\n",
       "    }\n",
       "</style>\n",
       "<table border=\"1\" class=\"dataframe\">\n",
       "  <thead>\n",
       "    <tr style=\"text-align: right;\">\n",
       "      <th></th>\n",
       "      <th>Date</th>\n",
       "      <th>Open</th>\n",
       "      <th>High</th>\n",
       "      <th>Low</th>\n",
       "      <th>Close</th>\n",
       "      <th>Adj Close</th>\n",
       "      <th>Volume</th>\n",
       "    </tr>\n",
       "  </thead>\n",
       "  <tbody>\n",
       "    <tr>\n",
       "      <th>248</th>\n",
       "      <td>2023-01-12</td>\n",
       "      <td>22.959999</td>\n",
       "      <td>23.110001</td>\n",
       "      <td>22.629999</td>\n",
       "      <td>22.770000</td>\n",
       "      <td>22.770000</td>\n",
       "      <td>428000</td>\n",
       "    </tr>\n",
       "    <tr>\n",
       "      <th>249</th>\n",
       "      <td>2023-01-13</td>\n",
       "      <td>22.799999</td>\n",
       "      <td>23.690001</td>\n",
       "      <td>22.799999</td>\n",
       "      <td>22.969999</td>\n",
       "      <td>22.969999</td>\n",
       "      <td>553500</td>\n",
       "    </tr>\n",
       "  </tbody>\n",
       "</table>\n",
       "</div>"
      ],
      "text/plain": [
       "           Date       Open       High        Low      Close  Adj Close  Volume\n",
       "248  2023-01-12  22.959999  23.110001  22.629999  22.770000  22.770000  428000\n",
       "249  2023-01-13  22.799999  23.690001  22.799999  22.969999  22.969999  553500"
      ]
     },
     "execution_count": 2,
     "metadata": {},
     "output_type": "execute_result"
    }
   ],
   "source": [
    "manu = pd.read_csv(\"D:/task/MANU.csv\")\n",
    "manu.tail(2)"
   ]
  },
  {
   "cell_type": "code",
   "execution_count": 3,
   "id": "4729df19",
   "metadata": {},
   "outputs": [
    {
     "data": {
      "text/html": [
       "<div>\n",
       "<style scoped>\n",
       "    .dataframe tbody tr th:only-of-type {\n",
       "        vertical-align: middle;\n",
       "    }\n",
       "\n",
       "    .dataframe tbody tr th {\n",
       "        vertical-align: top;\n",
       "    }\n",
       "\n",
       "    .dataframe thead th {\n",
       "        text-align: right;\n",
       "    }\n",
       "</style>\n",
       "<table border=\"1\" class=\"dataframe\">\n",
       "  <thead>\n",
       "    <tr style=\"text-align: right;\">\n",
       "      <th></th>\n",
       "      <th>Date</th>\n",
       "      <th>Open</th>\n",
       "      <th>High</th>\n",
       "      <th>Low</th>\n",
       "      <th>Close</th>\n",
       "      <th>Adj Close</th>\n",
       "      <th>Volume</th>\n",
       "    </tr>\n",
       "  </thead>\n",
       "  <tbody>\n",
       "    <tr>\n",
       "      <th>248</th>\n",
       "      <td>2023-01-12</td>\n",
       "      <td>1.34</td>\n",
       "      <td>1.48</td>\n",
       "      <td>1.26</td>\n",
       "      <td>1.47</td>\n",
       "      <td>1.47</td>\n",
       "      <td>5096100</td>\n",
       "    </tr>\n",
       "    <tr>\n",
       "      <th>249</th>\n",
       "      <td>2023-01-13</td>\n",
       "      <td>1.40</td>\n",
       "      <td>1.56</td>\n",
       "      <td>1.38</td>\n",
       "      <td>1.50</td>\n",
       "      <td>1.50</td>\n",
       "      <td>3296000</td>\n",
       "    </tr>\n",
       "  </tbody>\n",
       "</table>\n",
       "</div>"
      ],
      "text/plain": [
       "           Date  Open  High   Low  Close  Adj Close   Volume\n",
       "248  2023-01-12  1.34  1.48  1.26   1.47       1.47  5096100\n",
       "249  2023-01-13  1.40  1.56  1.38   1.50       1.50  3296000"
      ]
     },
     "execution_count": 3,
     "metadata": {},
     "output_type": "execute_result"
    }
   ],
   "source": [
    "real = pd.read_csv(\"D:/task/REAL.csv\")\n",
    "real.tail(2)"
   ]
  },
  {
   "cell_type": "code",
   "execution_count": 4,
   "id": "fa09f9c6",
   "metadata": {},
   "outputs": [
    {
     "data": {
      "text/html": [
       "<div>\n",
       "<style scoped>\n",
       "    .dataframe tbody tr th:only-of-type {\n",
       "        vertical-align: middle;\n",
       "    }\n",
       "\n",
       "    .dataframe tbody tr th {\n",
       "        vertical-align: top;\n",
       "    }\n",
       "\n",
       "    .dataframe thead th {\n",
       "        text-align: right;\n",
       "    }\n",
       "</style>\n",
       "<table border=\"1\" class=\"dataframe\">\n",
       "  <thead>\n",
       "    <tr style=\"text-align: right;\">\n",
       "      <th></th>\n",
       "      <th>Date</th>\n",
       "      <th>Open</th>\n",
       "      <th>High</th>\n",
       "      <th>Low</th>\n",
       "      <th>Close</th>\n",
       "      <th>Adj Close</th>\n",
       "      <th>Volume</th>\n",
       "    </tr>\n",
       "  </thead>\n",
       "  <tbody>\n",
       "    <tr>\n",
       "      <th>248</th>\n",
       "      <td>2023-01-12</td>\n",
       "      <td>96.93</td>\n",
       "      <td>97.190002</td>\n",
       "      <td>93.500000</td>\n",
       "      <td>95.269997</td>\n",
       "      <td>95.269997</td>\n",
       "      <td>85254800</td>\n",
       "    </tr>\n",
       "    <tr>\n",
       "      <th>249</th>\n",
       "      <td>2023-01-13</td>\n",
       "      <td>94.18</td>\n",
       "      <td>98.370003</td>\n",
       "      <td>94.120003</td>\n",
       "      <td>98.120003</td>\n",
       "      <td>98.120003</td>\n",
       "      <td>85413600</td>\n",
       "    </tr>\n",
       "  </tbody>\n",
       "</table>\n",
       "</div>"
      ],
      "text/plain": [
       "           Date   Open       High        Low      Close  Adj Close    Volume\n",
       "248  2023-01-12  96.93  97.190002  93.500000  95.269997  95.269997  85254800\n",
       "249  2023-01-13  94.18  98.370003  94.120003  98.120003  98.120003  85413600"
      ]
     },
     "execution_count": 4,
     "metadata": {},
     "output_type": "execute_result"
    }
   ],
   "source": [
    "amzn = pd.read_csv(\"D:/task/AMZN.csv\")\n",
    "amzn.tail(2)"
   ]
  },
  {
   "cell_type": "code",
   "execution_count": 5,
   "id": "e2a1c078",
   "metadata": {},
   "outputs": [
    {
     "data": {
      "text/html": [
       "<div>\n",
       "<style scoped>\n",
       "    .dataframe tbody tr th:only-of-type {\n",
       "        vertical-align: middle;\n",
       "    }\n",
       "\n",
       "    .dataframe tbody tr th {\n",
       "        vertical-align: top;\n",
       "    }\n",
       "\n",
       "    .dataframe thead th {\n",
       "        text-align: right;\n",
       "    }\n",
       "</style>\n",
       "<table border=\"1\" class=\"dataframe\">\n",
       "  <thead>\n",
       "    <tr style=\"text-align: right;\">\n",
       "      <th></th>\n",
       "      <th>Date</th>\n",
       "      <th>Open</th>\n",
       "      <th>High</th>\n",
       "      <th>Low</th>\n",
       "      <th>Close</th>\n",
       "      <th>Adj Close</th>\n",
       "      <th>Volume</th>\n",
       "    </tr>\n",
       "  </thead>\n",
       "  <tbody>\n",
       "    <tr>\n",
       "      <th>248</th>\n",
       "      <td>2023-01-12</td>\n",
       "      <td>235.259995</td>\n",
       "      <td>239.899994</td>\n",
       "      <td>233.559998</td>\n",
       "      <td>238.509995</td>\n",
       "      <td>238.509995</td>\n",
       "      <td>27269500</td>\n",
       "    </tr>\n",
       "    <tr>\n",
       "      <th>249</th>\n",
       "      <td>2023-01-13</td>\n",
       "      <td>237.000000</td>\n",
       "      <td>239.369995</td>\n",
       "      <td>234.919998</td>\n",
       "      <td>239.229996</td>\n",
       "      <td>239.229996</td>\n",
       "      <td>21317700</td>\n",
       "    </tr>\n",
       "  </tbody>\n",
       "</table>\n",
       "</div>"
      ],
      "text/plain": [
       "           Date        Open        High         Low       Close   Adj Close  \\\n",
       "248  2023-01-12  235.259995  239.899994  233.559998  238.509995  238.509995   \n",
       "249  2023-01-13  237.000000  239.369995  234.919998  239.229996  239.229996   \n",
       "\n",
       "       Volume  \n",
       "248  27269500  \n",
       "249  21317700  "
      ]
     },
     "execution_count": 5,
     "metadata": {},
     "output_type": "execute_result"
    }
   ],
   "source": [
    "microsoft = pd.read_csv(\"D:/task/MSFT.csv\")\n",
    "microsoft.tail(2)"
   ]
  },
  {
   "cell_type": "code",
   "execution_count": 6,
   "id": "79117ebc",
   "metadata": {},
   "outputs": [
    {
     "data": {
      "text/html": [
       "<div>\n",
       "<style scoped>\n",
       "    .dataframe tbody tr th:only-of-type {\n",
       "        vertical-align: middle;\n",
       "    }\n",
       "\n",
       "    .dataframe tbody tr th {\n",
       "        vertical-align: top;\n",
       "    }\n",
       "\n",
       "    .dataframe thead th {\n",
       "        text-align: right;\n",
       "    }\n",
       "</style>\n",
       "<table border=\"1\" class=\"dataframe\">\n",
       "  <thead>\n",
       "    <tr style=\"text-align: right;\">\n",
       "      <th></th>\n",
       "      <th>Date</th>\n",
       "      <th>Open</th>\n",
       "      <th>High</th>\n",
       "      <th>Low</th>\n",
       "      <th>Close</th>\n",
       "      <th>Adj Close</th>\n",
       "      <th>Volume</th>\n",
       "    </tr>\n",
       "  </thead>\n",
       "  <tbody>\n",
       "    <tr>\n",
       "      <th>248</th>\n",
       "      <td>2023-01-12</td>\n",
       "      <td>4.96</td>\n",
       "      <td>5.02</td>\n",
       "      <td>4.92</td>\n",
       "      <td>5.02</td>\n",
       "      <td>5.02</td>\n",
       "      <td>21659200</td>\n",
       "    </tr>\n",
       "    <tr>\n",
       "      <th>249</th>\n",
       "      <td>2023-01-13</td>\n",
       "      <td>5.00</td>\n",
       "      <td>5.04</td>\n",
       "      <td>4.99</td>\n",
       "      <td>5.03</td>\n",
       "      <td>5.03</td>\n",
       "      <td>11614700</td>\n",
       "    </tr>\n",
       "  </tbody>\n",
       "</table>\n",
       "</div>"
      ],
      "text/plain": [
       "           Date  Open  High   Low  Close  Adj Close    Volume\n",
       "248  2023-01-12  4.96  5.02  4.92   5.02       5.02  21659200\n",
       "249  2023-01-13  5.00  5.04  4.99   5.03       5.03  11614700"
      ]
     },
     "execution_count": 6,
     "metadata": {},
     "output_type": "execute_result"
    }
   ],
   "source": [
    "nokia = pd.read_csv(\"D:/task/NOK.csv\")\n",
    "nokia.tail(2)"
   ]
  },
  {
   "cell_type": "markdown",
   "id": "3e4720bf",
   "metadata": {},
   "source": [
    " # Adding the new column"
   ]
  },
  {
   "cell_type": "code",
   "execution_count": 7,
   "id": "ef42903a",
   "metadata": {},
   "outputs": [
    {
     "data": {
      "text/html": [
       "<div>\n",
       "<style scoped>\n",
       "    .dataframe tbody tr th:only-of-type {\n",
       "        vertical-align: middle;\n",
       "    }\n",
       "\n",
       "    .dataframe tbody tr th {\n",
       "        vertical-align: top;\n",
       "    }\n",
       "\n",
       "    .dataframe thead th {\n",
       "        text-align: right;\n",
       "    }\n",
       "</style>\n",
       "<table border=\"1\" class=\"dataframe\">\n",
       "  <thead>\n",
       "    <tr style=\"text-align: right;\">\n",
       "      <th></th>\n",
       "      <th>Date</th>\n",
       "      <th>Open</th>\n",
       "      <th>High</th>\n",
       "      <th>Low</th>\n",
       "      <th>Close</th>\n",
       "      <th>Adj Close</th>\n",
       "      <th>Volume</th>\n",
       "      <th>Ticker</th>\n",
       "    </tr>\n",
       "  </thead>\n",
       "  <tbody>\n",
       "    <tr>\n",
       "      <th>249</th>\n",
       "      <td>2023-01-13</td>\n",
       "      <td>22.799999</td>\n",
       "      <td>23.690001</td>\n",
       "      <td>22.799999</td>\n",
       "      <td>22.969999</td>\n",
       "      <td>22.969999</td>\n",
       "      <td>553500</td>\n",
       "      <td>manchesterunited</td>\n",
       "    </tr>\n",
       "  </tbody>\n",
       "</table>\n",
       "</div>"
      ],
      "text/plain": [
       "           Date       Open       High        Low      Close  Adj Close  \\\n",
       "249  2023-01-13  22.799999  23.690001  22.799999  22.969999  22.969999   \n",
       "\n",
       "     Volume            Ticker  \n",
       "249  553500  manchesterunited  "
      ]
     },
     "execution_count": 7,
     "metadata": {},
     "output_type": "execute_result"
    }
   ],
   "source": [
    "manu[\"Ticker\"] = \"manchesterunited\"\n",
    "manu.tail(1)"
   ]
  },
  {
   "cell_type": "code",
   "execution_count": 8,
   "id": "d0118bf7",
   "metadata": {},
   "outputs": [
    {
     "data": {
      "text/plain": [
       "array(['Date', 'Open', 'High', 'Low', 'Close', 'Adj Close', 'Volume',\n",
       "       'Ticker'], dtype=object)"
      ]
     },
     "execution_count": 8,
     "metadata": {},
     "output_type": "execute_result"
    }
   ],
   "source": [
    "manu.columns.values"
   ]
  },
  {
   "cell_type": "code",
   "execution_count": 9,
   "id": "00474027",
   "metadata": {},
   "outputs": [
    {
     "name": "stdout",
     "output_type": "stream",
     "text": [
      "(250, 8)\n"
     ]
    },
    {
     "data": {
      "text/html": [
       "<div>\n",
       "<style scoped>\n",
       "    .dataframe tbody tr th:only-of-type {\n",
       "        vertical-align: middle;\n",
       "    }\n",
       "\n",
       "    .dataframe tbody tr th {\n",
       "        vertical-align: top;\n",
       "    }\n",
       "\n",
       "    .dataframe thead th {\n",
       "        text-align: right;\n",
       "    }\n",
       "</style>\n",
       "<table border=\"1\" class=\"dataframe\">\n",
       "  <thead>\n",
       "    <tr style=\"text-align: right;\">\n",
       "      <th></th>\n",
       "      <th>Ticker</th>\n",
       "      <th>Date</th>\n",
       "      <th>Open</th>\n",
       "      <th>High</th>\n",
       "      <th>Low</th>\n",
       "      <th>Close</th>\n",
       "      <th>Adj Close</th>\n",
       "      <th>Volume</th>\n",
       "    </tr>\n",
       "  </thead>\n",
       "  <tbody>\n",
       "    <tr>\n",
       "      <th>249</th>\n",
       "      <td>manchesterunited</td>\n",
       "      <td>2023-01-13</td>\n",
       "      <td>22.799999</td>\n",
       "      <td>23.690001</td>\n",
       "      <td>22.799999</td>\n",
       "      <td>22.969999</td>\n",
       "      <td>22.969999</td>\n",
       "      <td>553500</td>\n",
       "    </tr>\n",
       "  </tbody>\n",
       "</table>\n",
       "</div>"
      ],
      "text/plain": [
       "               Ticker        Date       Open       High        Low      Close  \\\n",
       "249  manchesterunited  2023-01-13  22.799999  23.690001  22.799999  22.969999   \n",
       "\n",
       "     Adj Close  Volume  \n",
       "249  22.969999  553500  "
      ]
     },
     "execution_count": 9,
     "metadata": {},
     "output_type": "execute_result"
    }
   ],
   "source": [
    "manu= manu.loc[:,['Ticker','Date', 'Open', 'High', 'Low', 'Close', 'Adj Close', 'Volume']]\n",
    "print(manu.shape)\n",
    "manu.tail(1)"
   ]
  },
  {
   "cell_type": "code",
   "execution_count": 10,
   "id": "bd068466",
   "metadata": {},
   "outputs": [],
   "source": [
    "# manu.to_csv(\"D:/task/after edit/MANU.csv\" , index = False) if you want to save the new file"
   ]
  },
  {
   "cell_type": "markdown",
   "id": "0c821ec9",
   "metadata": {},
   "source": [
    "Repeat for all the files"
   ]
  },
  {
   "cell_type": "code",
   "execution_count": 11,
   "id": "619b9714",
   "metadata": {},
   "outputs": [
    {
     "name": "stdout",
     "output_type": "stream",
     "text": [
      "(250, 8)\n"
     ]
    },
    {
     "data": {
      "text/html": [
       "<div>\n",
       "<style scoped>\n",
       "    .dataframe tbody tr th:only-of-type {\n",
       "        vertical-align: middle;\n",
       "    }\n",
       "\n",
       "    .dataframe tbody tr th {\n",
       "        vertical-align: top;\n",
       "    }\n",
       "\n",
       "    .dataframe thead th {\n",
       "        text-align: right;\n",
       "    }\n",
       "</style>\n",
       "<table border=\"1\" class=\"dataframe\">\n",
       "  <thead>\n",
       "    <tr style=\"text-align: right;\">\n",
       "      <th></th>\n",
       "      <th>Ticker</th>\n",
       "      <th>Date</th>\n",
       "      <th>Open</th>\n",
       "      <th>High</th>\n",
       "      <th>Low</th>\n",
       "      <th>Close</th>\n",
       "      <th>Adj Close</th>\n",
       "      <th>Volume</th>\n",
       "    </tr>\n",
       "  </thead>\n",
       "  <tbody>\n",
       "    <tr>\n",
       "      <th>249</th>\n",
       "      <td>realmadrid</td>\n",
       "      <td>2023-01-13</td>\n",
       "      <td>1.4</td>\n",
       "      <td>1.56</td>\n",
       "      <td>1.38</td>\n",
       "      <td>1.5</td>\n",
       "      <td>1.5</td>\n",
       "      <td>3296000</td>\n",
       "    </tr>\n",
       "  </tbody>\n",
       "</table>\n",
       "</div>"
      ],
      "text/plain": [
       "         Ticker        Date  Open  High   Low  Close  Adj Close   Volume\n",
       "249  realmadrid  2023-01-13   1.4  1.56  1.38    1.5        1.5  3296000"
      ]
     },
     "execution_count": 11,
     "metadata": {},
     "output_type": "execute_result"
    }
   ],
   "source": [
    "real[\"Ticker\"] = \"realmadrid\"\n",
    "real= real.loc[:,['Ticker','Date', 'Open', 'High', 'Low', 'Close', 'Adj Close', 'Volume']]\n",
    "#real.to_csv(\"D:/task/after edit/real.csv\" , index = False)\n",
    "print(real.shape)\n",
    "real.tail(1)"
   ]
  },
  {
   "cell_type": "code",
   "execution_count": 12,
   "id": "71a26d10",
   "metadata": {},
   "outputs": [
    {
     "name": "stdout",
     "output_type": "stream",
     "text": [
      "(250, 8)\n"
     ]
    },
    {
     "data": {
      "text/html": [
       "<div>\n",
       "<style scoped>\n",
       "    .dataframe tbody tr th:only-of-type {\n",
       "        vertical-align: middle;\n",
       "    }\n",
       "\n",
       "    .dataframe tbody tr th {\n",
       "        vertical-align: top;\n",
       "    }\n",
       "\n",
       "    .dataframe thead th {\n",
       "        text-align: right;\n",
       "    }\n",
       "</style>\n",
       "<table border=\"1\" class=\"dataframe\">\n",
       "  <thead>\n",
       "    <tr style=\"text-align: right;\">\n",
       "      <th></th>\n",
       "      <th>Ticker</th>\n",
       "      <th>Date</th>\n",
       "      <th>Open</th>\n",
       "      <th>High</th>\n",
       "      <th>Low</th>\n",
       "      <th>Close</th>\n",
       "      <th>Adj Close</th>\n",
       "      <th>Volume</th>\n",
       "    </tr>\n",
       "  </thead>\n",
       "  <tbody>\n",
       "    <tr>\n",
       "      <th>249</th>\n",
       "      <td>amazon</td>\n",
       "      <td>2023-01-13</td>\n",
       "      <td>94.18</td>\n",
       "      <td>98.370003</td>\n",
       "      <td>94.120003</td>\n",
       "      <td>98.120003</td>\n",
       "      <td>98.120003</td>\n",
       "      <td>85413600</td>\n",
       "    </tr>\n",
       "  </tbody>\n",
       "</table>\n",
       "</div>"
      ],
      "text/plain": [
       "     Ticker        Date   Open       High        Low      Close  Adj Close  \\\n",
       "249  amazon  2023-01-13  94.18  98.370003  94.120003  98.120003  98.120003   \n",
       "\n",
       "       Volume  \n",
       "249  85413600  "
      ]
     },
     "execution_count": 12,
     "metadata": {},
     "output_type": "execute_result"
    }
   ],
   "source": [
    "amzn[\"Ticker\"] = \"amazon\"\n",
    "amzn= amzn.loc[:,['Ticker','Date', 'Open', 'High', 'Low', 'Close', 'Adj Close', 'Volume']]\n",
    "#amzn.to_csv(\"D:/task/after edit/amzn.csv\" , index = False)\n",
    "print(amzn.shape)\n",
    "amzn.tail(1)"
   ]
  },
  {
   "cell_type": "code",
   "execution_count": 13,
   "id": "ed903467",
   "metadata": {
    "scrolled": true
   },
   "outputs": [
    {
     "name": "stdout",
     "output_type": "stream",
     "text": [
      "(250, 8)\n"
     ]
    },
    {
     "data": {
      "text/html": [
       "<div>\n",
       "<style scoped>\n",
       "    .dataframe tbody tr th:only-of-type {\n",
       "        vertical-align: middle;\n",
       "    }\n",
       "\n",
       "    .dataframe tbody tr th {\n",
       "        vertical-align: top;\n",
       "    }\n",
       "\n",
       "    .dataframe thead th {\n",
       "        text-align: right;\n",
       "    }\n",
       "</style>\n",
       "<table border=\"1\" class=\"dataframe\">\n",
       "  <thead>\n",
       "    <tr style=\"text-align: right;\">\n",
       "      <th></th>\n",
       "      <th>Ticker</th>\n",
       "      <th>Date</th>\n",
       "      <th>Open</th>\n",
       "      <th>High</th>\n",
       "      <th>Low</th>\n",
       "      <th>Close</th>\n",
       "      <th>Adj Close</th>\n",
       "      <th>Volume</th>\n",
       "    </tr>\n",
       "  </thead>\n",
       "  <tbody>\n",
       "    <tr>\n",
       "      <th>249</th>\n",
       "      <td>microsoft</td>\n",
       "      <td>2023-01-13</td>\n",
       "      <td>237.0</td>\n",
       "      <td>239.369995</td>\n",
       "      <td>234.919998</td>\n",
       "      <td>239.229996</td>\n",
       "      <td>239.229996</td>\n",
       "      <td>21317700</td>\n",
       "    </tr>\n",
       "  </tbody>\n",
       "</table>\n",
       "</div>"
      ],
      "text/plain": [
       "        Ticker        Date   Open        High         Low       Close  \\\n",
       "249  microsoft  2023-01-13  237.0  239.369995  234.919998  239.229996   \n",
       "\n",
       "      Adj Close    Volume  \n",
       "249  239.229996  21317700  "
      ]
     },
     "execution_count": 13,
     "metadata": {},
     "output_type": "execute_result"
    }
   ],
   "source": [
    "microsoft[\"Ticker\"] = \"microsoft\"\n",
    "microsoft= microsoft.loc[:,['Ticker','Date', 'Open', 'High', 'Low', 'Close', 'Adj Close', 'Volume']]\n",
    "#microsoft.to_csv(\"D:/task/after edit/microsoft.csv\" , index = False)\n",
    "print(microsoft.shape)\n",
    "microsoft.tail(1)"
   ]
  },
  {
   "cell_type": "code",
   "execution_count": 14,
   "id": "90289554",
   "metadata": {
    "scrolled": true
   },
   "outputs": [
    {
     "name": "stdout",
     "output_type": "stream",
     "text": [
      "(250, 8)\n"
     ]
    },
    {
     "data": {
      "text/html": [
       "<div>\n",
       "<style scoped>\n",
       "    .dataframe tbody tr th:only-of-type {\n",
       "        vertical-align: middle;\n",
       "    }\n",
       "\n",
       "    .dataframe tbody tr th {\n",
       "        vertical-align: top;\n",
       "    }\n",
       "\n",
       "    .dataframe thead th {\n",
       "        text-align: right;\n",
       "    }\n",
       "</style>\n",
       "<table border=\"1\" class=\"dataframe\">\n",
       "  <thead>\n",
       "    <tr style=\"text-align: right;\">\n",
       "      <th></th>\n",
       "      <th>Ticker</th>\n",
       "      <th>Date</th>\n",
       "      <th>Open</th>\n",
       "      <th>High</th>\n",
       "      <th>Low</th>\n",
       "      <th>Close</th>\n",
       "      <th>Adj Close</th>\n",
       "      <th>Volume</th>\n",
       "    </tr>\n",
       "  </thead>\n",
       "  <tbody>\n",
       "    <tr>\n",
       "      <th>249</th>\n",
       "      <td>nokia</td>\n",
       "      <td>2023-01-13</td>\n",
       "      <td>5.0</td>\n",
       "      <td>5.04</td>\n",
       "      <td>4.99</td>\n",
       "      <td>5.03</td>\n",
       "      <td>5.03</td>\n",
       "      <td>11614700</td>\n",
       "    </tr>\n",
       "  </tbody>\n",
       "</table>\n",
       "</div>"
      ],
      "text/plain": [
       "    Ticker        Date  Open  High   Low  Close  Adj Close    Volume\n",
       "249  nokia  2023-01-13   5.0  5.04  4.99   5.03       5.03  11614700"
      ]
     },
     "execution_count": 14,
     "metadata": {},
     "output_type": "execute_result"
    }
   ],
   "source": [
    "nokia[\"Ticker\"] = \"nokia\"\n",
    "nokia= nokia.loc[:,['Ticker','Date', 'Open', 'High', 'Low', 'Close', 'Adj Close', 'Volume']]\n",
    "# nokia.to_csv(\"D:/task/after edit/nokia.csv\" , index = False)\n",
    "print(nokia.shape)\n",
    "nokia.tail(1)"
   ]
  },
  {
   "cell_type": "markdown",
   "id": "9a2da043",
   "metadata": {},
   "source": [
    "Merge the Files"
   ]
  },
  {
   "cell_type": "code",
   "execution_count": 15,
   "id": "09d7f140",
   "metadata": {},
   "outputs": [],
   "source": [
    "stock = pd.concat([manu,real,amzn,microsoft,nokia])"
   ]
  },
  {
   "cell_type": "code",
   "execution_count": 20,
   "id": "d6877dbf",
   "metadata": {
    "scrolled": true
   },
   "outputs": [
    {
     "name": "stdout",
     "output_type": "stream",
     "text": [
      "(1250, 8)\n"
     ]
    },
    {
     "data": {
      "text/html": [
       "<div>\n",
       "<style scoped>\n",
       "    .dataframe tbody tr th:only-of-type {\n",
       "        vertical-align: middle;\n",
       "    }\n",
       "\n",
       "    .dataframe tbody tr th {\n",
       "        vertical-align: top;\n",
       "    }\n",
       "\n",
       "    .dataframe thead th {\n",
       "        text-align: right;\n",
       "    }\n",
       "</style>\n",
       "<table border=\"1\" class=\"dataframe\">\n",
       "  <thead>\n",
       "    <tr style=\"text-align: right;\">\n",
       "      <th></th>\n",
       "      <th>Ticker</th>\n",
       "      <th>Date</th>\n",
       "      <th>Open</th>\n",
       "      <th>High</th>\n",
       "      <th>Low</th>\n",
       "      <th>Close</th>\n",
       "      <th>Adj Close</th>\n",
       "      <th>Volume</th>\n",
       "    </tr>\n",
       "  </thead>\n",
       "  <tbody>\n",
       "    <tr>\n",
       "      <th>0</th>\n",
       "      <td>manchesterunited</td>\n",
       "      <td>2022-01-18</td>\n",
       "      <td>14.08</td>\n",
       "      <td>14.39</td>\n",
       "      <td>14.04</td>\n",
       "      <td>14.06</td>\n",
       "      <td>13.959412</td>\n",
       "      <td>363600</td>\n",
       "    </tr>\n",
       "  </tbody>\n",
       "</table>\n",
       "</div>"
      ],
      "text/plain": [
       "             Ticker        Date   Open   High    Low  Close  Adj Close  Volume\n",
       "0  manchesterunited  2022-01-18  14.08  14.39  14.04  14.06  13.959412  363600"
      ]
     },
     "execution_count": 20,
     "metadata": {},
     "output_type": "execute_result"
    }
   ],
   "source": [
    "print(stock.shape)  # each file is 250 row, 250*5=1250\n",
    "stock.head(1)"
   ]
  },
  {
   "cell_type": "code",
   "execution_count": 22,
   "id": "a9812365",
   "metadata": {},
   "outputs": [
    {
     "data": {
      "text/html": [
       "<div>\n",
       "<style scoped>\n",
       "    .dataframe tbody tr th:only-of-type {\n",
       "        vertical-align: middle;\n",
       "    }\n",
       "\n",
       "    .dataframe tbody tr th {\n",
       "        vertical-align: top;\n",
       "    }\n",
       "\n",
       "    .dataframe thead th {\n",
       "        text-align: right;\n",
       "    }\n",
       "</style>\n",
       "<table border=\"1\" class=\"dataframe\">\n",
       "  <thead>\n",
       "    <tr style=\"text-align: right;\">\n",
       "      <th></th>\n",
       "      <th>Ticker</th>\n",
       "      <th>Date</th>\n",
       "      <th>Open</th>\n",
       "      <th>High</th>\n",
       "      <th>Low</th>\n",
       "      <th>Close</th>\n",
       "      <th>Adj Close</th>\n",
       "      <th>Volume</th>\n",
       "    </tr>\n",
       "  </thead>\n",
       "  <tbody>\n",
       "    <tr>\n",
       "      <th>249</th>\n",
       "      <td>nokia</td>\n",
       "      <td>2023-01-13</td>\n",
       "      <td>5.0</td>\n",
       "      <td>5.04</td>\n",
       "      <td>4.99</td>\n",
       "      <td>5.03</td>\n",
       "      <td>5.03</td>\n",
       "      <td>11614700</td>\n",
       "    </tr>\n",
       "  </tbody>\n",
       "</table>\n",
       "</div>"
      ],
      "text/plain": [
       "    Ticker        Date  Open  High   Low  Close  Adj Close    Volume\n",
       "249  nokia  2023-01-13   5.0  5.04  4.99   5.03       5.03  11614700"
      ]
     },
     "execution_count": 22,
     "metadata": {},
     "output_type": "execute_result"
    }
   ],
   "source": [
    "stock.tail(1)"
   ]
  },
  {
   "cell_type": "code",
   "execution_count": 17,
   "id": "141e8d3b",
   "metadata": {},
   "outputs": [],
   "source": [
    "stock.to_csv(\"D:/task/stock.csv\" , index = False)"
   ]
  },
  {
   "cell_type": "code",
   "execution_count": null,
   "id": "21c1350c",
   "metadata": {},
   "outputs": [],
   "source": []
  }
 ],
 "metadata": {
  "kernelspec": {
   "display_name": "Python 3 (ipykernel)",
   "language": "python",
   "name": "python3"
  },
  "language_info": {
   "codemirror_mode": {
    "name": "ipython",
    "version": 3
   },
   "file_extension": ".py",
   "mimetype": "text/x-python",
   "name": "python",
   "nbconvert_exporter": "python",
   "pygments_lexer": "ipython3",
   "version": "3.9.15"
  }
 },
 "nbformat": 4,
 "nbformat_minor": 5
}
