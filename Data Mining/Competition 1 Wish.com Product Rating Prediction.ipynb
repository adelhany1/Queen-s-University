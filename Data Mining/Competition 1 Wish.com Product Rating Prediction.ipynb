{
 "cells": [
  {
   "cell_type": "markdown",
   "id": "c4563be1",
   "metadata": {},
   "source": [
    "# CISC-873-DM-W23-A1 A1\n",
    "\n",
    "# Wish.com Product Rating Prediction\n",
    "\n",
    "https://www.kaggle.com/competitions/cisc-873-dm-w23-a1"
   ]
  },
  {
   "cell_type": "markdown",
   "id": "ee75e3b6",
   "metadata": {},
   "source": [
    "# Introduction\n",
    "\n",
    "This dataset comes from wish.com and this is an American online E-commerce platform for transactions between sellers and buyers.\n",
    "\n",
    "We have some features collected by their rating and based on this information we need to predict the rating of a new product."
   ]
  },
  {
   "cell_type": "markdown",
   "id": "b34181d4",
   "metadata": {},
   "source": [
    "## 1- Problem Formulation\n",
    "\n",
    "###  Define the problem  ?\n",
    "The problem is to creat a model that can predict the rating of the products before selling it to the customers to know how they will react about it so we could increase the returned profit, we have some data collecting from multible resources and this data have some noise and outlier, we need to clean this data to sure that model can correctly predict the rating of the product before the client do that.\n",
    "\n",
    "###  What is the input ? \n",
    "We have 32 feature some of them information about product and other is information about merchant from wish.com, there are some unimportant information we will drop them.\n",
    "\n",
    "###  What is the output?\n",
    "Rating of the products.\n",
    "\n",
    "###  What data mining function is required ?\n",
    "The model is classification model. Classification is a predictive mining function. A classification model uses historical data to predict a categorical target.\n",
    "###  What could be the challenges ?\n",
    "The challenges are implementing effective preprocessing measures and selecting features that optimize our prediction.\n",
    "\n",
    "###  What is the impact ?\n",
    "The impact is to obtain the rating to predict and classify the right rating for each model so we could increase the returned profit.\n",
    "\n",
    "###  What is an ideal solution ?\n",
    "The ideal solution is build model that can predict the rating without any mistakes with 100% accuracy. Making appropriate preprocessing on the dataset and take the columns that will help the model to predict the right rating. And ofcourse choosing the best model to do the job."
   ]
  },
  {
   "cell_type": "markdown",
   "id": "d417b2b4",
   "metadata": {},
   "source": [
    "# Answering the questions briefly:\n",
    "\n",
    "🌈 Why Data Mining is a misnomer? What is another preferred name?\n",
    "- The term \"data mining\" is a misnomer, because the goal is the extraction of patterns and knowledge from large amounts of data, not the extraction (mining) of data itself and anather preferred name is KDD(knowledge discovery in databases)\n",
    "\n",
    "🌈 What is the general knowledge discovery process? What is the difference between a data engineer and data scientist/AI engineer?\n",
    "\n",
    "1: \n",
    "\n",
    "- \"knowledge discovery from data\" (KDD) refers to the general process of extracting usable information from data.\n",
    "\n",
    "- KDD is a multi-step process involving data preparation, pattern searching, knowledge evaluation, and refinement with iteration after modification.\n",
    "\n",
    "- KDD refers to the overall process of discovering useful knowledge from data. It involves the evaluation and possibly interpretation of the patterns to make the decision of what qualifies as knowledge. It also includes the choice of encoding schemes, preprocessing, sampling, and projections of the data prior to the data mining step\n",
    "\n",
    "\n",
    "2:\n",
    "\n",
    "- A machine learning engineer: Is a software engineer who focuses on building machine learning models. Usually these people are plugging their work into a product. For example, they might be picking which ads to show a person or detecting spam.\n",
    "\n",
    " \n",
    "- *The main difference between Data Engineers and Data Scientists is one of focus. While Data Engineers are involved in building the infrastructure and architecture for data generation, Data Scientists are mainly concerned with performing advanced mathematics and statistical analysis on the collected data. \n",
    "\n",
    "- A data engineer: Is a software engineer who focuses on building infrastructure for working with data. This can be building data pipelines, visualizations, or statistical tools; processing logs; or figuring out how to store and access all the stuff you’ve accumulated.\n",
    "\n",
    "\n",
    "- Data Scientists: Are more focused on finding answers to crucial business questions such as optimizing business operations, reducing costs, improving customer experience, etc. Using the data format offered by Data Engineers, Data Scientists ask relevant questions, find hidden patterns, hypothesize, and then reach fitting conclusions. \n",
    "\n",
    "🌈 In data mining, what is the difference between prediction and categorization?\n",
    "\n",
    "categorization models predict categorical class labels; and prediction models predict continuous valued functions. For example, we can build a classification model to categorize bank loan applications as either safe or risky, or a prediction model to predict the expenditures in dollars of potential customers on computer equipment given their income and occupation.\n",
    "\n",
    "🌈 Why data science/machine learning is a bad idea in the context of information security?\n",
    "\n",
    "Machine learning was not designed with security in mind and as such is prone to adversarial manipulation and reverse engineering. While most data based learning models rely on a static assumption of the world, the security landscape is one that is especially dynamic, with an ongoing never ending arms race between the system designer and the attackers. Any solution designed for such a domain needs to take into account an active adversary  and needs to evolve over time, in the face of emerging threats. We term this as the \"Dynamic Adversarial Mining\" problem.\n",
    "\n",
    "🌈 What is CIA principle and how can we use it to access the security/privacy aspect of the AI system/pipelines?\n",
    "\n",
    "1-\n",
    "\n",
    "The CIA triad refers to an information security model made up of the three main components: confidentiality, integrity and availability\n",
    "\n",
    "- Confidentiality: This component is often associated with secrecy and the use of encryption. \n",
    "if break confidentiality this mean sensitive information get disclosure to people that don't have authorization to access data \n",
    "\n",
    "- Integrity: Data integrity refers to the certainty that the data is not tampered with or degraded during or after submission.\n",
    "if break integrity that mean data corruption, data has been modified ,by attacker they spy on the original data\n",
    "\n",
    "- Availability: This means that the information is available to authorized users when it is needed\n",
    "if break availability means data don't be accessible\n",
    "\n",
    "2-\n",
    "\n",
    "How can we use it to access the security/privacy aspect of the AI system/pipelines\n",
    "\n",
    "\n",
    "Apply CIA to Data flow \n",
    "\n",
    "integrity :( adversial samples ): by manipulate  the behavior of the model, in up to serve model you have some fake sample and we try to check the model to predict something is incorrect.\n",
    "\n",
    "1. By continuously monitoring data frameworks for anomalies or breaches, machine learning algorithms can effectively detect and deter threats. The ability of machine learning to process data in real-time is highly useful as it allows the detection of threats, insider breaches and malware as it occurs, preventing huge losses.\n",
    "\n",
    "2. encryption is the process by which machine learning algorithms perform computations on existing encrypted data without having to decrypt it. The added perk of this process is that the results generated are also in ciphertext but, when decrypted, show the same results as they would have if the operation was performed on decrypted data.\n",
    "\n",
    "3. Evading Hacker Attacks: By using methodologies like behaviour analytics and pattern recognition, machine learning can help prevent data breaches well in advance– a change from scrambling to recover losses after a breach. It helps organisations be one step ahead of hackers to offset potential attacks and strengthen protection beforehand.\n",
    "\n",
    "4. Facilitating Endpoint Security, Machine learning can be used to train endpoint security setups in identifying anomalies and malicious activities based on what it has already experienced and flagged. Since machine learning thrives on volumes and larger datasets, endpoint security can be continuously strengthened against newer threats based on past data and repositories"
   ]
  },
  {
   "cell_type": "markdown",
   "id": "bda36ed0",
   "metadata": {},
   "source": [
    "## Data information \n",
    "- price: price you would pay to get the product\n",
    "\n",
    "- retail_price: reference price for similar articles on the market, or in other stores/places. Used by the seller to indicate a regular value or the price before discount.\n",
    "\n",
    "- currency_buyer: currency of the prices\n",
    "\n",
    "- units_sold: Number of units sold. Lower bound approximation by steps\n",
    "\n",
    "- uses_ad_boosts: Whether the seller paid to boost his product within the platform (highlighting, better placement or whatever)\n",
    "\n",
    "- rating: Mean product rating\n",
    "\n",
    "- rating_count: Total number of ratings of the product\n",
    "\n",
    "- badges_count: Number of badges the product or the seller have\n",
    "\n",
    "- badge_product_quality: is quality product\n",
    "\n",
    "- badge_fast_shipping: support fast shipping\n",
    "\n",
    "- tags: tags set by the seller\n",
    "\n",
    "- product_color: Product's main color\n",
    "\n",
    "- product_variation_size_id: One of the available size variation for this product\n",
    "\n",
    "- product_variation_inventory: Inventory the seller has. Max allowed quantity is 50\n",
    "\n",
    "- shipping_option_price: shipping price\n",
    "\n",
    "- has_urgency_banner: whether there was an urgency banner with an urgency\n",
    "\n",
    "- merchant_info_subtitle: The subtitle text as shown on a seller's info section to the user. (raw, not preprocessed). The website shows this to the user to give an overview of the seller's stats to the user. Mostly consists of % <positive_feedbacks> (<rating_count> reviews) written in french\n",
    "\n",
    "- merchant_id: merchant unique id"
   ]
  },
  {
   "cell_type": "markdown",
   "id": "c617cd06",
   "metadata": {},
   "source": [
    "# Import the libraries and see the data"
   ]
  },
  {
   "cell_type": "code",
   "execution_count": 1,
   "id": "a512c7f2",
   "metadata": {},
   "outputs": [],
   "source": [
    "import numpy as np\n",
    "import pandas as pd\n",
    "import matplotlib.pyplot as plt\n",
    "import seaborn as sns\n",
    "import scipy.stats as stats\n",
    "from sklearn.model_selection import train_test_split\n",
    "from sklearn.feature_selection import SequentialFeatureSelector as SFS\n",
    "from sklearn.ensemble import RandomForestClassifier\n",
    "from sklearn.metrics import classification_report, confusion_matrix\n",
    "from sklearn.svm import SVC\n",
    "from sklearn.model_selection import GridSearchCV, RandomizedSearchCV\n",
    "\n",
    "pd.set_option('display.max_columns', None)\n",
    "import warnings\n",
    "warnings.filterwarnings('ignore')"
   ]
  },
  {
   "cell_type": "code",
   "execution_count": 2,
   "id": "64d30bd5",
   "metadata": {},
   "outputs": [
    {
     "data": {
      "text/html": [
       "<div>\n",
       "<style scoped>\n",
       "    .dataframe tbody tr th:only-of-type {\n",
       "        vertical-align: middle;\n",
       "    }\n",
       "\n",
       "    .dataframe tbody tr th {\n",
       "        vertical-align: top;\n",
       "    }\n",
       "\n",
       "    .dataframe thead th {\n",
       "        text-align: right;\n",
       "    }\n",
       "</style>\n",
       "<table border=\"1\" class=\"dataframe\">\n",
       "  <thead>\n",
       "    <tr style=\"text-align: right;\">\n",
       "      <th></th>\n",
       "      <th>price</th>\n",
       "      <th>retail_price</th>\n",
       "      <th>currency_buyer</th>\n",
       "      <th>units_sold</th>\n",
       "      <th>uses_ad_boosts</th>\n",
       "      <th>rating</th>\n",
       "      <th>rating_count</th>\n",
       "      <th>badges_count</th>\n",
       "      <th>badge_local_product</th>\n",
       "      <th>badge_product_quality</th>\n",
       "      <th>badge_fast_shipping</th>\n",
       "      <th>tags</th>\n",
       "      <th>product_color</th>\n",
       "      <th>product_variation_size_id</th>\n",
       "      <th>product_variation_inventory</th>\n",
       "      <th>shipping_option_name</th>\n",
       "      <th>shipping_option_price</th>\n",
       "      <th>shipping_is_express</th>\n",
       "      <th>countries_shipped_to</th>\n",
       "      <th>inventory_total</th>\n",
       "      <th>has_urgency_banner</th>\n",
       "      <th>urgency_text</th>\n",
       "      <th>origin_country</th>\n",
       "      <th>merchant_title</th>\n",
       "      <th>merchant_name</th>\n",
       "      <th>merchant_info_subtitle</th>\n",
       "      <th>merchant_rating_count</th>\n",
       "      <th>merchant_rating</th>\n",
       "      <th>merchant_id</th>\n",
       "      <th>merchant_has_profile_picture</th>\n",
       "      <th>merchant_profile_picture</th>\n",
       "      <th>theme</th>\n",
       "      <th>crawl_month</th>\n",
       "      <th>id</th>\n",
       "    </tr>\n",
       "  </thead>\n",
       "  <tbody>\n",
       "    <tr>\n",
       "      <th>0</th>\n",
       "      <td>8.0</td>\n",
       "      <td>7</td>\n",
       "      <td>EUR</td>\n",
       "      <td>10000</td>\n",
       "      <td>1</td>\n",
       "      <td>4.0</td>\n",
       "      <td>1670</td>\n",
       "      <td>0</td>\n",
       "      <td>0</td>\n",
       "      <td>0</td>\n",
       "      <td>0</td>\n",
       "      <td>Summer,soildcolor,Plus Size,Tank,camisole,Tops...</td>\n",
       "      <td>yellow</td>\n",
       "      <td>M</td>\n",
       "      <td>50</td>\n",
       "      <td>Livraison standard</td>\n",
       "      <td>3</td>\n",
       "      <td>0</td>\n",
       "      <td>30</td>\n",
       "      <td>50</td>\n",
       "      <td>NaN</td>\n",
       "      <td>NaN</td>\n",
       "      <td>CN</td>\n",
       "      <td>keepahorse</td>\n",
       "      <td>keepahorse</td>\n",
       "      <td>88 % avis positifs (66,644 notes)</td>\n",
       "      <td>66644</td>\n",
       "      <td>4.137582</td>\n",
       "      <td>577fb2b368116418674befd9</td>\n",
       "      <td>1</td>\n",
       "      <td>https://s3-us-west-1.amazonaws.com/sweeper-pro...</td>\n",
       "      <td>summer</td>\n",
       "      <td>2020-08</td>\n",
       "      <td>272</td>\n",
       "    </tr>\n",
       "    <tr>\n",
       "      <th>1</th>\n",
       "      <td>8.0</td>\n",
       "      <td>7</td>\n",
       "      <td>EUR</td>\n",
       "      <td>1000</td>\n",
       "      <td>0</td>\n",
       "      <td>4.0</td>\n",
       "      <td>843</td>\n",
       "      <td>1</td>\n",
       "      <td>1</td>\n",
       "      <td>0</td>\n",
       "      <td>0</td>\n",
       "      <td>bathing suit,Plus Size,bikini set,sexy swimsui...</td>\n",
       "      <td>black</td>\n",
       "      <td>L</td>\n",
       "      <td>50</td>\n",
       "      <td>Livraison standard</td>\n",
       "      <td>3</td>\n",
       "      <td>0</td>\n",
       "      <td>37</td>\n",
       "      <td>50</td>\n",
       "      <td>NaN</td>\n",
       "      <td>NaN</td>\n",
       "      <td>CN</td>\n",
       "      <td>shanghaimingqidianqikejiyouxiangongsi</td>\n",
       "      <td>上海铭启电气科技有限公司</td>\n",
       "      <td>91 % avis positifs (25,752 notes)</td>\n",
       "      <td>25752</td>\n",
       "      <td>4.256873</td>\n",
       "      <td>566a3ef17233ff2686443082</td>\n",
       "      <td>0</td>\n",
       "      <td>NaN</td>\n",
       "      <td>summer</td>\n",
       "      <td>2020-08</td>\n",
       "      <td>1515</td>\n",
       "    </tr>\n",
       "    <tr>\n",
       "      <th>2</th>\n",
       "      <td>6.0</td>\n",
       "      <td>34</td>\n",
       "      <td>EUR</td>\n",
       "      <td>100</td>\n",
       "      <td>0</td>\n",
       "      <td>4.0</td>\n",
       "      <td>10</td>\n",
       "      <td>0</td>\n",
       "      <td>0</td>\n",
       "      <td>0</td>\n",
       "      <td>0</td>\n",
       "      <td>Summer,Vest,momshirt,Get,summer t-shirts,funny...</td>\n",
       "      <td>white</td>\n",
       "      <td>L</td>\n",
       "      <td>50</td>\n",
       "      <td>Livraison standard</td>\n",
       "      <td>2</td>\n",
       "      <td>0</td>\n",
       "      <td>41</td>\n",
       "      <td>50</td>\n",
       "      <td>NaN</td>\n",
       "      <td>NaN</td>\n",
       "      <td>CN</td>\n",
       "      <td>zhaodongmei</td>\n",
       "      <td>zhaodongmei</td>\n",
       "      <td>83 % avis positifs (3,897 notes)</td>\n",
       "      <td>3897</td>\n",
       "      <td>3.928920</td>\n",
       "      <td>5aacd6c1ccf0c83e5a6f3de0</td>\n",
       "      <td>0</td>\n",
       "      <td>NaN</td>\n",
       "      <td>summer</td>\n",
       "      <td>2020-08</td>\n",
       "      <td>940</td>\n",
       "    </tr>\n",
       "  </tbody>\n",
       "</table>\n",
       "</div>"
      ],
      "text/plain": [
       "   price  retail_price currency_buyer  units_sold  uses_ad_boosts  rating  \\\n",
       "0    8.0             7            EUR       10000               1     4.0   \n",
       "1    8.0             7            EUR        1000               0     4.0   \n",
       "2    6.0            34            EUR         100               0     4.0   \n",
       "\n",
       "   rating_count  badges_count  badge_local_product  badge_product_quality  \\\n",
       "0          1670             0                    0                      0   \n",
       "1           843             1                    1                      0   \n",
       "2            10             0                    0                      0   \n",
       "\n",
       "   badge_fast_shipping                                               tags  \\\n",
       "0                    0  Summer,soildcolor,Plus Size,Tank,camisole,Tops...   \n",
       "1                    0  bathing suit,Plus Size,bikini set,sexy swimsui...   \n",
       "2                    0  Summer,Vest,momshirt,Get,summer t-shirts,funny...   \n",
       "\n",
       "  product_color product_variation_size_id  product_variation_inventory  \\\n",
       "0        yellow                         M                           50   \n",
       "1         black                         L                           50   \n",
       "2         white                         L                           50   \n",
       "\n",
       "  shipping_option_name  shipping_option_price  shipping_is_express  \\\n",
       "0   Livraison standard                      3                    0   \n",
       "1   Livraison standard                      3                    0   \n",
       "2   Livraison standard                      2                    0   \n",
       "\n",
       "   countries_shipped_to  inventory_total  has_urgency_banner urgency_text  \\\n",
       "0                    30               50                 NaN          NaN   \n",
       "1                    37               50                 NaN          NaN   \n",
       "2                    41               50                 NaN          NaN   \n",
       "\n",
       "  origin_country                         merchant_title merchant_name  \\\n",
       "0             CN                             keepahorse    keepahorse   \n",
       "1             CN  shanghaimingqidianqikejiyouxiangongsi  上海铭启电气科技有限公司   \n",
       "2             CN                            zhaodongmei   zhaodongmei   \n",
       "\n",
       "              merchant_info_subtitle  merchant_rating_count  merchant_rating  \\\n",
       "0  88 % avis positifs (66,644 notes)                  66644         4.137582   \n",
       "1  91 % avis positifs (25,752 notes)                  25752         4.256873   \n",
       "2   83 % avis positifs (3,897 notes)                   3897         3.928920   \n",
       "\n",
       "                merchant_id  merchant_has_profile_picture  \\\n",
       "0  577fb2b368116418674befd9                             1   \n",
       "1  566a3ef17233ff2686443082                             0   \n",
       "2  5aacd6c1ccf0c83e5a6f3de0                             0   \n",
       "\n",
       "                            merchant_profile_picture   theme crawl_month    id  \n",
       "0  https://s3-us-west-1.amazonaws.com/sweeper-pro...  summer     2020-08   272  \n",
       "1                                                NaN  summer     2020-08  1515  \n",
       "2                                                NaN  summer     2020-08   940  "
      ]
     },
     "execution_count": 2,
     "metadata": {},
     "output_type": "execute_result"
    }
   ],
   "source": [
    "train = pd.read_csv(\"train_new.csv\")\n",
    "train.head(3)\n",
    "# we will remove id column and merchant_id"
   ]
  },
  {
   "cell_type": "code",
   "execution_count": 3,
   "id": "25beb3f7",
   "metadata": {},
   "outputs": [
    {
     "data": {
      "text/html": [
       "<div>\n",
       "<style scoped>\n",
       "    .dataframe tbody tr th:only-of-type {\n",
       "        vertical-align: middle;\n",
       "    }\n",
       "\n",
       "    .dataframe tbody tr th {\n",
       "        vertical-align: top;\n",
       "    }\n",
       "\n",
       "    .dataframe thead th {\n",
       "        text-align: right;\n",
       "    }\n",
       "</style>\n",
       "<table border=\"1\" class=\"dataframe\">\n",
       "  <thead>\n",
       "    <tr style=\"text-align: right;\">\n",
       "      <th></th>\n",
       "      <th>price</th>\n",
       "      <th>retail_price</th>\n",
       "      <th>currency_buyer</th>\n",
       "      <th>units_sold</th>\n",
       "      <th>uses_ad_boosts</th>\n",
       "      <th>rating_count</th>\n",
       "      <th>badges_count</th>\n",
       "      <th>badge_local_product</th>\n",
       "      <th>badge_product_quality</th>\n",
       "      <th>badge_fast_shipping</th>\n",
       "      <th>tags</th>\n",
       "      <th>product_color</th>\n",
       "      <th>product_variation_size_id</th>\n",
       "      <th>product_variation_inventory</th>\n",
       "      <th>shipping_option_name</th>\n",
       "      <th>shipping_option_price</th>\n",
       "      <th>shipping_is_express</th>\n",
       "      <th>countries_shipped_to</th>\n",
       "      <th>inventory_total</th>\n",
       "      <th>has_urgency_banner</th>\n",
       "      <th>urgency_text</th>\n",
       "      <th>origin_country</th>\n",
       "      <th>merchant_title</th>\n",
       "      <th>merchant_name</th>\n",
       "      <th>merchant_info_subtitle</th>\n",
       "      <th>merchant_rating_count</th>\n",
       "      <th>merchant_rating</th>\n",
       "      <th>merchant_id</th>\n",
       "      <th>merchant_has_profile_picture</th>\n",
       "      <th>merchant_profile_picture</th>\n",
       "      <th>theme</th>\n",
       "      <th>crawl_month</th>\n",
       "      <th>id</th>\n",
       "    </tr>\n",
       "  </thead>\n",
       "  <tbody>\n",
       "    <tr>\n",
       "      <th>0</th>\n",
       "      <td>5.75</td>\n",
       "      <td>5</td>\n",
       "      <td>EUR</td>\n",
       "      <td>10</td>\n",
       "      <td>1</td>\n",
       "      <td>0</td>\n",
       "      <td>0</td>\n",
       "      <td>0</td>\n",
       "      <td>0</td>\n",
       "      <td>0</td>\n",
       "      <td>Funny,letter print,Fashion,Shirt,Sleeve,Summer...</td>\n",
       "      <td>white</td>\n",
       "      <td>XS</td>\n",
       "      <td>5</td>\n",
       "      <td>Livraison standard</td>\n",
       "      <td>2</td>\n",
       "      <td>0</td>\n",
       "      <td>139</td>\n",
       "      <td>50</td>\n",
       "      <td>NaN</td>\n",
       "      <td>NaN</td>\n",
       "      <td>CN</td>\n",
       "      <td>liyang163</td>\n",
       "      <td>liyang163</td>\n",
       "      <td>33 % avis positifs (3 notes)</td>\n",
       "      <td>3</td>\n",
       "      <td>2.333333</td>\n",
       "      <td>5e63469b2fdc774466e15dd5</td>\n",
       "      <td>0</td>\n",
       "      <td>NaN</td>\n",
       "      <td>summer</td>\n",
       "      <td>2020-08</td>\n",
       "      <td>937</td>\n",
       "    </tr>\n",
       "    <tr>\n",
       "      <th>1</th>\n",
       "      <td>7.00</td>\n",
       "      <td>7</td>\n",
       "      <td>EUR</td>\n",
       "      <td>5000</td>\n",
       "      <td>0</td>\n",
       "      <td>579</td>\n",
       "      <td>0</td>\n",
       "      <td>0</td>\n",
       "      <td>0</td>\n",
       "      <td>0</td>\n",
       "      <td>Women Vest,Vest,Fashion,Women Blouse,long dres...</td>\n",
       "      <td>black</td>\n",
       "      <td>XS</td>\n",
       "      <td>50</td>\n",
       "      <td>Livraison standard</td>\n",
       "      <td>2</td>\n",
       "      <td>0</td>\n",
       "      <td>31</td>\n",
       "      <td>50</td>\n",
       "      <td>NaN</td>\n",
       "      <td>NaN</td>\n",
       "      <td>CN</td>\n",
       "      <td>singing  the  song</td>\n",
       "      <td>singingthesong</td>\n",
       "      <td>86 % avis positifs (4,213 notes)</td>\n",
       "      <td>4213</td>\n",
       "      <td>4.058391</td>\n",
       "      <td>583547f417dc6224cb464117</td>\n",
       "      <td>0</td>\n",
       "      <td>NaN</td>\n",
       "      <td>summer</td>\n",
       "      <td>2020-08</td>\n",
       "      <td>270</td>\n",
       "    </tr>\n",
       "    <tr>\n",
       "      <th>2</th>\n",
       "      <td>5.00</td>\n",
       "      <td>16</td>\n",
       "      <td>EUR</td>\n",
       "      <td>1000</td>\n",
       "      <td>1</td>\n",
       "      <td>62</td>\n",
       "      <td>0</td>\n",
       "      <td>0</td>\n",
       "      <td>0</td>\n",
       "      <td>0</td>\n",
       "      <td>hollowouttanktop,Tanktops for women,Plus Size,...</td>\n",
       "      <td>blue</td>\n",
       "      <td>XS</td>\n",
       "      <td>20</td>\n",
       "      <td>Livraison standard</td>\n",
       "      <td>2</td>\n",
       "      <td>0</td>\n",
       "      <td>41</td>\n",
       "      <td>50</td>\n",
       "      <td>NaN</td>\n",
       "      <td>NaN</td>\n",
       "      <td>CN</td>\n",
       "      <td>Surper boutique</td>\n",
       "      <td>surperboutique</td>\n",
       "      <td>85 % avis positifs (10,501 notes)</td>\n",
       "      <td>10501</td>\n",
       "      <td>4.029235</td>\n",
       "      <td>57086fd7fa6bee434d0e5852</td>\n",
       "      <td>0</td>\n",
       "      <td>NaN</td>\n",
       "      <td>summer</td>\n",
       "      <td>2020-08</td>\n",
       "      <td>308</td>\n",
       "    </tr>\n",
       "  </tbody>\n",
       "</table>\n",
       "</div>"
      ],
      "text/plain": [
       "   price  retail_price currency_buyer  units_sold  uses_ad_boosts  \\\n",
       "0   5.75             5            EUR          10               1   \n",
       "1   7.00             7            EUR        5000               0   \n",
       "2   5.00            16            EUR        1000               1   \n",
       "\n",
       "   rating_count  badges_count  badge_local_product  badge_product_quality  \\\n",
       "0             0             0                    0                      0   \n",
       "1           579             0                    0                      0   \n",
       "2            62             0                    0                      0   \n",
       "\n",
       "   badge_fast_shipping                                               tags  \\\n",
       "0                    0  Funny,letter print,Fashion,Shirt,Sleeve,Summer...   \n",
       "1                    0  Women Vest,Vest,Fashion,Women Blouse,long dres...   \n",
       "2                    0  hollowouttanktop,Tanktops for women,Plus Size,...   \n",
       "\n",
       "  product_color product_variation_size_id  product_variation_inventory  \\\n",
       "0         white                        XS                            5   \n",
       "1         black                        XS                           50   \n",
       "2          blue                        XS                           20   \n",
       "\n",
       "  shipping_option_name  shipping_option_price  shipping_is_express  \\\n",
       "0   Livraison standard                      2                    0   \n",
       "1   Livraison standard                      2                    0   \n",
       "2   Livraison standard                      2                    0   \n",
       "\n",
       "   countries_shipped_to  inventory_total  has_urgency_banner urgency_text  \\\n",
       "0                   139               50                 NaN          NaN   \n",
       "1                    31               50                 NaN          NaN   \n",
       "2                    41               50                 NaN          NaN   \n",
       "\n",
       "  origin_country      merchant_title   merchant_name  \\\n",
       "0             CN           liyang163       liyang163   \n",
       "1             CN  singing  the  song  singingthesong   \n",
       "2             CN     Surper boutique  surperboutique   \n",
       "\n",
       "              merchant_info_subtitle  merchant_rating_count  merchant_rating  \\\n",
       "0       33 % avis positifs (3 notes)                      3         2.333333   \n",
       "1   86 % avis positifs (4,213 notes)                   4213         4.058391   \n",
       "2  85 % avis positifs (10,501 notes)                  10501         4.029235   \n",
       "\n",
       "                merchant_id  merchant_has_profile_picture  \\\n",
       "0  5e63469b2fdc774466e15dd5                             0   \n",
       "1  583547f417dc6224cb464117                             0   \n",
       "2  57086fd7fa6bee434d0e5852                             0   \n",
       "\n",
       "  merchant_profile_picture   theme crawl_month   id  \n",
       "0                      NaN  summer     2020-08  937  \n",
       "1                      NaN  summer     2020-08  270  \n",
       "2                      NaN  summer     2020-08  308  "
      ]
     },
     "execution_count": 3,
     "metadata": {},
     "output_type": "execute_result"
    }
   ],
   "source": [
    "test = pd.read_csv(\"test_new.csv\")\n",
    "test.head(3)"
   ]
  },
  {
   "cell_type": "code",
   "execution_count": 4,
   "id": "867a29c3",
   "metadata": {},
   "outputs": [
    {
     "data": {
      "text/plain": [
       "(1094, 34)"
      ]
     },
     "execution_count": 4,
     "metadata": {},
     "output_type": "execute_result"
    }
   ],
   "source": [
    "train.shape"
   ]
  },
  {
   "cell_type": "code",
   "execution_count": 5,
   "id": "103e3a75",
   "metadata": {},
   "outputs": [
    {
     "data": {
      "text/plain": [
       "(479, 33)"
      ]
     },
     "execution_count": 5,
     "metadata": {},
     "output_type": "execute_result"
    }
   ],
   "source": [
    "test.shape"
   ]
  },
  {
   "cell_type": "markdown",
   "id": "02679bc7",
   "metadata": {},
   "source": [
    "# Feature Engineering\n",
    "## Initial Preprocessing"
   ]
  },
  {
   "cell_type": "code",
   "execution_count": 6,
   "id": "72dd97b5",
   "metadata": {},
   "outputs": [
    {
     "data": {
      "text/plain": [
       "array(['EUR'], dtype=object)"
      ]
     },
     "execution_count": 6,
     "metadata": {},
     "output_type": "execute_result"
    }
   ],
   "source": [
    "train[\"currency_buyer\"].unique()\n",
    "# Only EUR, So we can remove it"
   ]
  },
  {
   "cell_type": "code",
   "execution_count": 7,
   "id": "f780bff2",
   "metadata": {},
   "outputs": [
    {
     "data": {
      "text/plain": [
       "array([4., 3., 5., 2., 1., 6.])"
      ]
     },
     "execution_count": 7,
     "metadata": {},
     "output_type": "execute_result"
    }
   ],
   "source": [
    "train[\"rating\"].unique()\n",
    "# rating 6 is a noise and we need to remove it, it is only one observation"
   ]
  },
  {
   "cell_type": "code",
   "execution_count": 8,
   "id": "69e9126a",
   "metadata": {},
   "outputs": [
    {
     "data": {
      "text/plain": [
       "array([nan,  1.])"
      ]
     },
     "execution_count": 8,
     "metadata": {},
     "output_type": "execute_result"
    }
   ],
   "source": [
    "train[\"has_urgency_banner\"].unique()\n",
    "# replace nan with zero"
   ]
  },
  {
   "cell_type": "code",
   "execution_count": 9,
   "id": "b8d78b34",
   "metadata": {},
   "outputs": [
    {
     "data": {
      "text/plain": [
       "array([nan, 'Quantité limitée !', 'Réduction sur les achats en gros'],\n",
       "      dtype=object)"
      ]
     },
     "execution_count": 9,
     "metadata": {},
     "output_type": "execute_result"
    }
   ],
   "source": [
    "train[\"urgency_text\"].unique()\n",
    "# remove this column"
   ]
  },
  {
   "cell_type": "code",
   "execution_count": 10,
   "id": "767222c4",
   "metadata": {
    "scrolled": true
   },
   "outputs": [
    {
     "data": {
      "text/plain": [
       "array(['summer'], dtype=object)"
      ]
     },
     "execution_count": 10,
     "metadata": {},
     "output_type": "execute_result"
    }
   ],
   "source": [
    "train[\"theme\"].unique()\n",
    "# remove this column"
   ]
  },
  {
   "cell_type": "code",
   "execution_count": 11,
   "id": "fe04eb94",
   "metadata": {},
   "outputs": [
    {
     "data": {
      "text/plain": [
       "array(['2020-08'], dtype=object)"
      ]
     },
     "execution_count": 11,
     "metadata": {},
     "output_type": "execute_result"
    }
   ],
   "source": [
    "train[\"crawl_month\"].unique()"
   ]
  },
  {
   "cell_type": "code",
   "execution_count": 12,
   "id": "d83c525d",
   "metadata": {},
   "outputs": [
    {
     "data": {
      "text/plain": [
       "50    1089\n",
       "1        1\n",
       "9        1\n",
       "37       1\n",
       "2        1\n",
       "36       1\n",
       "Name: inventory_total, dtype: int64"
      ]
     },
     "execution_count": 12,
     "metadata": {},
     "output_type": "execute_result"
    }
   ],
   "source": [
    "train[\"inventory_total\"].value_counts()"
   ]
  },
  {
   "cell_type": "code",
   "execution_count": 13,
   "id": "49fae835",
   "metadata": {},
   "outputs": [],
   "source": [
    "# Drop these columns, it doesnt have any effect on the rating\n",
    "train = train.drop(columns=[\"urgency_text\", \"merchant_info_subtitle\", \"merchant_title\", \"tags\" ,\"currency_buyer\", \"theme\",  \"merchant_id\", \"merchant_name\", \"inventory_total\", \"merchant_profile_picture\", \"crawl_month\", \"id\"])\n",
    "test = test.drop(columns=[\"urgency_text\", \"merchant_info_subtitle\", \"merchant_title\", \"tags\" ,\"currency_buyer\", \"theme\",  \"merchant_id\", \"merchant_name\", \"inventory_total\", \"merchant_profile_picture\", \"crawl_month\", \"id\"])"
   ]
  },
  {
   "cell_type": "code",
   "execution_count": 14,
   "id": "6e6ee16b",
   "metadata": {},
   "outputs": [],
   "source": [
    "train = train[train['rating']!=6]"
   ]
  },
  {
   "cell_type": "code",
   "execution_count": 15,
   "id": "94835ecb",
   "metadata": {},
   "outputs": [],
   "source": [
    "train['has_urgency_banner'] = train['has_urgency_banner'].fillna(0)"
   ]
  },
  {
   "cell_type": "code",
   "execution_count": 16,
   "id": "30221661",
   "metadata": {},
   "outputs": [
    {
     "data": {
      "text/plain": [
       "array(['CN', 'US', 'GB', nan, 'SG', 'VE'], dtype=object)"
      ]
     },
     "execution_count": 16,
     "metadata": {},
     "output_type": "execute_result"
    }
   ],
   "source": [
    "train[\"origin_country\"].unique()"
   ]
  },
  {
   "cell_type": "code",
   "execution_count": 17,
   "id": "54a776d7",
   "metadata": {},
   "outputs": [
    {
     "data": {
      "text/html": [
       "<div>\n",
       "<style scoped>\n",
       "    .dataframe tbody tr th:only-of-type {\n",
       "        vertical-align: middle;\n",
       "    }\n",
       "\n",
       "    .dataframe tbody tr th {\n",
       "        vertical-align: top;\n",
       "    }\n",
       "\n",
       "    .dataframe thead th {\n",
       "        text-align: right;\n",
       "    }\n",
       "</style>\n",
       "<table border=\"1\" class=\"dataframe\">\n",
       "  <thead>\n",
       "    <tr style=\"text-align: right;\">\n",
       "      <th></th>\n",
       "      <th>price</th>\n",
       "      <th>retail_price</th>\n",
       "      <th>units_sold</th>\n",
       "      <th>uses_ad_boosts</th>\n",
       "      <th>rating</th>\n",
       "      <th>rating_count</th>\n",
       "      <th>badges_count</th>\n",
       "      <th>badge_local_product</th>\n",
       "      <th>badge_product_quality</th>\n",
       "      <th>badge_fast_shipping</th>\n",
       "      <th>product_color</th>\n",
       "      <th>product_variation_size_id</th>\n",
       "      <th>product_variation_inventory</th>\n",
       "      <th>shipping_option_name</th>\n",
       "      <th>shipping_option_price</th>\n",
       "      <th>shipping_is_express</th>\n",
       "      <th>countries_shipped_to</th>\n",
       "      <th>has_urgency_banner</th>\n",
       "      <th>origin_country</th>\n",
       "      <th>merchant_rating_count</th>\n",
       "      <th>merchant_rating</th>\n",
       "      <th>merchant_has_profile_picture</th>\n",
       "    </tr>\n",
       "  </thead>\n",
       "  <tbody>\n",
       "    <tr>\n",
       "      <th>0</th>\n",
       "      <td>8.0</td>\n",
       "      <td>7</td>\n",
       "      <td>10000</td>\n",
       "      <td>1</td>\n",
       "      <td>4.0</td>\n",
       "      <td>1670</td>\n",
       "      <td>0</td>\n",
       "      <td>0</td>\n",
       "      <td>0</td>\n",
       "      <td>0</td>\n",
       "      <td>yellow</td>\n",
       "      <td>M</td>\n",
       "      <td>50</td>\n",
       "      <td>Livraison standard</td>\n",
       "      <td>3</td>\n",
       "      <td>0</td>\n",
       "      <td>30</td>\n",
       "      <td>0.0</td>\n",
       "      <td>CN</td>\n",
       "      <td>66644</td>\n",
       "      <td>4.137582</td>\n",
       "      <td>1</td>\n",
       "    </tr>\n",
       "    <tr>\n",
       "      <th>1</th>\n",
       "      <td>8.0</td>\n",
       "      <td>7</td>\n",
       "      <td>1000</td>\n",
       "      <td>0</td>\n",
       "      <td>4.0</td>\n",
       "      <td>843</td>\n",
       "      <td>1</td>\n",
       "      <td>1</td>\n",
       "      <td>0</td>\n",
       "      <td>0</td>\n",
       "      <td>black</td>\n",
       "      <td>L</td>\n",
       "      <td>50</td>\n",
       "      <td>Livraison standard</td>\n",
       "      <td>3</td>\n",
       "      <td>0</td>\n",
       "      <td>37</td>\n",
       "      <td>0.0</td>\n",
       "      <td>CN</td>\n",
       "      <td>25752</td>\n",
       "      <td>4.256873</td>\n",
       "      <td>0</td>\n",
       "    </tr>\n",
       "  </tbody>\n",
       "</table>\n",
       "</div>"
      ],
      "text/plain": [
       "   price  retail_price  units_sold  uses_ad_boosts  rating  rating_count  \\\n",
       "0    8.0             7       10000               1     4.0          1670   \n",
       "1    8.0             7        1000               0     4.0           843   \n",
       "\n",
       "   badges_count  badge_local_product  badge_product_quality  \\\n",
       "0             0                    0                      0   \n",
       "1             1                    1                      0   \n",
       "\n",
       "   badge_fast_shipping product_color product_variation_size_id  \\\n",
       "0                    0        yellow                         M   \n",
       "1                    0         black                         L   \n",
       "\n",
       "   product_variation_inventory shipping_option_name  shipping_option_price  \\\n",
       "0                           50   Livraison standard                      3   \n",
       "1                           50   Livraison standard                      3   \n",
       "\n",
       "   shipping_is_express  countries_shipped_to  has_urgency_banner  \\\n",
       "0                    0                    30                 0.0   \n",
       "1                    0                    37                 0.0   \n",
       "\n",
       "  origin_country  merchant_rating_count  merchant_rating  \\\n",
       "0             CN                  66644         4.137582   \n",
       "1             CN                  25752         4.256873   \n",
       "\n",
       "   merchant_has_profile_picture  \n",
       "0                             1  \n",
       "1                             0  "
      ]
     },
     "execution_count": 17,
     "metadata": {},
     "output_type": "execute_result"
    }
   ],
   "source": [
    "train.head(2)"
   ]
  },
  {
   "cell_type": "code",
   "execution_count": 18,
   "id": "97bc39d6",
   "metadata": {},
   "outputs": [
    {
     "data": {
      "text/plain": [
       "(1093, 22)"
      ]
     },
     "execution_count": 18,
     "metadata": {},
     "output_type": "execute_result"
    }
   ],
   "source": [
    "train.shape"
   ]
  },
  {
   "cell_type": "markdown",
   "id": "51523d55",
   "metadata": {},
   "source": [
    "## Missing Data Imputation"
   ]
  },
  {
   "cell_type": "code",
   "execution_count": 19,
   "id": "8ac32fef",
   "metadata": {
    "scrolled": true
   },
   "outputs": [
    {
     "data": {
      "text/plain": [
       "price                           0.000000\n",
       "retail_price                    0.000000\n",
       "units_sold                      0.000000\n",
       "uses_ad_boosts                  0.000000\n",
       "rating                          0.000000\n",
       "rating_count                    0.000000\n",
       "badges_count                    0.000000\n",
       "badge_local_product             0.000000\n",
       "badge_product_quality           0.000000\n",
       "badge_fast_shipping             0.000000\n",
       "product_color                   0.026532\n",
       "product_variation_size_id       0.010979\n",
       "product_variation_inventory     0.000000\n",
       "shipping_option_name            0.000000\n",
       "shipping_option_price           0.000000\n",
       "shipping_is_express             0.000000\n",
       "countries_shipped_to            0.000000\n",
       "has_urgency_banner              0.000000\n",
       "origin_country                  0.010979\n",
       "merchant_rating_count           0.000000\n",
       "merchant_rating                 0.000000\n",
       "merchant_has_profile_picture    0.000000\n",
       "dtype: float64"
      ]
     },
     "execution_count": 19,
     "metadata": {},
     "output_type": "execute_result"
    }
   ],
   "source": [
    "# mean() method after isnull()\n",
    "# to obtain the fraction of missing values:\n",
    "train.isnull().mean()"
   ]
  },
  {
   "cell_type": "code",
   "execution_count": 20,
   "id": "167a4727",
   "metadata": {},
   "outputs": [
    {
     "data": {
      "text/plain": [
       "(1093, 22)"
      ]
     },
     "execution_count": 20,
     "metadata": {},
     "output_type": "execute_result"
    }
   ],
   "source": [
    "train.shape"
   ]
  },
  {
   "cell_type": "code",
   "execution_count": 21,
   "id": "27813d41",
   "metadata": {
    "scrolled": true
   },
   "outputs": [
    {
     "data": {
      "text/plain": [
       "(1041, 22)"
      ]
     },
     "execution_count": 21,
     "metadata": {},
     "output_type": "execute_result"
    }
   ],
   "source": [
    "# we can just drop the null values in our dataset\n",
    "trains = train.dropna()\n",
    "trains.shape"
   ]
  },
  {
   "cell_type": "markdown",
   "id": "5959ef47",
   "metadata": {},
   "source": [
    "# Rare Labels\n",
    "Rare values can add a lot of information or none at all. \n",
    "\n",
    "Rare categories can cause over-fitting, particularly in tree-based methods.\n",
    "\n",
    "Infrequent labels may add noise, which could cause over-fitting.\n",
    "\n",
    "Rare labels may be present only in training set, therefore causing over-fitting.\n",
    "\n",
    "Rare labels may appear only in the test set. Thus, the ML model will not know how to evaluate it."
   ]
  },
  {
   "cell_type": "code",
   "execution_count": 22,
   "id": "c51c2b22",
   "metadata": {},
   "outputs": [
    {
     "data": {
      "text/html": [
       "<div>\n",
       "<style scoped>\n",
       "    .dataframe tbody tr th:only-of-type {\n",
       "        vertical-align: middle;\n",
       "    }\n",
       "\n",
       "    .dataframe tbody tr th {\n",
       "        vertical-align: top;\n",
       "    }\n",
       "\n",
       "    .dataframe thead th {\n",
       "        text-align: right;\n",
       "    }\n",
       "</style>\n",
       "<table border=\"1\" class=\"dataframe\">\n",
       "  <thead>\n",
       "    <tr style=\"text-align: right;\">\n",
       "      <th></th>\n",
       "      <th>price</th>\n",
       "      <th>retail_price</th>\n",
       "      <th>units_sold</th>\n",
       "      <th>uses_ad_boosts</th>\n",
       "      <th>rating</th>\n",
       "      <th>rating_count</th>\n",
       "      <th>badges_count</th>\n",
       "      <th>badge_local_product</th>\n",
       "      <th>badge_product_quality</th>\n",
       "      <th>badge_fast_shipping</th>\n",
       "      <th>product_color</th>\n",
       "      <th>product_variation_size_id</th>\n",
       "      <th>product_variation_inventory</th>\n",
       "      <th>shipping_option_name</th>\n",
       "      <th>shipping_option_price</th>\n",
       "      <th>shipping_is_express</th>\n",
       "      <th>countries_shipped_to</th>\n",
       "      <th>has_urgency_banner</th>\n",
       "      <th>origin_country</th>\n",
       "      <th>merchant_rating_count</th>\n",
       "      <th>merchant_rating</th>\n",
       "      <th>merchant_has_profile_picture</th>\n",
       "    </tr>\n",
       "  </thead>\n",
       "  <tbody>\n",
       "    <tr>\n",
       "      <th>0</th>\n",
       "      <td>8.0</td>\n",
       "      <td>7</td>\n",
       "      <td>10000</td>\n",
       "      <td>1</td>\n",
       "      <td>4.0</td>\n",
       "      <td>1670</td>\n",
       "      <td>0</td>\n",
       "      <td>0</td>\n",
       "      <td>0</td>\n",
       "      <td>0</td>\n",
       "      <td>yellow</td>\n",
       "      <td>M</td>\n",
       "      <td>50</td>\n",
       "      <td>Livraison standard</td>\n",
       "      <td>3</td>\n",
       "      <td>0</td>\n",
       "      <td>30</td>\n",
       "      <td>0.0</td>\n",
       "      <td>CN</td>\n",
       "      <td>66644</td>\n",
       "      <td>4.137582</td>\n",
       "      <td>1</td>\n",
       "    </tr>\n",
       "    <tr>\n",
       "      <th>1</th>\n",
       "      <td>8.0</td>\n",
       "      <td>7</td>\n",
       "      <td>1000</td>\n",
       "      <td>0</td>\n",
       "      <td>4.0</td>\n",
       "      <td>843</td>\n",
       "      <td>1</td>\n",
       "      <td>1</td>\n",
       "      <td>0</td>\n",
       "      <td>0</td>\n",
       "      <td>black</td>\n",
       "      <td>L</td>\n",
       "      <td>50</td>\n",
       "      <td>Livraison standard</td>\n",
       "      <td>3</td>\n",
       "      <td>0</td>\n",
       "      <td>37</td>\n",
       "      <td>0.0</td>\n",
       "      <td>CN</td>\n",
       "      <td>25752</td>\n",
       "      <td>4.256873</td>\n",
       "      <td>0</td>\n",
       "    </tr>\n",
       "  </tbody>\n",
       "</table>\n",
       "</div>"
      ],
      "text/plain": [
       "   price  retail_price  units_sold  uses_ad_boosts  rating  rating_count  \\\n",
       "0    8.0             7       10000               1     4.0          1670   \n",
       "1    8.0             7        1000               0     4.0           843   \n",
       "\n",
       "   badges_count  badge_local_product  badge_product_quality  \\\n",
       "0             0                    0                      0   \n",
       "1             1                    1                      0   \n",
       "\n",
       "   badge_fast_shipping product_color product_variation_size_id  \\\n",
       "0                    0        yellow                         M   \n",
       "1                    0         black                         L   \n",
       "\n",
       "   product_variation_inventory shipping_option_name  shipping_option_price  \\\n",
       "0                           50   Livraison standard                      3   \n",
       "1                           50   Livraison standard                      3   \n",
       "\n",
       "   shipping_is_express  countries_shipped_to  has_urgency_banner  \\\n",
       "0                    0                    30                 0.0   \n",
       "1                    0                    37                 0.0   \n",
       "\n",
       "  origin_country  merchant_rating_count  merchant_rating  \\\n",
       "0             CN                  66644         4.137582   \n",
       "1             CN                  25752         4.256873   \n",
       "\n",
       "   merchant_has_profile_picture  \n",
       "0                             1  \n",
       "1                             0  "
      ]
     },
     "execution_count": 22,
     "metadata": {},
     "output_type": "execute_result"
    }
   ],
   "source": [
    "train.head(2)"
   ]
  },
  {
   "cell_type": "code",
   "execution_count": 23,
   "id": "053a4161",
   "metadata": {},
   "outputs": [
    {
     "name": "stdout",
     "output_type": "stream",
     "text": [
      "variable:  product_color  number of labels:  86\n",
      "variable:  product_variation_size_id  number of labels:  83\n",
      "variable:  shipping_option_name  number of labels:  13\n",
      "variable:  origin_country  number of labels:  5\n",
      "total Products:  1093\n"
     ]
    }
   ],
   "source": [
    "# Let's look at the different number of labels in each variable (cardinality).\n",
    "# These are the categorical variables.\n",
    "\n",
    "cat_cols = ['product_color', 'product_variation_size_id', 'shipping_option_name', 'origin_country', ]\n",
    "\n",
    "for col in cat_cols:\n",
    "    print('variable: ', col, ' number of labels: ', train[col].nunique())\n",
    "\n",
    "print('total Products: ', len(train))"
   ]
  },
  {
   "cell_type": "code",
   "execution_count": 24,
   "id": "21140e7b",
   "metadata": {},
   "outputs": [
    {
     "data": {
      "image/png": "[encoded data removed]",
      "text/plain": [
       "<Figure size 640x480 with 1 Axes>"
      ]
     },
     "metadata": {},
     "output_type": "display_data"
    },
    {
     "data": {
      "image/png": "[encoded data removed]",
      "text/plain": [
       "<Figure size 640x480 with 1 Axes>"
      ]
     },
     "metadata": {},
     "output_type": "display_data"
    },
    {
     "data": {
      "image/png": "[encoded data removed]",
      "text/plain": [
       "<Figure size 640x480 with 1 Axes>"
      ]
     },
     "metadata": {},
     "output_type": "display_data"
    },
    {
     "data": {
      "image/png": "[encoded data removed]",
      "text/plain": [
       "<Figure size 640x480 with 1 Axes>"
      ]
     },
     "metadata": {},
     "output_type": "display_data"
    }
   ],
   "source": [
    "# Let's plot the category frequency. That is, the percentage of product with each label.\n",
    "\n",
    "total_products = len(train)\n",
    "\n",
    "# For each categorical variable\n",
    "for col in cat_cols:\n",
    "\n",
    "    # Count the number of houses per category and divide by total houses.\n",
    "    # That is, the percentage of houses per category.\n",
    "\n",
    "    temp_df = pd.Series(train[col].value_counts() / total_products)\n",
    "\n",
    "    # Make plot with these percentages.\n",
    "    fig = temp_df.sort_values(ascending=False).plot.bar()\n",
    "    fig.set_xlabel(col)\n",
    "\n",
    "    # Add a line at 5 % to flag the threshold for rare categories.\n",
    "    fig.axhline(y=0.05, color='red')\n",
    "    fig.set_ylabel('Percentage of products')\n",
    "    plt.show()"
   ]
  },
  {
   "cell_type": "markdown",
   "id": "1586c804",
   "metadata": {},
   "source": [
    "# Grouping rare labels\n",
    "We can handle rare values by grouping them under an umbrella category called 'Rare' or 'Other'. Like this, we are able to understand their \"collective\" impact on the target."
   ]
  },
  {
   "cell_type": "code",
   "execution_count": 25,
   "id": "6f850022",
   "metadata": {},
   "outputs": [],
   "source": [
    "# I will replace all labels that appear in less than 5% of the products by the label 'rare'.\n",
    "\n",
    "def group_rare_labels(df, var):\n",
    "\n",
    "    total_houses = len(df)\n",
    "\n",
    "    # First, I calculate the % of products per category.\n",
    "    temp_df = pd.Series(df[var].value_counts() / total_houses)\n",
    "\n",
    "    # Then, I create a dictionary to replace the rare labels with the\n",
    "    # string 'rare' (for categories present in less than 5% of products).\n",
    "\n",
    "    grouping_dict = {\n",
    "        k: ('rare' if k not in temp_df[temp_df >= 0.05].index else k)\n",
    "        for k in temp_df.index\n",
    "    }\n",
    "\n",
    "    # Now, I replace the rare categories.\n",
    "    tmp = df[var].map(grouping_dict)\n",
    "\n",
    "    return tmp"
   ]
  },
  {
   "cell_type": "code",
   "execution_count": 26,
   "id": "2837c01d",
   "metadata": {},
   "outputs": [],
   "source": [
    "# ['product_color', 'product_variation_size_id', 'shipping_option_name', 'origin_country', ]\n",
    "\n",
    "train['product_color_grouped'] = group_rare_labels(train, 'product_color')\n",
    "test['product_color_grouped'] = group_rare_labels(test, 'product_color')"
   ]
  },
  {
   "cell_type": "code",
   "execution_count": 27,
   "id": "1308a58c",
   "metadata": {},
   "outputs": [
    {
     "data": {
      "text/html": [
       "<div>\n",
       "<style scoped>\n",
       "    .dataframe tbody tr th:only-of-type {\n",
       "        vertical-align: middle;\n",
       "    }\n",
       "\n",
       "    .dataframe tbody tr th {\n",
       "        vertical-align: top;\n",
       "    }\n",
       "\n",
       "    .dataframe thead th {\n",
       "        text-align: right;\n",
       "    }\n",
       "</style>\n",
       "<table border=\"1\" class=\"dataframe\">\n",
       "  <thead>\n",
       "    <tr style=\"text-align: right;\">\n",
       "      <th></th>\n",
       "      <th>product_color</th>\n",
       "      <th>product_color_grouped</th>\n",
       "    </tr>\n",
       "  </thead>\n",
       "  <tbody>\n",
       "    <tr>\n",
       "      <th>0</th>\n",
       "      <td>yellow</td>\n",
       "      <td>yellow</td>\n",
       "    </tr>\n",
       "    <tr>\n",
       "      <th>1</th>\n",
       "      <td>black</td>\n",
       "      <td>black</td>\n",
       "    </tr>\n",
       "    <tr>\n",
       "      <th>2</th>\n",
       "      <td>white</td>\n",
       "      <td>white</td>\n",
       "    </tr>\n",
       "    <tr>\n",
       "      <th>3</th>\n",
       "      <td>lakeblue</td>\n",
       "      <td>rare</td>\n",
       "    </tr>\n",
       "    <tr>\n",
       "      <th>4</th>\n",
       "      <td>apricot</td>\n",
       "      <td>rare</td>\n",
       "    </tr>\n",
       "  </tbody>\n",
       "</table>\n",
       "</div>"
      ],
      "text/plain": [
       "  product_color product_color_grouped\n",
       "0        yellow                yellow\n",
       "1         black                 black\n",
       "2         white                 white\n",
       "3      lakeblue                  rare\n",
       "4       apricot                  rare"
      ]
     },
     "execution_count": 27,
     "metadata": {},
     "output_type": "execute_result"
    }
   ],
   "source": [
    "train[['product_color', 'product_color_grouped']].head()\n",
    "# NICE :)"
   ]
  },
  {
   "cell_type": "code",
   "execution_count": 28,
   "id": "28305dbb",
   "metadata": {},
   "outputs": [
    {
     "data": {
      "text/html": [
       "<div>\n",
       "<style scoped>\n",
       "    .dataframe tbody tr th:only-of-type {\n",
       "        vertical-align: middle;\n",
       "    }\n",
       "\n",
       "    .dataframe tbody tr th {\n",
       "        vertical-align: top;\n",
       "    }\n",
       "\n",
       "    .dataframe thead th {\n",
       "        text-align: right;\n",
       "    }\n",
       "</style>\n",
       "<table border=\"1\" class=\"dataframe\">\n",
       "  <thead>\n",
       "    <tr style=\"text-align: right;\">\n",
       "      <th></th>\n",
       "      <th>product_color</th>\n",
       "      <th>product_color_grouped</th>\n",
       "    </tr>\n",
       "  </thead>\n",
       "  <tbody>\n",
       "    <tr>\n",
       "      <th>0</th>\n",
       "      <td>white</td>\n",
       "      <td>white</td>\n",
       "    </tr>\n",
       "    <tr>\n",
       "      <th>1</th>\n",
       "      <td>black</td>\n",
       "      <td>black</td>\n",
       "    </tr>\n",
       "    <tr>\n",
       "      <th>2</th>\n",
       "      <td>blue</td>\n",
       "      <td>rare</td>\n",
       "    </tr>\n",
       "    <tr>\n",
       "      <th>3</th>\n",
       "      <td>blue</td>\n",
       "      <td>rare</td>\n",
       "    </tr>\n",
       "    <tr>\n",
       "      <th>4</th>\n",
       "      <td>white</td>\n",
       "      <td>white</td>\n",
       "    </tr>\n",
       "  </tbody>\n",
       "</table>\n",
       "</div>"
      ],
      "text/plain": [
       "  product_color product_color_grouped\n",
       "0         white                 white\n",
       "1         black                 black\n",
       "2          blue                  rare\n",
       "3          blue                  rare\n",
       "4         white                 white"
      ]
     },
     "execution_count": 28,
     "metadata": {},
     "output_type": "execute_result"
    }
   ],
   "source": [
    "test[['product_color', 'product_color_grouped']].head()"
   ]
  },
  {
   "cell_type": "code",
   "execution_count": 29,
   "id": "5fdedd94",
   "metadata": {},
   "outputs": [],
   "source": [
    "train['product_variation_size_id_grouped'] = group_rare_labels(train, 'product_variation_size_id')\n",
    "train['shipping_option_name_grouped'] = group_rare_labels(train, 'shipping_option_name')\n",
    "train['origin_country_grouped'] = group_rare_labels(train, 'origin_country')"
   ]
  },
  {
   "cell_type": "code",
   "execution_count": 30,
   "id": "9da7d67f",
   "metadata": {},
   "outputs": [],
   "source": [
    "test['product_variation_size_id_grouped'] = group_rare_labels(test, 'product_variation_size_id')\n",
    "test['shipping_option_name_grouped'] = group_rare_labels(test, 'shipping_option_name')\n",
    "test['origin_country_grouped'] = group_rare_labels(test, 'origin_country')"
   ]
  },
  {
   "cell_type": "markdown",
   "id": "0afdf8fd",
   "metadata": {},
   "source": [
    "# Uneven distribution between train and test sets\n",
    "Similarly to highly cardinal variables, rare labels often appear only on the training set or only on the testing set. If only in the training set, they may lead to over-fitting. If only in the testing set, machine learning models will not know how to handle them because they were not seen during training."
   ]
  },
  {
   "cell_type": "markdown",
   "id": "50374ffc",
   "metadata": {},
   "source": [
    "### product_color"
   ]
  },
  {
   "cell_type": "code",
   "execution_count": 31,
   "id": "0b44115a",
   "metadata": {},
   "outputs": [
    {
     "name": "stdout",
     "output_type": "stream",
     "text": [
      "45\n"
     ]
    }
   ],
   "source": [
    "# Let's find labels present only in the training set.\n",
    "\n",
    "unique_to_train_set = [\n",
    "    x for x in train['product_color'].unique() if x not in test['product_color'].unique()\n",
    "]\n",
    "\n",
    "print((len(np.array(unique_to_train_set))))\n",
    "# total num of labels in product_color is 86 , 45 of them only shows in training data :D"
   ]
  },
  {
   "cell_type": "code",
   "execution_count": 32,
   "id": "29a12d84",
   "metadata": {},
   "outputs": [
    {
     "name": "stdout",
     "output_type": "stream",
     "text": [
      "15\n"
     ]
    }
   ],
   "source": [
    "# Let's find labels present only in the training set.\n",
    "\n",
    "unique_to_train_set = [\n",
    "    x for x in test['product_color'].unique() if x not in train['product_color'].unique()\n",
    "]\n",
    "\n",
    "print((len(np.array(unique_to_train_set))))\n",
    "# there are 15 values that appears only in test set. WOW (those will be under rare category)"
   ]
  },
  {
   "cell_type": "markdown",
   "id": "53136127",
   "metadata": {},
   "source": [
    "### product_variation_size_id"
   ]
  },
  {
   "cell_type": "code",
   "execution_count": 33,
   "id": "a5e68a5a",
   "metadata": {},
   "outputs": [
    {
     "name": "stdout",
     "output_type": "stream",
     "text": [
      "55\n"
     ]
    }
   ],
   "source": [
    "unique_to_train_set = [\n",
    "    x for x in train['product_variation_size_id'].unique() if x not in test['product_variation_size_id'].unique()\n",
    "]\n",
    "\n",
    "print((len(np.array(unique_to_train_set))))"
   ]
  },
  {
   "cell_type": "code",
   "execution_count": 34,
   "id": "0fd8a472",
   "metadata": {},
   "outputs": [
    {
     "name": "stdout",
     "output_type": "stream",
     "text": [
      "24\n"
     ]
    }
   ],
   "source": [
    "unique_to_train_set = [\n",
    "    x for x in test['product_variation_size_id'].unique() if x not in train['product_variation_size_id'].unique()\n",
    "]\n",
    "\n",
    "print((len(np.array(unique_to_train_set))))"
   ]
  },
  {
   "cell_type": "markdown",
   "id": "fb6d064b",
   "metadata": {},
   "source": [
    "#### NOW, we replaced rare labels in 4 features with \"rare\"\n",
    "['product_color', 'product_variation_size_id', 'shipping_option_name', 'origin_country', ]\n",
    "\n",
    "Let's see ..."
   ]
  },
  {
   "cell_type": "code",
   "execution_count": 35,
   "id": "69f65ccb",
   "metadata": {},
   "outputs": [
    {
     "data": {
      "text/plain": [
       "(1093, 26)"
      ]
     },
     "execution_count": 35,
     "metadata": {},
     "output_type": "execute_result"
    }
   ],
   "source": [
    "train.shape"
   ]
  },
  {
   "cell_type": "code",
   "execution_count": 36,
   "id": "ff0834d5",
   "metadata": {},
   "outputs": [
    {
     "data": {
      "text/plain": [
       "(479, 25)"
      ]
     },
     "execution_count": 36,
     "metadata": {},
     "output_type": "execute_result"
    }
   ],
   "source": [
    "test.shape"
   ]
  },
  {
   "cell_type": "code",
   "execution_count": 37,
   "id": "28dad096",
   "metadata": {},
   "outputs": [],
   "source": [
    "# Remove the basis columns\n",
    "train = train.drop(columns=['product_color', 'product_variation_size_id', 'shipping_option_name', 'origin_country', ])\n",
    "test= test.drop(columns=['product_color', 'product_variation_size_id', 'shipping_option_name', 'origin_country', ])"
   ]
  },
  {
   "cell_type": "code",
   "execution_count": 38,
   "id": "4b463c32",
   "metadata": {},
   "outputs": [
    {
     "data": {
      "text/plain": [
       "(1093, 22)"
      ]
     },
     "execution_count": 38,
     "metadata": {},
     "output_type": "execute_result"
    }
   ],
   "source": [
    "train.shape"
   ]
  },
  {
   "cell_type": "markdown",
   "id": "0e0afc2e",
   "metadata": {},
   "source": [
    "#### let's see the unique category, we will need them with test set"
   ]
  },
  {
   "cell_type": "code",
   "execution_count": 39,
   "id": "f462d866",
   "metadata": {},
   "outputs": [
    {
     "data": {
      "text/plain": [
       "array(['yellow', 'black', 'white', 'rare', 'blue', 'red', 'green', 'pink'],\n",
       "      dtype=object)"
      ]
     },
     "execution_count": 39,
     "metadata": {},
     "output_type": "execute_result"
    }
   ],
   "source": [
    "train['product_color_grouped'] = train['product_color_grouped'].fillna(\"rare\")\n",
    "train[\"product_color_grouped\"].unique()"
   ]
  },
  {
   "cell_type": "code",
   "execution_count": 40,
   "id": "f2b91c6d",
   "metadata": {},
   "outputs": [
    {
     "data": {
      "text/plain": [
       "array(['white', 'black', 'rare', 'yellow', 'green', 'pink', 'red'],\n",
       "      dtype=object)"
      ]
     },
     "execution_count": 40,
     "metadata": {},
     "output_type": "execute_result"
    }
   ],
   "source": [
    "test['product_color_grouped'] = test['product_color_grouped'].fillna(\"rare\")\n",
    "test[\"product_color_grouped\"].unique()"
   ]
  },
  {
   "cell_type": "markdown",
   "id": "d0a6ed4a",
   "metadata": {},
   "source": [
    "********************"
   ]
  },
  {
   "cell_type": "code",
   "execution_count": 41,
   "id": "a899a5ee",
   "metadata": {},
   "outputs": [
    {
     "data": {
      "text/plain": [
       "array(['M', 'rare', 'XS', 'S', 'XXS'], dtype=object)"
      ]
     },
     "execution_count": 41,
     "metadata": {},
     "output_type": "execute_result"
    }
   ],
   "source": [
    "train['product_variation_size_id_grouped'] = train['product_variation_size_id_grouped'].fillna(\"rare\")\n",
    "train[\"product_variation_size_id_grouped\"].unique()"
   ]
  },
  {
   "cell_type": "code",
   "execution_count": 42,
   "id": "efcc4aed",
   "metadata": {},
   "outputs": [
    {
     "data": {
      "text/plain": [
       "array(['XS', 'M', 'XXS', 'S', 'rare'], dtype=object)"
      ]
     },
     "execution_count": 42,
     "metadata": {},
     "output_type": "execute_result"
    }
   ],
   "source": [
    "test['product_variation_size_id_grouped'] = test['product_variation_size_id_grouped'].fillna(\"rare\")\n",
    "test[\"product_variation_size_id_grouped\"].unique()"
   ]
  },
  {
   "cell_type": "markdown",
   "id": "148284c9",
   "metadata": {},
   "source": [
    "**************************"
   ]
  },
  {
   "cell_type": "code",
   "execution_count": 43,
   "id": "0f32df13",
   "metadata": {},
   "outputs": [
    {
     "data": {
      "text/plain": [
       "array(['Livraison standard', 'rare'], dtype=object)"
      ]
     },
     "execution_count": 43,
     "metadata": {},
     "output_type": "execute_result"
    }
   ],
   "source": [
    "train['shipping_option_name_grouped'] = train['shipping_option_name_grouped'].fillna(\"rare\")\n",
    "train[\"shipping_option_name_grouped\"].unique()"
   ]
  },
  {
   "cell_type": "code",
   "execution_count": 44,
   "id": "ebaf7660",
   "metadata": {},
   "outputs": [
    {
     "data": {
      "text/plain": [
       "array(['Livraison standard', 'rare'], dtype=object)"
      ]
     },
     "execution_count": 44,
     "metadata": {},
     "output_type": "execute_result"
    }
   ],
   "source": [
    "test['shipping_option_name_grouped'] = test['shipping_option_name_grouped'].fillna(\"rare\")\n",
    "test[\"shipping_option_name_grouped\"].unique()"
   ]
  },
  {
   "cell_type": "markdown",
   "id": "dba54705",
   "metadata": {},
   "source": [
    "********************************"
   ]
  },
  {
   "cell_type": "code",
   "execution_count": 45,
   "id": "4b1bdd4a",
   "metadata": {
    "scrolled": true
   },
   "outputs": [
    {
     "data": {
      "text/plain": [
       "array(['CN', 'rare'], dtype=object)"
      ]
     },
     "execution_count": 45,
     "metadata": {},
     "output_type": "execute_result"
    }
   ],
   "source": [
    "train['origin_country_grouped'] = train['origin_country_grouped'].fillna(\"rare\")\n",
    "train[\"origin_country_grouped\"].unique()"
   ]
  },
  {
   "cell_type": "code",
   "execution_count": 46,
   "id": "ac74fd17",
   "metadata": {},
   "outputs": [
    {
     "data": {
      "text/plain": [
       "array(['CN', 'rare'], dtype=object)"
      ]
     },
     "execution_count": 46,
     "metadata": {},
     "output_type": "execute_result"
    }
   ],
   "source": [
    "test['origin_country_grouped'] = test['origin_country_grouped'].fillna(\"rare\")\n",
    "test[\"origin_country_grouped\"].unique()"
   ]
  },
  {
   "cell_type": "markdown",
   "id": "3ce620ff",
   "metadata": {},
   "source": [
    "***********************************"
   ]
  },
  {
   "cell_type": "code",
   "execution_count": 47,
   "id": "4917121a",
   "metadata": {},
   "outputs": [
    {
     "data": {
      "text/html": [
       "<div>\n",
       "<style scoped>\n",
       "    .dataframe tbody tr th:only-of-type {\n",
       "        vertical-align: middle;\n",
       "    }\n",
       "\n",
       "    .dataframe tbody tr th {\n",
       "        vertical-align: top;\n",
       "    }\n",
       "\n",
       "    .dataframe thead th {\n",
       "        text-align: right;\n",
       "    }\n",
       "</style>\n",
       "<table border=\"1\" class=\"dataframe\">\n",
       "  <thead>\n",
       "    <tr style=\"text-align: right;\">\n",
       "      <th></th>\n",
       "      <th>price</th>\n",
       "      <th>retail_price</th>\n",
       "      <th>units_sold</th>\n",
       "      <th>uses_ad_boosts</th>\n",
       "      <th>rating</th>\n",
       "      <th>rating_count</th>\n",
       "      <th>badges_count</th>\n",
       "      <th>badge_local_product</th>\n",
       "      <th>badge_product_quality</th>\n",
       "      <th>badge_fast_shipping</th>\n",
       "      <th>product_variation_inventory</th>\n",
       "      <th>shipping_option_price</th>\n",
       "      <th>shipping_is_express</th>\n",
       "      <th>countries_shipped_to</th>\n",
       "      <th>has_urgency_banner</th>\n",
       "      <th>merchant_rating_count</th>\n",
       "      <th>merchant_rating</th>\n",
       "      <th>merchant_has_profile_picture</th>\n",
       "      <th>product_color_grouped</th>\n",
       "      <th>product_variation_size_id_grouped</th>\n",
       "      <th>shipping_option_name_grouped</th>\n",
       "      <th>origin_country_grouped</th>\n",
       "    </tr>\n",
       "  </thead>\n",
       "  <tbody>\n",
       "    <tr>\n",
       "      <th>0</th>\n",
       "      <td>8.0</td>\n",
       "      <td>7</td>\n",
       "      <td>10000</td>\n",
       "      <td>1</td>\n",
       "      <td>4.0</td>\n",
       "      <td>1670</td>\n",
       "      <td>0</td>\n",
       "      <td>0</td>\n",
       "      <td>0</td>\n",
       "      <td>0</td>\n",
       "      <td>50</td>\n",
       "      <td>3</td>\n",
       "      <td>0</td>\n",
       "      <td>30</td>\n",
       "      <td>0.0</td>\n",
       "      <td>66644</td>\n",
       "      <td>4.137582</td>\n",
       "      <td>1</td>\n",
       "      <td>yellow</td>\n",
       "      <td>M</td>\n",
       "      <td>Livraison standard</td>\n",
       "      <td>CN</td>\n",
       "    </tr>\n",
       "    <tr>\n",
       "      <th>1</th>\n",
       "      <td>8.0</td>\n",
       "      <td>7</td>\n",
       "      <td>1000</td>\n",
       "      <td>0</td>\n",
       "      <td>4.0</td>\n",
       "      <td>843</td>\n",
       "      <td>1</td>\n",
       "      <td>1</td>\n",
       "      <td>0</td>\n",
       "      <td>0</td>\n",
       "      <td>50</td>\n",
       "      <td>3</td>\n",
       "      <td>0</td>\n",
       "      <td>37</td>\n",
       "      <td>0.0</td>\n",
       "      <td>25752</td>\n",
       "      <td>4.256873</td>\n",
       "      <td>0</td>\n",
       "      <td>black</td>\n",
       "      <td>rare</td>\n",
       "      <td>Livraison standard</td>\n",
       "      <td>CN</td>\n",
       "    </tr>\n",
       "  </tbody>\n",
       "</table>\n",
       "</div>"
      ],
      "text/plain": [
       "   price  retail_price  units_sold  uses_ad_boosts  rating  rating_count  \\\n",
       "0    8.0             7       10000               1     4.0          1670   \n",
       "1    8.0             7        1000               0     4.0           843   \n",
       "\n",
       "   badges_count  badge_local_product  badge_product_quality  \\\n",
       "0             0                    0                      0   \n",
       "1             1                    1                      0   \n",
       "\n",
       "   badge_fast_shipping  product_variation_inventory  shipping_option_price  \\\n",
       "0                    0                           50                      3   \n",
       "1                    0                           50                      3   \n",
       "\n",
       "   shipping_is_express  countries_shipped_to  has_urgency_banner  \\\n",
       "0                    0                    30                 0.0   \n",
       "1                    0                    37                 0.0   \n",
       "\n",
       "   merchant_rating_count  merchant_rating  merchant_has_profile_picture  \\\n",
       "0                  66644         4.137582                             1   \n",
       "1                  25752         4.256873                             0   \n",
       "\n",
       "  product_color_grouped product_variation_size_id_grouped  \\\n",
       "0                yellow                                 M   \n",
       "1                 black                              rare   \n",
       "\n",
       "  shipping_option_name_grouped origin_country_grouped  \n",
       "0           Livraison standard                     CN  \n",
       "1           Livraison standard                     CN  "
      ]
     },
     "execution_count": 47,
     "metadata": {},
     "output_type": "execute_result"
    }
   ],
   "source": [
    "train.head(2)"
   ]
  },
  {
   "cell_type": "code",
   "execution_count": 48,
   "id": "840dae24",
   "metadata": {},
   "outputs": [
    {
     "data": {
      "text/html": [
       "<div>\n",
       "<style scoped>\n",
       "    .dataframe tbody tr th:only-of-type {\n",
       "        vertical-align: middle;\n",
       "    }\n",
       "\n",
       "    .dataframe tbody tr th {\n",
       "        vertical-align: top;\n",
       "    }\n",
       "\n",
       "    .dataframe thead th {\n",
       "        text-align: right;\n",
       "    }\n",
       "</style>\n",
       "<table border=\"1\" class=\"dataframe\">\n",
       "  <thead>\n",
       "    <tr style=\"text-align: right;\">\n",
       "      <th></th>\n",
       "      <th>price</th>\n",
       "      <th>retail_price</th>\n",
       "      <th>units_sold</th>\n",
       "      <th>uses_ad_boosts</th>\n",
       "      <th>rating_count</th>\n",
       "      <th>badges_count</th>\n",
       "      <th>badge_local_product</th>\n",
       "      <th>badge_product_quality</th>\n",
       "      <th>badge_fast_shipping</th>\n",
       "      <th>product_variation_inventory</th>\n",
       "      <th>shipping_option_price</th>\n",
       "      <th>shipping_is_express</th>\n",
       "      <th>countries_shipped_to</th>\n",
       "      <th>has_urgency_banner</th>\n",
       "      <th>merchant_rating_count</th>\n",
       "      <th>merchant_rating</th>\n",
       "      <th>merchant_has_profile_picture</th>\n",
       "      <th>product_color_grouped</th>\n",
       "      <th>product_variation_size_id_grouped</th>\n",
       "      <th>shipping_option_name_grouped</th>\n",
       "      <th>origin_country_grouped</th>\n",
       "    </tr>\n",
       "  </thead>\n",
       "  <tbody>\n",
       "    <tr>\n",
       "      <th>0</th>\n",
       "      <td>5.75</td>\n",
       "      <td>5</td>\n",
       "      <td>10</td>\n",
       "      <td>1</td>\n",
       "      <td>0</td>\n",
       "      <td>0</td>\n",
       "      <td>0</td>\n",
       "      <td>0</td>\n",
       "      <td>0</td>\n",
       "      <td>5</td>\n",
       "      <td>2</td>\n",
       "      <td>0</td>\n",
       "      <td>139</td>\n",
       "      <td>NaN</td>\n",
       "      <td>3</td>\n",
       "      <td>2.333333</td>\n",
       "      <td>0</td>\n",
       "      <td>white</td>\n",
       "      <td>XS</td>\n",
       "      <td>Livraison standard</td>\n",
       "      <td>CN</td>\n",
       "    </tr>\n",
       "    <tr>\n",
       "      <th>1</th>\n",
       "      <td>7.00</td>\n",
       "      <td>7</td>\n",
       "      <td>5000</td>\n",
       "      <td>0</td>\n",
       "      <td>579</td>\n",
       "      <td>0</td>\n",
       "      <td>0</td>\n",
       "      <td>0</td>\n",
       "      <td>0</td>\n",
       "      <td>50</td>\n",
       "      <td>2</td>\n",
       "      <td>0</td>\n",
       "      <td>31</td>\n",
       "      <td>NaN</td>\n",
       "      <td>4213</td>\n",
       "      <td>4.058391</td>\n",
       "      <td>0</td>\n",
       "      <td>black</td>\n",
       "      <td>XS</td>\n",
       "      <td>Livraison standard</td>\n",
       "      <td>CN</td>\n",
       "    </tr>\n",
       "  </tbody>\n",
       "</table>\n",
       "</div>"
      ],
      "text/plain": [
       "   price  retail_price  units_sold  uses_ad_boosts  rating_count  \\\n",
       "0   5.75             5          10               1             0   \n",
       "1   7.00             7        5000               0           579   \n",
       "\n",
       "   badges_count  badge_local_product  badge_product_quality  \\\n",
       "0             0                    0                      0   \n",
       "1             0                    0                      0   \n",
       "\n",
       "   badge_fast_shipping  product_variation_inventory  shipping_option_price  \\\n",
       "0                    0                            5                      2   \n",
       "1                    0                           50                      2   \n",
       "\n",
       "   shipping_is_express  countries_shipped_to  has_urgency_banner  \\\n",
       "0                    0                   139                 NaN   \n",
       "1                    0                    31                 NaN   \n",
       "\n",
       "   merchant_rating_count  merchant_rating  merchant_has_profile_picture  \\\n",
       "0                      3         2.333333                             0   \n",
       "1                   4213         4.058391                             0   \n",
       "\n",
       "  product_color_grouped product_variation_size_id_grouped  \\\n",
       "0                 white                                XS   \n",
       "1                 black                                XS   \n",
       "\n",
       "  shipping_option_name_grouped origin_country_grouped  \n",
       "0           Livraison standard                     CN  \n",
       "1           Livraison standard                     CN  "
      ]
     },
     "execution_count": 48,
     "metadata": {},
     "output_type": "execute_result"
    }
   ],
   "source": [
    "test.head(2)"
   ]
  },
  {
   "cell_type": "code",
   "execution_count": 49,
   "id": "746af8ef",
   "metadata": {},
   "outputs": [
    {
     "data": {
      "text/plain": [
       "Index(['price', 'retail_price', 'units_sold', 'uses_ad_boosts', 'rating',\n",
       "       'rating_count', 'badges_count', 'badge_local_product',\n",
       "       'badge_product_quality', 'badge_fast_shipping',\n",
       "       'product_variation_inventory', 'shipping_option_price',\n",
       "       'shipping_is_express', 'countries_shipped_to', 'has_urgency_banner',\n",
       "       'merchant_rating_count', 'merchant_rating',\n",
       "       'merchant_has_profile_picture', 'product_color_grouped',\n",
       "       'product_variation_size_id_grouped', 'shipping_option_name_grouped',\n",
       "       'origin_country_grouped'],\n",
       "      dtype='object')"
      ]
     },
     "execution_count": 49,
     "metadata": {},
     "output_type": "execute_result"
    }
   ],
   "source": [
    "train.columns"
   ]
  },
  {
   "cell_type": "code",
   "execution_count": 50,
   "id": "2e1c92d4",
   "metadata": {},
   "outputs": [
    {
     "data": {
      "text/plain": [
       "Index(['price', 'retail_price', 'units_sold', 'uses_ad_boosts', 'rating_count',\n",
       "       'badges_count', 'badge_local_product', 'badge_product_quality',\n",
       "       'badge_fast_shipping', 'product_variation_inventory',\n",
       "       'shipping_option_price', 'shipping_is_express', 'countries_shipped_to',\n",
       "       'has_urgency_banner', 'merchant_rating_count', 'merchant_rating',\n",
       "       'merchant_has_profile_picture', 'product_color_grouped',\n",
       "       'product_variation_size_id_grouped', 'shipping_option_name_grouped',\n",
       "       'origin_country_grouped'],\n",
       "      dtype='object')"
      ]
     },
     "execution_count": 50,
     "metadata": {},
     "output_type": "execute_result"
    }
   ],
   "source": [
    "test.columns"
   ]
  },
  {
   "cell_type": "markdown",
   "id": "e6057a9d",
   "metadata": {},
   "source": [
    "# One Hot Encoding"
   ]
  },
  {
   "cell_type": "code",
   "execution_count": 51,
   "id": "c46f7b5b",
   "metadata": {},
   "outputs": [],
   "source": [
    "def get_OHE_train(df):\n",
    "\n",
    "    df_OHE = pd.concat( [df[['price', 'retail_price', 'units_sold', 'uses_ad_boosts', 'rating',\n",
    "       'rating_count', 'badges_count', 'badge_local_product',\n",
    "       'badge_product_quality', 'badge_fast_shipping', \n",
    "                             #'tags', 'merchant_title', 'urgency_text', 'merchant_info_subtitle',\n",
    "       'product_variation_inventory', 'shipping_option_price',\n",
    "       'shipping_is_express', 'countries_shipped_to',\n",
    "       'has_urgency_banner', \n",
    "       'merchant_rating_count', 'merchant_rating',\n",
    "       'merchant_has_profile_picture']],\n",
    "                         \n",
    "         pd.get_dummies(df[['product_color_grouped',\n",
    "       'product_variation_size_id_grouped', 'shipping_option_name_grouped',\n",
    "       'origin_country_grouped']], drop_first=True)], axis=1)\n",
    "    return df_OHE"
   ]
  },
  {
   "cell_type": "code",
   "execution_count": 52,
   "id": "eeb29398",
   "metadata": {},
   "outputs": [],
   "source": [
    "def get_OHE_test(df):\n",
    "\n",
    "    df_OHE = pd.concat( [df[['price', 'retail_price', 'units_sold', 'uses_ad_boosts',\n",
    "       'rating_count', 'badges_count', 'badge_local_product',\n",
    "       'badge_product_quality', 'badge_fast_shipping', \n",
    "                             #'tags', 'merchant_title', 'urgency_text',  'merchant_info_subtitle',\n",
    "       'product_variation_inventory', 'shipping_option_price',\n",
    "       'shipping_is_express', 'countries_shipped_to',\n",
    "       'has_urgency_banner', \n",
    "       'merchant_rating_count', 'merchant_rating',\n",
    "       'merchant_has_profile_picture']],\n",
    "                         \n",
    "         pd.get_dummies(df[['product_color_grouped',\n",
    "       'product_variation_size_id_grouped', 'shipping_option_name_grouped',\n",
    "       'origin_country_grouped']], drop_first=True)], axis=1)\n",
    "    return df_OHE"
   ]
  },
  {
   "cell_type": "code",
   "execution_count": 53,
   "id": "82bcf913",
   "metadata": {},
   "outputs": [],
   "source": [
    "train_OHE = get_OHE_train(train)\n",
    "test_OHE = get_OHE_test(test)"
   ]
  },
  {
   "cell_type": "code",
   "execution_count": 54,
   "id": "d4a413ba",
   "metadata": {},
   "outputs": [
    {
     "name": "stdout",
     "output_type": "stream",
     "text": [
      "(1093, 31)\n",
      "(479, 29)\n"
     ]
    }
   ],
   "source": [
    "print(train_OHE.shape)\n",
    "print(test_OHE.shape)"
   ]
  },
  {
   "cell_type": "code",
   "execution_count": 55,
   "id": "f273cd1e",
   "metadata": {},
   "outputs": [],
   "source": [
    "test_OHE['product_color_grouped_blue']=0"
   ]
  },
  {
   "cell_type": "code",
   "execution_count": 56,
   "id": "842875eb",
   "metadata": {},
   "outputs": [
    {
     "data": {
      "text/plain": [
       "Index(['price', 'retail_price', 'units_sold', 'uses_ad_boosts', 'rating_count',\n",
       "       'badges_count', 'badge_local_product', 'badge_product_quality',\n",
       "       'badge_fast_shipping', 'product_variation_inventory',\n",
       "       'shipping_option_price', 'shipping_is_express', 'countries_shipped_to',\n",
       "       'has_urgency_banner', 'merchant_rating_count', 'merchant_rating',\n",
       "       'merchant_has_profile_picture', 'product_color_grouped_green',\n",
       "       'product_color_grouped_pink', 'product_color_grouped_rare',\n",
       "       'product_color_grouped_red', 'product_color_grouped_white',\n",
       "       'product_color_grouped_yellow', 'product_variation_size_id_grouped_S',\n",
       "       'product_variation_size_id_grouped_XS',\n",
       "       'product_variation_size_id_grouped_XXS',\n",
       "       'product_variation_size_id_grouped_rare',\n",
       "       'shipping_option_name_grouped_rare', 'origin_country_grouped_rare',\n",
       "       'product_color_grouped_blue'],\n",
       "      dtype='object')"
      ]
     },
     "execution_count": 56,
     "metadata": {},
     "output_type": "execute_result"
    }
   ],
   "source": [
    "test_OHE.columns"
   ]
  },
  {
   "cell_type": "code",
   "execution_count": 57,
   "id": "3a251ebe",
   "metadata": {},
   "outputs": [],
   "source": [
    "test_OHE = test_OHE[ ['price', 'retail_price', 'units_sold', 'uses_ad_boosts', 'rating_count',\n",
    "       'badges_count', 'badge_local_product', 'badge_product_quality',\n",
    "       'badge_fast_shipping',  'product_variation_inventory',\n",
    "       'shipping_option_price', 'shipping_is_express', 'countries_shipped_to',\n",
    "       'has_urgency_banner', \n",
    "                    #  'urgency_text',  'merchant_title', 'tags',  'merchant_info_subtitle',\n",
    "       'merchant_rating_count', 'merchant_rating',\n",
    "       'merchant_has_profile_picture', 'product_color_grouped_blue', 'product_color_grouped_green',\n",
    "       'product_color_grouped_pink', 'product_color_grouped_rare',\n",
    "       'product_color_grouped_red', 'product_color_grouped_white',\n",
    "       'product_color_grouped_yellow', 'product_variation_size_id_grouped_S',\n",
    "       'product_variation_size_id_grouped_XS',\n",
    "       'product_variation_size_id_grouped_XXS',\n",
    "       'product_variation_size_id_grouped_rare',\n",
    "       'shipping_option_name_grouped_rare', 'origin_country_grouped_rare']  ]"
   ]
  },
  {
   "cell_type": "code",
   "execution_count": 58,
   "id": "d710013e",
   "metadata": {},
   "outputs": [
    {
     "name": "stdout",
     "output_type": "stream",
     "text": [
      "(1093, 31)\n",
      "(479, 30)\n"
     ]
    }
   ],
   "source": [
    "print(train_OHE.shape)\n",
    "print(test_OHE.shape)"
   ]
  },
  {
   "cell_type": "markdown",
   "id": "59b3f057",
   "metadata": {},
   "source": [
    "#### No need for feature scaling"
   ]
  },
  {
   "cell_type": "markdown",
   "id": "113c4ff4",
   "metadata": {},
   "source": [
    "## Outlier Engineering\n",
    "Only on the training data set\n"
   ]
  },
  {
   "cell_type": "code",
   "execution_count": 59,
   "id": "740f370a",
   "metadata": {},
   "outputs": [],
   "source": [
    "# Function to create a histogram, a Q-Q plot and a boxplot.\n",
    "def diagnostic_plots(df, variable):\n",
    "    # The function takes a dataframe (df) and the variable of interest as arguments.\n",
    "\n",
    "    # Define figure size.\n",
    "    plt.figure(figsize=(16, 4))\n",
    "\n",
    "    # histogram\n",
    "    plt.subplot(1, 3, 1)\n",
    "    sns.histplot(df[variable], bins=30)\n",
    "    plt.title('Histogram')\n",
    "\n",
    "    # Q-Q plot\n",
    "    plt.subplot(1, 3, 2)\n",
    "    stats.probplot(df[variable], dist=\"norm\", plot=plt)\n",
    "    plt.ylabel('RM quantiles')\n",
    "\n",
    "    # boxplot\n",
    "    plt.subplot(1, 3, 3)\n",
    "    sns.boxplot(y=df[variable])\n",
    "    plt.title('Boxplot')\n",
    "\n",
    "    plt.show()"
   ]
  },
  {
   "cell_type": "code",
   "execution_count": 60,
   "id": "f6ab9292",
   "metadata": {},
   "outputs": [
    {
     "data": {
      "image/png": "[encoded data removed]",
      "text/plain": [
       "<Figure size 1600x400 with 3 Axes>"
      ]
     },
     "metadata": {},
     "output_type": "display_data"
    }
   ],
   "source": [
    "diagnostic_plots(train, 'countries_shipped_to')"
   ]
  },
  {
   "cell_type": "code",
   "execution_count": 61,
   "id": "be1f2fda",
   "metadata": {},
   "outputs": [
    {
     "data": {
      "image/png": "[encoded data removed]",
      "text/plain": [
       "<Figure size 1600x400 with 3 Axes>"
      ]
     },
     "metadata": {},
     "output_type": "display_data"
    }
   ],
   "source": [
    "diagnostic_plots(train, 'merchant_rating')"
   ]
  },
  {
   "cell_type": "markdown",
   "id": "dfc15dfd",
   "metadata": {},
   "source": [
    "They are not normally distributed and has outliers"
   ]
  },
  {
   "cell_type": "code",
   "execution_count": 62,
   "id": "32e8e013",
   "metadata": {},
   "outputs": [],
   "source": [
    "# Function to find upper and lower boundaries for skewed variables.\n",
    "\n",
    "\n",
    "def find_skewed_boundaries(df, variable, distance):\n",
    "\n",
    "    # Let's calculate the boundaries for skewed distributions\n",
    "\n",
    "    # The parameter \"distance\" gives us the option to\n",
    "    # estimate 1.5 times or 3 times the IQR when defining the boundaries.\n",
    "\n",
    "    IQR = df[variable].quantile(0.75) - df[variable].quantile(0.25)\n",
    "\n",
    "    lower_boundary = df[variable].quantile(0.25) - (IQR * distance)\n",
    "    upper_boundary = df[variable].quantile(0.75) + (IQR * distance)\n",
    "\n",
    "    return upper_boundary, lower_boundary"
   ]
  },
  {
   "cell_type": "code",
   "execution_count": 63,
   "id": "58a208fd",
   "metadata": {},
   "outputs": [
    {
     "data": {
      "text/plain": [
       "(61.0, 13.0)"
      ]
     },
     "execution_count": 63,
     "metadata": {},
     "output_type": "execute_result"
    }
   ],
   "source": [
    "# Find outliers with the IQR proximity rule.\n",
    "# Here we use, IQR * 1.5, the standard metric.\n",
    "\n",
    "upper_boundary, lower_boundary = find_skewed_boundaries(train, 'countries_shipped_to', 1.5)\n",
    "upper_boundary, lower_boundary"
   ]
  },
  {
   "cell_type": "code",
   "execution_count": 64,
   "id": "d7f6c6b3",
   "metadata": {},
   "outputs": [
    {
     "name": "stdout",
     "output_type": "stream",
     "text": [
      "total number of products: 1093\n",
      "products with right end outliers: 68\n",
      "products with left end outliers: 11\n",
      "\n",
      "% right end outliers: 0.06221408966148216\n",
      "% left end outliers: 0.010064043915827997\n"
     ]
    }
   ],
   "source": [
    "# Inspect the number and percentage of outliers in Population.\n",
    "\n",
    "print('total number of products: {}'.format(len(train)))\n",
    "\n",
    "print('products with right end outliers: {}'.format(len(train[train['countries_shipped_to'] > upper_boundary])))\n",
    "\n",
    "print('products with left end outliers: {}'.format(len(train[train['countries_shipped_to'] < lower_boundary])))\n",
    "print()\n",
    "print('% right end outliers: {}'.format(len(train[train['countries_shipped_to'] > upper_boundary]) / len(train)))\n",
    "\n",
    "print('% left end outliers: {}'.format(len(train[train['countries_shipped_to'] < lower_boundary]) / len(train)))"
   ]
  },
  {
   "cell_type": "code",
   "execution_count": 65,
   "id": "21d68c23",
   "metadata": {},
   "outputs": [],
   "source": [
    "train['countries_shipped_to']= np.where(train['countries_shipped_to'] > upper_boundary, upper_boundary,\n",
    "                       np.where(train['countries_shipped_to'] < lower_boundary, lower_boundary, train['countries_shipped_to']))"
   ]
  },
  {
   "cell_type": "code",
   "execution_count": 66,
   "id": "379f491a",
   "metadata": {},
   "outputs": [
    {
     "data": {
      "text/plain": [
       "(4.5387221933154756, 3.5461544391127564)"
      ]
     },
     "execution_count": 66,
     "metadata": {},
     "output_type": "execute_result"
    }
   ],
   "source": [
    "upper_boundary2, lower_boundary2 = find_skewed_boundaries(train, 'merchant_rating', 1.5)\n",
    "upper_boundary2, lower_boundary2"
   ]
  },
  {
   "cell_type": "code",
   "execution_count": 67,
   "id": "7d3e2e6e",
   "metadata": {},
   "outputs": [],
   "source": [
    "train['merchant_rating']= np.where(train['merchant_rating'] > upper_boundary2, upper_boundary2,\n",
    "                       np.where(train['merchant_rating'] < lower_boundary2, lower_boundary2, train['merchant_rating']))"
   ]
  },
  {
   "cell_type": "markdown",
   "id": "ecda80ea",
   "metadata": {},
   "source": [
    "### Now, let's check again ..."
   ]
  },
  {
   "cell_type": "code",
   "execution_count": 68,
   "id": "7cb1f82e",
   "metadata": {},
   "outputs": [
    {
     "data": {
      "image/png": "[encoded data removed]",
      "text/plain": [
       "<Figure size 1600x400 with 3 Axes>"
      ]
     },
     "metadata": {},
     "output_type": "display_data"
    }
   ],
   "source": [
    "diagnostic_plots(train, 'countries_shipped_to')"
   ]
  },
  {
   "cell_type": "code",
   "execution_count": 69,
   "id": "e3892047",
   "metadata": {},
   "outputs": [
    {
     "data": {
      "image/png": "[encoded data removed]",
      "text/plain": [
       "<Figure size 1600x400 with 3 Axes>"
      ]
     },
     "metadata": {},
     "output_type": "display_data"
    }
   ],
   "source": [
    "diagnostic_plots(train, 'merchant_rating')"
   ]
  },
  {
   "cell_type": "markdown",
   "id": "7094b02d",
   "metadata": {},
   "source": [
    "### As we can see, we removed the outliers ..."
   ]
  },
  {
   "cell_type": "markdown",
   "id": "8db6645f",
   "metadata": {},
   "source": [
    "# Feature Selection"
   ]
  },
  {
   "cell_type": "code",
   "execution_count": 70,
   "id": "225e9929",
   "metadata": {},
   "outputs": [
    {
     "data": {
      "text/html": [
       "<div>\n",
       "<style scoped>\n",
       "    .dataframe tbody tr th:only-of-type {\n",
       "        vertical-align: middle;\n",
       "    }\n",
       "\n",
       "    .dataframe tbody tr th {\n",
       "        vertical-align: top;\n",
       "    }\n",
       "\n",
       "    .dataframe thead th {\n",
       "        text-align: right;\n",
       "    }\n",
       "</style>\n",
       "<table border=\"1\" class=\"dataframe\">\n",
       "  <thead>\n",
       "    <tr style=\"text-align: right;\">\n",
       "      <th></th>\n",
       "      <th>price</th>\n",
       "      <th>retail_price</th>\n",
       "      <th>units_sold</th>\n",
       "      <th>uses_ad_boosts</th>\n",
       "      <th>rating</th>\n",
       "      <th>rating_count</th>\n",
       "      <th>badges_count</th>\n",
       "      <th>badge_local_product</th>\n",
       "      <th>badge_product_quality</th>\n",
       "      <th>badge_fast_shipping</th>\n",
       "      <th>product_variation_inventory</th>\n",
       "      <th>shipping_option_price</th>\n",
       "      <th>shipping_is_express</th>\n",
       "      <th>countries_shipped_to</th>\n",
       "      <th>has_urgency_banner</th>\n",
       "      <th>merchant_rating_count</th>\n",
       "      <th>merchant_rating</th>\n",
       "      <th>merchant_has_profile_picture</th>\n",
       "      <th>product_color_grouped_blue</th>\n",
       "      <th>product_color_grouped_green</th>\n",
       "      <th>product_color_grouped_pink</th>\n",
       "      <th>product_color_grouped_rare</th>\n",
       "      <th>product_color_grouped_red</th>\n",
       "      <th>product_color_grouped_white</th>\n",
       "      <th>product_color_grouped_yellow</th>\n",
       "      <th>product_variation_size_id_grouped_S</th>\n",
       "      <th>product_variation_size_id_grouped_XS</th>\n",
       "      <th>product_variation_size_id_grouped_XXS</th>\n",
       "      <th>product_variation_size_id_grouped_rare</th>\n",
       "      <th>shipping_option_name_grouped_rare</th>\n",
       "      <th>origin_country_grouped_rare</th>\n",
       "    </tr>\n",
       "  </thead>\n",
       "  <tbody>\n",
       "    <tr>\n",
       "      <th>0</th>\n",
       "      <td>8.0</td>\n",
       "      <td>7</td>\n",
       "      <td>10000</td>\n",
       "      <td>1</td>\n",
       "      <td>4.0</td>\n",
       "      <td>1670</td>\n",
       "      <td>0</td>\n",
       "      <td>0</td>\n",
       "      <td>0</td>\n",
       "      <td>0</td>\n",
       "      <td>50</td>\n",
       "      <td>3</td>\n",
       "      <td>0</td>\n",
       "      <td>30</td>\n",
       "      <td>0.0</td>\n",
       "      <td>66644</td>\n",
       "      <td>4.137582</td>\n",
       "      <td>1</td>\n",
       "      <td>0</td>\n",
       "      <td>0</td>\n",
       "      <td>0</td>\n",
       "      <td>0</td>\n",
       "      <td>0</td>\n",
       "      <td>0</td>\n",
       "      <td>1</td>\n",
       "      <td>0</td>\n",
       "      <td>0</td>\n",
       "      <td>0</td>\n",
       "      <td>0</td>\n",
       "      <td>0</td>\n",
       "      <td>0</td>\n",
       "    </tr>\n",
       "    <tr>\n",
       "      <th>1</th>\n",
       "      <td>8.0</td>\n",
       "      <td>7</td>\n",
       "      <td>1000</td>\n",
       "      <td>0</td>\n",
       "      <td>4.0</td>\n",
       "      <td>843</td>\n",
       "      <td>1</td>\n",
       "      <td>1</td>\n",
       "      <td>0</td>\n",
       "      <td>0</td>\n",
       "      <td>50</td>\n",
       "      <td>3</td>\n",
       "      <td>0</td>\n",
       "      <td>37</td>\n",
       "      <td>0.0</td>\n",
       "      <td>25752</td>\n",
       "      <td>4.256873</td>\n",
       "      <td>0</td>\n",
       "      <td>0</td>\n",
       "      <td>0</td>\n",
       "      <td>0</td>\n",
       "      <td>0</td>\n",
       "      <td>0</td>\n",
       "      <td>0</td>\n",
       "      <td>0</td>\n",
       "      <td>0</td>\n",
       "      <td>0</td>\n",
       "      <td>0</td>\n",
       "      <td>1</td>\n",
       "      <td>0</td>\n",
       "      <td>0</td>\n",
       "    </tr>\n",
       "  </tbody>\n",
       "</table>\n",
       "</div>"
      ],
      "text/plain": [
       "   price  retail_price  units_sold  uses_ad_boosts  rating  rating_count  \\\n",
       "0    8.0             7       10000               1     4.0          1670   \n",
       "1    8.0             7        1000               0     4.0           843   \n",
       "\n",
       "   badges_count  badge_local_product  badge_product_quality  \\\n",
       "0             0                    0                      0   \n",
       "1             1                    1                      0   \n",
       "\n",
       "   badge_fast_shipping  product_variation_inventory  shipping_option_price  \\\n",
       "0                    0                           50                      3   \n",
       "1                    0                           50                      3   \n",
       "\n",
       "   shipping_is_express  countries_shipped_to  has_urgency_banner  \\\n",
       "0                    0                    30                 0.0   \n",
       "1                    0                    37                 0.0   \n",
       "\n",
       "   merchant_rating_count  merchant_rating  merchant_has_profile_picture  \\\n",
       "0                  66644         4.137582                             1   \n",
       "1                  25752         4.256873                             0   \n",
       "\n",
       "   product_color_grouped_blue  product_color_grouped_green  \\\n",
       "0                           0                            0   \n",
       "1                           0                            0   \n",
       "\n",
       "   product_color_grouped_pink  product_color_grouped_rare  \\\n",
       "0                           0                           0   \n",
       "1                           0                           0   \n",
       "\n",
       "   product_color_grouped_red  product_color_grouped_white  \\\n",
       "0                          0                            0   \n",
       "1                          0                            0   \n",
       "\n",
       "   product_color_grouped_yellow  product_variation_size_id_grouped_S  \\\n",
       "0                             1                                    0   \n",
       "1                             0                                    0   \n",
       "\n",
       "   product_variation_size_id_grouped_XS  \\\n",
       "0                                     0   \n",
       "1                                     0   \n",
       "\n",
       "   product_variation_size_id_grouped_XXS  \\\n",
       "0                                      0   \n",
       "1                                      0   \n",
       "\n",
       "   product_variation_size_id_grouped_rare  shipping_option_name_grouped_rare  \\\n",
       "0                                       0                                  0   \n",
       "1                                       1                                  0   \n",
       "\n",
       "   origin_country_grouped_rare  \n",
       "0                            0  \n",
       "1                            0  "
      ]
     },
     "execution_count": 70,
     "metadata": {},
     "output_type": "execute_result"
    }
   ],
   "source": [
    "train_OHE.head(2)"
   ]
  },
  {
   "cell_type": "code",
   "execution_count": 71,
   "id": "979e5c6b",
   "metadata": {},
   "outputs": [
    {
     "data": {
      "text/html": [
       "<div>\n",
       "<style scoped>\n",
       "    .dataframe tbody tr th:only-of-type {\n",
       "        vertical-align: middle;\n",
       "    }\n",
       "\n",
       "    .dataframe tbody tr th {\n",
       "        vertical-align: top;\n",
       "    }\n",
       "\n",
       "    .dataframe thead th {\n",
       "        text-align: right;\n",
       "    }\n",
       "</style>\n",
       "<table border=\"1\" class=\"dataframe\">\n",
       "  <thead>\n",
       "    <tr style=\"text-align: right;\">\n",
       "      <th></th>\n",
       "      <th>price</th>\n",
       "      <th>retail_price</th>\n",
       "      <th>units_sold</th>\n",
       "      <th>uses_ad_boosts</th>\n",
       "      <th>rating_count</th>\n",
       "      <th>badges_count</th>\n",
       "      <th>badge_local_product</th>\n",
       "      <th>badge_product_quality</th>\n",
       "      <th>badge_fast_shipping</th>\n",
       "      <th>product_variation_inventory</th>\n",
       "      <th>shipping_option_price</th>\n",
       "      <th>shipping_is_express</th>\n",
       "      <th>countries_shipped_to</th>\n",
       "      <th>has_urgency_banner</th>\n",
       "      <th>merchant_rating_count</th>\n",
       "      <th>merchant_rating</th>\n",
       "      <th>merchant_has_profile_picture</th>\n",
       "      <th>product_color_grouped_blue</th>\n",
       "      <th>product_color_grouped_green</th>\n",
       "      <th>product_color_grouped_pink</th>\n",
       "      <th>product_color_grouped_rare</th>\n",
       "      <th>product_color_grouped_red</th>\n",
       "      <th>product_color_grouped_white</th>\n",
       "      <th>product_color_grouped_yellow</th>\n",
       "      <th>product_variation_size_id_grouped_S</th>\n",
       "      <th>product_variation_size_id_grouped_XS</th>\n",
       "      <th>product_variation_size_id_grouped_XXS</th>\n",
       "      <th>product_variation_size_id_grouped_rare</th>\n",
       "      <th>shipping_option_name_grouped_rare</th>\n",
       "      <th>origin_country_grouped_rare</th>\n",
       "    </tr>\n",
       "  </thead>\n",
       "  <tbody>\n",
       "    <tr>\n",
       "      <th>0</th>\n",
       "      <td>5.75</td>\n",
       "      <td>5</td>\n",
       "      <td>10</td>\n",
       "      <td>1</td>\n",
       "      <td>0</td>\n",
       "      <td>0</td>\n",
       "      <td>0</td>\n",
       "      <td>0</td>\n",
       "      <td>0</td>\n",
       "      <td>5</td>\n",
       "      <td>2</td>\n",
       "      <td>0</td>\n",
       "      <td>139</td>\n",
       "      <td>NaN</td>\n",
       "      <td>3</td>\n",
       "      <td>2.333333</td>\n",
       "      <td>0</td>\n",
       "      <td>0</td>\n",
       "      <td>0</td>\n",
       "      <td>0</td>\n",
       "      <td>0</td>\n",
       "      <td>0</td>\n",
       "      <td>1</td>\n",
       "      <td>0</td>\n",
       "      <td>0</td>\n",
       "      <td>1</td>\n",
       "      <td>0</td>\n",
       "      <td>0</td>\n",
       "      <td>0</td>\n",
       "      <td>0</td>\n",
       "    </tr>\n",
       "    <tr>\n",
       "      <th>1</th>\n",
       "      <td>7.00</td>\n",
       "      <td>7</td>\n",
       "      <td>5000</td>\n",
       "      <td>0</td>\n",
       "      <td>579</td>\n",
       "      <td>0</td>\n",
       "      <td>0</td>\n",
       "      <td>0</td>\n",
       "      <td>0</td>\n",
       "      <td>50</td>\n",
       "      <td>2</td>\n",
       "      <td>0</td>\n",
       "      <td>31</td>\n",
       "      <td>NaN</td>\n",
       "      <td>4213</td>\n",
       "      <td>4.058391</td>\n",
       "      <td>0</td>\n",
       "      <td>0</td>\n",
       "      <td>0</td>\n",
       "      <td>0</td>\n",
       "      <td>0</td>\n",
       "      <td>0</td>\n",
       "      <td>0</td>\n",
       "      <td>0</td>\n",
       "      <td>0</td>\n",
       "      <td>1</td>\n",
       "      <td>0</td>\n",
       "      <td>0</td>\n",
       "      <td>0</td>\n",
       "      <td>0</td>\n",
       "    </tr>\n",
       "  </tbody>\n",
       "</table>\n",
       "</div>"
      ],
      "text/plain": [
       "   price  retail_price  units_sold  uses_ad_boosts  rating_count  \\\n",
       "0   5.75             5          10               1             0   \n",
       "1   7.00             7        5000               0           579   \n",
       "\n",
       "   badges_count  badge_local_product  badge_product_quality  \\\n",
       "0             0                    0                      0   \n",
       "1             0                    0                      0   \n",
       "\n",
       "   badge_fast_shipping  product_variation_inventory  shipping_option_price  \\\n",
       "0                    0                            5                      2   \n",
       "1                    0                           50                      2   \n",
       "\n",
       "   shipping_is_express  countries_shipped_to  has_urgency_banner  \\\n",
       "0                    0                   139                 NaN   \n",
       "1                    0                    31                 NaN   \n",
       "\n",
       "   merchant_rating_count  merchant_rating  merchant_has_profile_picture  \\\n",
       "0                      3         2.333333                             0   \n",
       "1                   4213         4.058391                             0   \n",
       "\n",
       "   product_color_grouped_blue  product_color_grouped_green  \\\n",
       "0                           0                            0   \n",
       "1                           0                            0   \n",
       "\n",
       "   product_color_grouped_pink  product_color_grouped_rare  \\\n",
       "0                           0                           0   \n",
       "1                           0                           0   \n",
       "\n",
       "   product_color_grouped_red  product_color_grouped_white  \\\n",
       "0                          0                            1   \n",
       "1                          0                            0   \n",
       "\n",
       "   product_color_grouped_yellow  product_variation_size_id_grouped_S  \\\n",
       "0                             0                                    0   \n",
       "1                             0                                    0   \n",
       "\n",
       "   product_variation_size_id_grouped_XS  \\\n",
       "0                                     1   \n",
       "1                                     1   \n",
       "\n",
       "   product_variation_size_id_grouped_XXS  \\\n",
       "0                                      0   \n",
       "1                                      0   \n",
       "\n",
       "   product_variation_size_id_grouped_rare  shipping_option_name_grouped_rare  \\\n",
       "0                                       0                                  0   \n",
       "1                                       0                                  0   \n",
       "\n",
       "   origin_country_grouped_rare  \n",
       "0                            0  \n",
       "1                            0  "
      ]
     },
     "execution_count": 71,
     "metadata": {},
     "output_type": "execute_result"
    }
   ],
   "source": [
    "test_OHE.head(2)"
   ]
  },
  {
   "cell_type": "code",
   "execution_count": 72,
   "id": "beaa9baf",
   "metadata": {},
   "outputs": [],
   "source": [
    "test_OHE['has_urgency_banner'] = test_OHE['has_urgency_banner'].fillna(0)"
   ]
  },
  {
   "cell_type": "markdown",
   "id": "45aa3845",
   "metadata": {},
   "source": [
    "## Correlation-Pearson"
   ]
  },
  {
   "cell_type": "code",
   "execution_count": 73,
   "id": "823a64f4",
   "metadata": {},
   "outputs": [],
   "source": [
    "x_train = train_OHE.drop( columns=['rating'])\n",
    "y_train = train_OHE['rating']\n",
    "\n",
    "x_test = test_OHE"
   ]
  },
  {
   "cell_type": "code",
   "execution_count": 74,
   "id": "0792b1ca",
   "metadata": {
    "scrolled": true
   },
   "outputs": [
    {
     "data": {
      "text/plain": [
       "<AxesSubplot: >"
      ]
     },
     "execution_count": 74,
     "metadata": {},
     "output_type": "execute_result"
    },
    {
     "data": {
      "image/png": "[encoded data removed]",
      "text/plain": [
       "<Figure size 900x900 with 2 Axes>"
      ]
     },
     "metadata": {},
     "output_type": "display_data"
    }
   ],
   "source": [
    "# Correlation heatmap, visualise correlated features:\n",
    "# will build a correlation matrix, which examines the correlation of all features (that is, for all possible feature combinations)\n",
    "# and then visualise the correlation matrix using a heatmap\n",
    "# the default correlation method of pandas.corr is pearson, I include it anyways for the demo\n",
    "corrmat = x_train.corr(method='pearson')\n",
    "\n",
    "# we can make a heatmap with the package seaborn and customise the colours of searborn's heatmap\n",
    "cmap = sns.diverging_palette(220, 20, as_cmap=True)\n",
    "\n",
    "fig, ax = plt.subplots()\n",
    "fig.set_size_inches(9,9)\n",
    "sns.heatmap(corrmat, cmap=cmap)"
   ]
  },
  {
   "cell_type": "code",
   "execution_count": 75,
   "id": "19afa228",
   "metadata": {},
   "outputs": [],
   "source": [
    "# with the following function we can select highly correlated features\n",
    "# it will remove the first feature that is correlated with anything else without any further insight.\n",
    "\n",
    "def correlation(dataset, threshold):\n",
    "    # create a set where I will store the names of correlated columns\n",
    "    col_corr = set()\n",
    "    # create the correlation matrix\n",
    "    corr_matrix = dataset.corr()    \n",
    "    # for each feature in the dataset (columns of the correlation matrix)\n",
    "    for i in range(len(corr_matrix.columns)):\n",
    "        # check with other features\n",
    "        for j in range(i):\n",
    "            # if the correlation is higher than a certain threshold\n",
    "            if abs(corr_matrix.iloc[i, j]) > threshold: # we are interested in absolute coeff value\n",
    "                # print correlation, and variables examined\n",
    "                # keep in mind that the columns and rows of the dataframe are identical\n",
    "                # so we can identify the features being examned by looking for i,j  in the column names\n",
    "                print(abs(corr_matrix.iloc[i, j]), corr_matrix.columns[i], corr_matrix.columns[j])                \n",
    "                # get the name of the correlated feature\n",
    "                colname = corr_matrix.columns[j]\n",
    "                # and add it to our correlated set\n",
    "                col_corr.add(colname)                \n",
    "    return col_corr"
   ]
  },
  {
   "cell_type": "code",
   "execution_count": 76,
   "id": "dc877837",
   "metadata": {},
   "outputs": [
    {
     "name": "stdout",
     "output_type": "stream",
     "text": [
      "0.8919187823589997 rating_count units_sold\n",
      "0.8261890393917888 badge_product_quality badges_count\n",
      "0.8772792965193511 shipping_option_price price\n"
     ]
    },
    {
     "data": {
      "text/plain": [
       "3"
      ]
     },
     "execution_count": 76,
     "metadata": {},
     "output_type": "execute_result"
    }
   ],
   "source": [
    "corr_features = correlation(x_train, 0.8)\n",
    "len(set(corr_features))"
   ]
  },
  {
   "cell_type": "code",
   "execution_count": 77,
   "id": "4c3c4030",
   "metadata": {},
   "outputs": [
    {
     "data": {
      "text/plain": [
       "{'badges_count', 'price', 'units_sold'}"
      ]
     },
     "execution_count": 77,
     "metadata": {},
     "output_type": "execute_result"
    }
   ],
   "source": [
    "corr_features"
   ]
  },
  {
   "cell_type": "code",
   "execution_count": 78,
   "id": "34124d71",
   "metadata": {},
   "outputs": [
    {
     "data": {
      "text/plain": [
       "((1093, 27), (479, 27))"
      ]
     },
     "execution_count": 78,
     "metadata": {},
     "output_type": "execute_result"
    }
   ],
   "source": [
    "x_train.drop(labels=corr_features, axis=1, inplace=True)\n",
    "x_test.drop(labels=corr_features, axis=1, inplace=True)\n",
    "x_train.shape, x_test.shape\n",
    "# By removing correlated columns we reduced the feature space to 27"
   ]
  },
  {
   "cell_type": "code",
   "execution_count": 79,
   "id": "e7306a9a",
   "metadata": {},
   "outputs": [
    {
     "data": {
      "text/html": [
       "<div>\n",
       "<style scoped>\n",
       "    .dataframe tbody tr th:only-of-type {\n",
       "        vertical-align: middle;\n",
       "    }\n",
       "\n",
       "    .dataframe tbody tr th {\n",
       "        vertical-align: top;\n",
       "    }\n",
       "\n",
       "    .dataframe thead th {\n",
       "        text-align: right;\n",
       "    }\n",
       "</style>\n",
       "<table border=\"1\" class=\"dataframe\">\n",
       "  <thead>\n",
       "    <tr style=\"text-align: right;\">\n",
       "      <th></th>\n",
       "      <th>retail_price</th>\n",
       "      <th>uses_ad_boosts</th>\n",
       "      <th>rating_count</th>\n",
       "      <th>badge_local_product</th>\n",
       "      <th>badge_product_quality</th>\n",
       "      <th>badge_fast_shipping</th>\n",
       "      <th>product_variation_inventory</th>\n",
       "      <th>shipping_option_price</th>\n",
       "      <th>shipping_is_express</th>\n",
       "      <th>countries_shipped_to</th>\n",
       "      <th>has_urgency_banner</th>\n",
       "      <th>merchant_rating_count</th>\n",
       "      <th>merchant_rating</th>\n",
       "      <th>merchant_has_profile_picture</th>\n",
       "      <th>product_color_grouped_blue</th>\n",
       "      <th>product_color_grouped_green</th>\n",
       "      <th>product_color_grouped_pink</th>\n",
       "      <th>product_color_grouped_rare</th>\n",
       "      <th>product_color_grouped_red</th>\n",
       "      <th>product_color_grouped_white</th>\n",
       "      <th>product_color_grouped_yellow</th>\n",
       "      <th>product_variation_size_id_grouped_S</th>\n",
       "      <th>product_variation_size_id_grouped_XS</th>\n",
       "      <th>product_variation_size_id_grouped_XXS</th>\n",
       "      <th>product_variation_size_id_grouped_rare</th>\n",
       "      <th>shipping_option_name_grouped_rare</th>\n",
       "      <th>origin_country_grouped_rare</th>\n",
       "    </tr>\n",
       "  </thead>\n",
       "  <tbody>\n",
       "    <tr>\n",
       "      <th>0</th>\n",
       "      <td>7</td>\n",
       "      <td>1</td>\n",
       "      <td>1670</td>\n",
       "      <td>0</td>\n",
       "      <td>0</td>\n",
       "      <td>0</td>\n",
       "      <td>50</td>\n",
       "      <td>3</td>\n",
       "      <td>0</td>\n",
       "      <td>30</td>\n",
       "      <td>0.0</td>\n",
       "      <td>66644</td>\n",
       "      <td>4.137582</td>\n",
       "      <td>1</td>\n",
       "      <td>0</td>\n",
       "      <td>0</td>\n",
       "      <td>0</td>\n",
       "      <td>0</td>\n",
       "      <td>0</td>\n",
       "      <td>0</td>\n",
       "      <td>1</td>\n",
       "      <td>0</td>\n",
       "      <td>0</td>\n",
       "      <td>0</td>\n",
       "      <td>0</td>\n",
       "      <td>0</td>\n",
       "      <td>0</td>\n",
       "    </tr>\n",
       "    <tr>\n",
       "      <th>1</th>\n",
       "      <td>7</td>\n",
       "      <td>0</td>\n",
       "      <td>843</td>\n",
       "      <td>1</td>\n",
       "      <td>0</td>\n",
       "      <td>0</td>\n",
       "      <td>50</td>\n",
       "      <td>3</td>\n",
       "      <td>0</td>\n",
       "      <td>37</td>\n",
       "      <td>0.0</td>\n",
       "      <td>25752</td>\n",
       "      <td>4.256873</td>\n",
       "      <td>0</td>\n",
       "      <td>0</td>\n",
       "      <td>0</td>\n",
       "      <td>0</td>\n",
       "      <td>0</td>\n",
       "      <td>0</td>\n",
       "      <td>0</td>\n",
       "      <td>0</td>\n",
       "      <td>0</td>\n",
       "      <td>0</td>\n",
       "      <td>0</td>\n",
       "      <td>1</td>\n",
       "      <td>0</td>\n",
       "      <td>0</td>\n",
       "    </tr>\n",
       "  </tbody>\n",
       "</table>\n",
       "</div>"
      ],
      "text/plain": [
       "   retail_price  uses_ad_boosts  rating_count  badge_local_product  \\\n",
       "0             7               1          1670                    0   \n",
       "1             7               0           843                    1   \n",
       "\n",
       "   badge_product_quality  badge_fast_shipping  product_variation_inventory  \\\n",
       "0                      0                    0                           50   \n",
       "1                      0                    0                           50   \n",
       "\n",
       "   shipping_option_price  shipping_is_express  countries_shipped_to  \\\n",
       "0                      3                    0                    30   \n",
       "1                      3                    0                    37   \n",
       "\n",
       "   has_urgency_banner  merchant_rating_count  merchant_rating  \\\n",
       "0                 0.0                  66644         4.137582   \n",
       "1                 0.0                  25752         4.256873   \n",
       "\n",
       "   merchant_has_profile_picture  product_color_grouped_blue  \\\n",
       "0                             1                           0   \n",
       "1                             0                           0   \n",
       "\n",
       "   product_color_grouped_green  product_color_grouped_pink  \\\n",
       "0                            0                           0   \n",
       "1                            0                           0   \n",
       "\n",
       "   product_color_grouped_rare  product_color_grouped_red  \\\n",
       "0                           0                          0   \n",
       "1                           0                          0   \n",
       "\n",
       "   product_color_grouped_white  product_color_grouped_yellow  \\\n",
       "0                            0                             1   \n",
       "1                            0                             0   \n",
       "\n",
       "   product_variation_size_id_grouped_S  product_variation_size_id_grouped_XS  \\\n",
       "0                                    0                                     0   \n",
       "1                                    0                                     0   \n",
       "\n",
       "   product_variation_size_id_grouped_XXS  \\\n",
       "0                                      0   \n",
       "1                                      0   \n",
       "\n",
       "   product_variation_size_id_grouped_rare  shipping_option_name_grouped_rare  \\\n",
       "0                                       0                                  0   \n",
       "1                                       1                                  0   \n",
       "\n",
       "   origin_country_grouped_rare  \n",
       "0                            0  \n",
       "1                            0  "
      ]
     },
     "execution_count": 79,
     "metadata": {},
     "output_type": "execute_result"
    }
   ],
   "source": [
    "x_train.head(2)"
   ]
  },
  {
   "cell_type": "markdown",
   "id": "1515c698",
   "metadata": {},
   "source": [
    "# Step-forward-feature-selection-sklearn\n",
    "Step Forward feature selection algorithms begin from no feature and add one at a time and scan for the performance\n",
    "\n",
    "Step forward feature selection starts by training a machine learning model for each feature in the dataset and selecting, as the starting feature, the one that returns the best performing model according to the evaluation criteria we choose.\n",
    "\n",
    "In the second step, it creates machine learning models for all combinations of the feature selected in the previous step and a second feature. It selects the pair that produces the best performing algorithm.\n",
    "\n",
    "It continues by adding 1 feature at a time to the features that were selected in previous steps, until a stopping criteria is reached."
   ]
  },
  {
   "cell_type": "code",
   "execution_count": 80,
   "id": "8dc59d06",
   "metadata": {},
   "outputs": [],
   "source": [
    "# within the SFS we indicate:\n",
    "# 1) the algorithm we want to create, in this case RandomForests (note that I use few trees to speed things up)\n",
    "# 2) the stopping criteria: see sklearn documentation for more details\n",
    "# 3) wheter to perform step forward or step backward\n",
    "# 4) the evaluation metric: in this case the roc_auc\n",
    "# 5) the cross-validation\n",
    "# this is going to take a while, do not despair\n",
    "sfs = SFS( estimator=RandomForestClassifier( n_estimators=10, n_jobs=4, random_state=0),\n",
    "    n_features_to_select=20,  # the number of features to retain\n",
    "    tol=None,  # the maximum increase or decrease in the performance metric\n",
    "    direction='forward',  # the direction of the selection procedure\n",
    "    scoring='roc_auc',  # the metric to evaluate\n",
    "    cv=2,  # the cross-validation fold\n",
    "    n_jobs=4,  # for parallelization  \n",
    ")\n",
    "sfs = sfs.fit(x_train, y_train)"
   ]
  },
  {
   "cell_type": "code",
   "execution_count": 81,
   "id": "0e3d7a5c",
   "metadata": {},
   "outputs": [
    {
     "data": {
      "text/html": [
       "<style>#sk-container-id-1 {color: black;background-color: white;}#sk-container-id-1 pre{padding: 0;}#sk-container-id-1 div.sk-toggleable {background-color: white;}#sk-container-id-1 label.sk-toggleable__label {cursor: pointer;display: block;width: 100%;margin-bottom: 0;padding: 0.3em;box-sizing: border-box;text-align: center;}#sk-container-id-1 label.sk-toggleable__label-arrow:before {content: \"▸\";float: left;margin-right: 0.25em;color: #696969;}#sk-container-id-1 label.sk-toggleable__label-arrow:hover:before {color: black;}#sk-container-id-1 div.sk-estimator:hover label.sk-toggleable__label-arrow:before {color: black;}#sk-container-id-1 div.sk-toggleable__content {max-height: 0;max-width: 0;overflow: hidden;text-align: left;background-color: #f0f8ff;}#sk-container-id-1 div.sk-toggleable__content pre {margin: 0.2em;color: black;border-radius: 0.25em;background-color: #f0f8ff;}#sk-container-id-1 input.sk-toggleable__control:checked~div.sk-toggleable__content {max-height: 200px;max-width: 100%;overflow: auto;}#sk-container-id-1 input.sk-toggleable__control:checked~label.sk-toggleable__label-arrow:before {content: \"▾\";}#sk-container-id-1 div.sk-estimator input.sk-toggleable__control:checked~label.sk-toggleable__label {background-color: #d4ebff;}#sk-container-id-1 div.sk-label input.sk-toggleable__control:checked~label.sk-toggleable__label {background-color: #d4ebff;}#sk-container-id-1 input.sk-hidden--visually {border: 0;clip: rect(1px 1px 1px 1px);clip: rect(1px, 1px, 1px, 1px);height: 1px;margin: -1px;overflow: hidden;padding: 0;position: absolute;width: 1px;}#sk-container-id-1 div.sk-estimator {font-family: monospace;background-color: #f0f8ff;border: 1px dotted black;border-radius: 0.25em;box-sizing: border-box;margin-bottom: 0.5em;}#sk-container-id-1 div.sk-estimator:hover {background-color: #d4ebff;}#sk-container-id-1 div.sk-parallel-item::after {content: \"\";width: 100%;border-bottom: 1px solid gray;flex-grow: 1;}#sk-container-id-1 div.sk-label:hover label.sk-toggleable__label {background-color: #d4ebff;}#sk-container-id-1 div.sk-serial::before {content: \"\";position: absolute;border-left: 1px solid gray;box-sizing: border-box;top: 0;bottom: 0;left: 50%;z-index: 0;}#sk-container-id-1 div.sk-serial {display: flex;flex-direction: column;align-items: center;background-color: white;padding-right: 0.2em;padding-left: 0.2em;position: relative;}#sk-container-id-1 div.sk-item {position: relative;z-index: 1;}#sk-container-id-1 div.sk-parallel {display: flex;align-items: stretch;justify-content: center;background-color: white;position: relative;}#sk-container-id-1 div.sk-item::before, #sk-container-id-1 div.sk-parallel-item::before {content: \"\";position: absolute;border-left: 1px solid gray;box-sizing: border-box;top: 0;bottom: 0;left: 50%;z-index: -1;}#sk-container-id-1 div.sk-parallel-item {display: flex;flex-direction: column;z-index: 1;position: relative;background-color: white;}#sk-container-id-1 div.sk-parallel-item:first-child::after {align-self: flex-end;width: 50%;}#sk-container-id-1 div.sk-parallel-item:last-child::after {align-self: flex-start;width: 50%;}#sk-container-id-1 div.sk-parallel-item:only-child::after {width: 0;}#sk-container-id-1 div.sk-dashed-wrapped {border: 1px dashed gray;margin: 0 0.4em 0.5em 0.4em;box-sizing: border-box;padding-bottom: 0.4em;background-color: white;}#sk-container-id-1 div.sk-label label {font-family: monospace;font-weight: bold;display: inline-block;line-height: 1.2em;}#sk-container-id-1 div.sk-label-container {text-align: center;}#sk-container-id-1 div.sk-container {/* jupyter's `normalize.less` sets `[hidden] { display: none; }` but bootstrap.min.css set `[hidden] { display: none !important; }` so we also need the `!important` here to be able to override the default hidden behavior on the sphinx rendered scikit-learn.org. See: https://github.com/scikit-learn/scikit-learn/issues/21755 */display: inline-block !important;position: relative;}#sk-container-id-1 div.sk-text-repr-fallback {display: none;}</style><div id=\"sk-container-id-1\" class=\"sk-top-container\"><div class=\"sk-text-repr-fallback\"><pre>SequentialFeatureSelector(cv=2,\n",
       "                          estimator=RandomForestClassifier(n_estimators=10,\n",
       "                                                           n_jobs=4,\n",
       "                                                           random_state=0),\n",
       "                          n_features_to_select=20, n_jobs=4, scoring=&#x27;roc_auc&#x27;)</pre><b>In a Jupyter environment, please rerun this cell to show the HTML representation or trust the notebook. <br />On GitHub, the HTML representation is unable to render, please try loading this page with nbviewer.org.</b></div><div class=\"sk-container\" hidden><div class=\"sk-item sk-dashed-wrapped\"><div class=\"sk-label-container\"><div class=\"sk-label sk-toggleable\"><input class=\"sk-toggleable__control sk-hidden--visually\" id=\"sk-estimator-id-1\" type=\"checkbox\" ><label for=\"sk-estimator-id-1\" class=\"sk-toggleable__label sk-toggleable__label-arrow\">SequentialFeatureSelector</label><div class=\"sk-toggleable__content\"><pre>SequentialFeatureSelector(cv=2,\n",
       "                          estimator=RandomForestClassifier(n_estimators=10,\n",
       "                                                           n_jobs=4,\n",
       "                                                           random_state=0),\n",
       "                          n_features_to_select=20, n_jobs=4, scoring=&#x27;roc_auc&#x27;)</pre></div></div></div><div class=\"sk-parallel\"><div class=\"sk-parallel-item\"><div class=\"sk-item\"><div class=\"sk-label-container\"><div class=\"sk-label sk-toggleable\"><input class=\"sk-toggleable__control sk-hidden--visually\" id=\"sk-estimator-id-2\" type=\"checkbox\" ><label for=\"sk-estimator-id-2\" class=\"sk-toggleable__label sk-toggleable__label-arrow\">estimator: RandomForestClassifier</label><div class=\"sk-toggleable__content\"><pre>RandomForestClassifier(n_estimators=10, n_jobs=4, random_state=0)</pre></div></div></div><div class=\"sk-serial\"><div class=\"sk-item\"><div class=\"sk-estimator sk-toggleable\"><input class=\"sk-toggleable__control sk-hidden--visually\" id=\"sk-estimator-id-3\" type=\"checkbox\" ><label for=\"sk-estimator-id-3\" class=\"sk-toggleable__label sk-toggleable__label-arrow\">RandomForestClassifier</label><div class=\"sk-toggleable__content\"><pre>RandomForestClassifier(n_estimators=10, n_jobs=4, random_state=0)</pre></div></div></div></div></div></div></div></div></div></div>"
      ],
      "text/plain": [
       "SequentialFeatureSelector(cv=2,\n",
       "                          estimator=RandomForestClassifier(n_estimators=10,\n",
       "                                                           n_jobs=4,\n",
       "                                                           random_state=0),\n",
       "                          n_features_to_select=20, n_jobs=4, scoring='roc_auc')"
      ]
     },
     "execution_count": 81,
     "metadata": {},
     "output_type": "execute_result"
    }
   ],
   "source": [
    "sfs"
   ]
  },
  {
   "cell_type": "code",
   "execution_count": 82,
   "id": "fdcf05ca",
   "metadata": {},
   "outputs": [
    {
     "data": {
      "text/plain": [
       "array(['retail_price', 'uses_ad_boosts', 'rating_count',\n",
       "       'badge_local_product', 'badge_product_quality',\n",
       "       'badge_fast_shipping', 'product_variation_inventory',\n",
       "       'shipping_option_price', 'shipping_is_express',\n",
       "       'countries_shipped_to', 'has_urgency_banner',\n",
       "       'merchant_rating_count', 'merchant_rating',\n",
       "       'merchant_has_profile_picture', 'product_color_grouped_blue',\n",
       "       'product_color_grouped_green', 'product_color_grouped_pink',\n",
       "       'product_color_grouped_rare', 'product_color_grouped_red',\n",
       "       'product_color_grouped_white'], dtype=object)"
      ]
     },
     "execution_count": 82,
     "metadata": {},
     "output_type": "execute_result"
    }
   ],
   "source": [
    "selected_feat = sfs.get_feature_names_out()\n",
    "selected_feat"
   ]
  },
  {
   "cell_type": "code",
   "execution_count": 83,
   "id": "c07ecef7",
   "metadata": {},
   "outputs": [],
   "source": [
    "x_train = x_train[selected_feat]\n",
    "x_test = x_test[selected_feat]"
   ]
  },
  {
   "cell_type": "code",
   "execution_count": 84,
   "id": "cdf52c0f",
   "metadata": {
    "scrolled": true
   },
   "outputs": [
    {
     "data": {
      "text/html": [
       "<div>\n",
       "<style scoped>\n",
       "    .dataframe tbody tr th:only-of-type {\n",
       "        vertical-align: middle;\n",
       "    }\n",
       "\n",
       "    .dataframe tbody tr th {\n",
       "        vertical-align: top;\n",
       "    }\n",
       "\n",
       "    .dataframe thead th {\n",
       "        text-align: right;\n",
       "    }\n",
       "</style>\n",
       "<table border=\"1\" class=\"dataframe\">\n",
       "  <thead>\n",
       "    <tr style=\"text-align: right;\">\n",
       "      <th></th>\n",
       "      <th>retail_price</th>\n",
       "      <th>uses_ad_boosts</th>\n",
       "      <th>rating_count</th>\n",
       "      <th>badge_local_product</th>\n",
       "      <th>badge_product_quality</th>\n",
       "      <th>badge_fast_shipping</th>\n",
       "      <th>product_variation_inventory</th>\n",
       "      <th>shipping_option_price</th>\n",
       "      <th>shipping_is_express</th>\n",
       "      <th>countries_shipped_to</th>\n",
       "      <th>has_urgency_banner</th>\n",
       "      <th>merchant_rating_count</th>\n",
       "      <th>merchant_rating</th>\n",
       "      <th>merchant_has_profile_picture</th>\n",
       "      <th>product_color_grouped_blue</th>\n",
       "      <th>product_color_grouped_green</th>\n",
       "      <th>product_color_grouped_pink</th>\n",
       "      <th>product_color_grouped_rare</th>\n",
       "      <th>product_color_grouped_red</th>\n",
       "      <th>product_color_grouped_white</th>\n",
       "    </tr>\n",
       "  </thead>\n",
       "  <tbody>\n",
       "    <tr>\n",
       "      <th>0</th>\n",
       "      <td>5</td>\n",
       "      <td>1</td>\n",
       "      <td>0</td>\n",
       "      <td>0</td>\n",
       "      <td>0</td>\n",
       "      <td>0</td>\n",
       "      <td>5</td>\n",
       "      <td>2</td>\n",
       "      <td>0</td>\n",
       "      <td>139</td>\n",
       "      <td>0.0</td>\n",
       "      <td>3</td>\n",
       "      <td>2.333333</td>\n",
       "      <td>0</td>\n",
       "      <td>0</td>\n",
       "      <td>0</td>\n",
       "      <td>0</td>\n",
       "      <td>0</td>\n",
       "      <td>0</td>\n",
       "      <td>1</td>\n",
       "    </tr>\n",
       "    <tr>\n",
       "      <th>1</th>\n",
       "      <td>7</td>\n",
       "      <td>0</td>\n",
       "      <td>579</td>\n",
       "      <td>0</td>\n",
       "      <td>0</td>\n",
       "      <td>0</td>\n",
       "      <td>50</td>\n",
       "      <td>2</td>\n",
       "      <td>0</td>\n",
       "      <td>31</td>\n",
       "      <td>0.0</td>\n",
       "      <td>4213</td>\n",
       "      <td>4.058391</td>\n",
       "      <td>0</td>\n",
       "      <td>0</td>\n",
       "      <td>0</td>\n",
       "      <td>0</td>\n",
       "      <td>0</td>\n",
       "      <td>0</td>\n",
       "      <td>0</td>\n",
       "    </tr>\n",
       "  </tbody>\n",
       "</table>\n",
       "</div>"
      ],
      "text/plain": [
       "   retail_price  uses_ad_boosts  rating_count  badge_local_product  \\\n",
       "0             5               1             0                    0   \n",
       "1             7               0           579                    0   \n",
       "\n",
       "   badge_product_quality  badge_fast_shipping  product_variation_inventory  \\\n",
       "0                      0                    0                            5   \n",
       "1                      0                    0                           50   \n",
       "\n",
       "   shipping_option_price  shipping_is_express  countries_shipped_to  \\\n",
       "0                      2                    0                   139   \n",
       "1                      2                    0                    31   \n",
       "\n",
       "   has_urgency_banner  merchant_rating_count  merchant_rating  \\\n",
       "0                 0.0                      3         2.333333   \n",
       "1                 0.0                   4213         4.058391   \n",
       "\n",
       "   merchant_has_profile_picture  product_color_grouped_blue  \\\n",
       "0                             0                           0   \n",
       "1                             0                           0   \n",
       "\n",
       "   product_color_grouped_green  product_color_grouped_pink  \\\n",
       "0                            0                           0   \n",
       "1                            0                           0   \n",
       "\n",
       "   product_color_grouped_rare  product_color_grouped_red  \\\n",
       "0                           0                          0   \n",
       "1                           0                          0   \n",
       "\n",
       "   product_color_grouped_white  \n",
       "0                            1  \n",
       "1                            0  "
      ]
     },
     "execution_count": 84,
     "metadata": {},
     "output_type": "execute_result"
    }
   ],
   "source": [
    "x_test.head(2)"
   ]
  },
  {
   "cell_type": "code",
   "execution_count": 85,
   "id": "b9366608",
   "metadata": {},
   "outputs": [
    {
     "name": "stdout",
     "output_type": "stream",
     "text": [
      "(1093, 20)\n"
     ]
    },
    {
     "data": {
      "text/html": [
       "<div>\n",
       "<style scoped>\n",
       "    .dataframe tbody tr th:only-of-type {\n",
       "        vertical-align: middle;\n",
       "    }\n",
       "\n",
       "    .dataframe tbody tr th {\n",
       "        vertical-align: top;\n",
       "    }\n",
       "\n",
       "    .dataframe thead th {\n",
       "        text-align: right;\n",
       "    }\n",
       "</style>\n",
       "<table border=\"1\" class=\"dataframe\">\n",
       "  <thead>\n",
       "    <tr style=\"text-align: right;\">\n",
       "      <th></th>\n",
       "      <th>retail_price</th>\n",
       "      <th>uses_ad_boosts</th>\n",
       "      <th>rating_count</th>\n",
       "      <th>badge_local_product</th>\n",
       "      <th>badge_product_quality</th>\n",
       "      <th>badge_fast_shipping</th>\n",
       "      <th>product_variation_inventory</th>\n",
       "      <th>shipping_option_price</th>\n",
       "      <th>shipping_is_express</th>\n",
       "      <th>countries_shipped_to</th>\n",
       "      <th>has_urgency_banner</th>\n",
       "      <th>merchant_rating_count</th>\n",
       "      <th>merchant_rating</th>\n",
       "      <th>merchant_has_profile_picture</th>\n",
       "      <th>product_color_grouped_blue</th>\n",
       "      <th>product_color_grouped_green</th>\n",
       "      <th>product_color_grouped_pink</th>\n",
       "      <th>product_color_grouped_rare</th>\n",
       "      <th>product_color_grouped_red</th>\n",
       "      <th>product_color_grouped_white</th>\n",
       "    </tr>\n",
       "  </thead>\n",
       "  <tbody>\n",
       "    <tr>\n",
       "      <th>0</th>\n",
       "      <td>7</td>\n",
       "      <td>1</td>\n",
       "      <td>1670</td>\n",
       "      <td>0</td>\n",
       "      <td>0</td>\n",
       "      <td>0</td>\n",
       "      <td>50</td>\n",
       "      <td>3</td>\n",
       "      <td>0</td>\n",
       "      <td>30</td>\n",
       "      <td>0.0</td>\n",
       "      <td>66644</td>\n",
       "      <td>4.137582</td>\n",
       "      <td>1</td>\n",
       "      <td>0</td>\n",
       "      <td>0</td>\n",
       "      <td>0</td>\n",
       "      <td>0</td>\n",
       "      <td>0</td>\n",
       "      <td>0</td>\n",
       "    </tr>\n",
       "    <tr>\n",
       "      <th>1</th>\n",
       "      <td>7</td>\n",
       "      <td>0</td>\n",
       "      <td>843</td>\n",
       "      <td>1</td>\n",
       "      <td>0</td>\n",
       "      <td>0</td>\n",
       "      <td>50</td>\n",
       "      <td>3</td>\n",
       "      <td>0</td>\n",
       "      <td>37</td>\n",
       "      <td>0.0</td>\n",
       "      <td>25752</td>\n",
       "      <td>4.256873</td>\n",
       "      <td>0</td>\n",
       "      <td>0</td>\n",
       "      <td>0</td>\n",
       "      <td>0</td>\n",
       "      <td>0</td>\n",
       "      <td>0</td>\n",
       "      <td>0</td>\n",
       "    </tr>\n",
       "  </tbody>\n",
       "</table>\n",
       "</div>"
      ],
      "text/plain": [
       "   retail_price  uses_ad_boosts  rating_count  badge_local_product  \\\n",
       "0             7               1          1670                    0   \n",
       "1             7               0           843                    1   \n",
       "\n",
       "   badge_product_quality  badge_fast_shipping  product_variation_inventory  \\\n",
       "0                      0                    0                           50   \n",
       "1                      0                    0                           50   \n",
       "\n",
       "   shipping_option_price  shipping_is_express  countries_shipped_to  \\\n",
       "0                      3                    0                    30   \n",
       "1                      3                    0                    37   \n",
       "\n",
       "   has_urgency_banner  merchant_rating_count  merchant_rating  \\\n",
       "0                 0.0                  66644         4.137582   \n",
       "1                 0.0                  25752         4.256873   \n",
       "\n",
       "   merchant_has_profile_picture  product_color_grouped_blue  \\\n",
       "0                             1                           0   \n",
       "1                             0                           0   \n",
       "\n",
       "   product_color_grouped_green  product_color_grouped_pink  \\\n",
       "0                            0                           0   \n",
       "1                            0                           0   \n",
       "\n",
       "   product_color_grouped_rare  product_color_grouped_red  \\\n",
       "0                           0                          0   \n",
       "1                           0                          0   \n",
       "\n",
       "   product_color_grouped_white  \n",
       "0                            0  \n",
       "1                            0  "
      ]
     },
     "execution_count": 85,
     "metadata": {},
     "output_type": "execute_result"
    }
   ],
   "source": [
    "print(x_train.shape)\n",
    "x_train.head(2)"
   ]
  },
  {
   "cell_type": "code",
   "execution_count": 86,
   "id": "32b0838b",
   "metadata": {},
   "outputs": [
    {
     "data": {
      "text/plain": [
       "0       4.0\n",
       "1       4.0\n",
       "2       4.0\n",
       "3       3.0\n",
       "4       4.0\n",
       "       ... \n",
       "1089    4.0\n",
       "1090    5.0\n",
       "1091    4.0\n",
       "1092    4.0\n",
       "1093    3.0\n",
       "Name: rating, Length: 1093, dtype: float64"
      ]
     },
     "execution_count": 86,
     "metadata": {},
     "output_type": "execute_result"
    }
   ],
   "source": [
    "y_train"
   ]
  },
  {
   "cell_type": "markdown",
   "id": "e50bba96",
   "metadata": {},
   "source": [
    "# Modeling\n",
    "\n",
    "For machine learning part i will try these classifiers:\n",
    "\n",
    "Tried SVM model with at least 2 different configurations/hyper-parameters\n",
    "\n",
    "\n",
    "Tried decision tree model with at least 2 different configurations/hyper-parameters\n",
    "\n",
    "Tried Naive Bayesian model."
   ]
  },
  {
   "cell_type": "markdown",
   "id": "c69df8e5",
   "metadata": {},
   "source": [
    "# 1- SVM"
   ]
  },
  {
   "cell_type": "code",
   "execution_count": 87,
   "id": "8d564fae",
   "metadata": {},
   "outputs": [],
   "source": [
    "rbf_svc=SVC(kernel='rbf', C=10) \n",
    "\n",
    "# fit classifier to training set\n",
    "rbf_svc.fit(x_train,y_train)\n",
    "\n",
    "# make predictions on test set\n",
    "y_pred_test =rbf_svc.predict(x_test)"
   ]
  },
  {
   "cell_type": "code",
   "execution_count": 88,
   "id": "7b66add3",
   "metadata": {},
   "outputs": [],
   "source": [
    "prediction = pd.DataFrame(y_pred_test, columns=['rating']).to_csv('SVM_sample_submission.csv',index=False)\n",
    "df = pd.read_csv('SVM_sample_submission.csv')\n",
    "\n",
    "test = pd.read_csv(\"test_new.csv\")\n",
    "df['id']=test['id']\n",
    "\n",
    "df_pred = df.reindex(columns=['id','rating'])\n",
    "df_pred.to_csv('SVM_sample_submission.csv',index=False)"
   ]
  },
  {
   "cell_type": "markdown",
   "id": "788801af",
   "metadata": {},
   "source": [
    "# 2- SVM\n",
    "\n",
    "Grid Search with SVM"
   ]
  },
  {
   "cell_type": "code",
   "execution_count": 89,
   "id": "379edae2",
   "metadata": {
    "scrolled": true
   },
   "outputs": [
    {
     "name": "stdout",
     "output_type": "stream",
     "text": [
      "Fitting 5 folds for each of 25 candidates, totalling 125 fits\n",
      "[CV 1/5] END ........C=0.1, gamma=1, kernel=rbf;, score=0.708 total time=   0.1s\n",
      "[CV 2/5] END ........C=0.1, gamma=1, kernel=rbf;, score=0.708 total time=   0.1s\n",
      "[CV 3/5] END ........C=0.1, gamma=1, kernel=rbf;, score=0.708 total time=   0.1s\n",
      "[CV 4/5] END ........C=0.1, gamma=1, kernel=rbf;, score=0.711 total time=   0.1s\n",
      "[CV 5/5] END ........C=0.1, gamma=1, kernel=rbf;, score=0.706 total time=   0.1s\n",
      "[CV 1/5] END ......C=0.1, gamma=0.1, kernel=rbf;, score=0.708 total time=   0.1s\n",
      "[CV 2/5] END ......C=0.1, gamma=0.1, kernel=rbf;, score=0.708 total time=   0.1s\n",
      "[CV 3/5] END ......C=0.1, gamma=0.1, kernel=rbf;, score=0.708 total time=   0.1s\n",
      "[CV 4/5] END ......C=0.1, gamma=0.1, kernel=rbf;, score=0.711 total time=   0.1s\n",
      "[CV 5/5] END ......C=0.1, gamma=0.1, kernel=rbf;, score=0.706 total time=   0.1s\n",
      "[CV 1/5] END .....C=0.1, gamma=0.01, kernel=rbf;, score=0.708 total time=   0.1s\n",
      "[CV 2/5] END .....C=0.1, gamma=0.01, kernel=rbf;, score=0.708 total time=   0.1s\n",
      "[CV 3/5] END .....C=0.1, gamma=0.01, kernel=rbf;, score=0.708 total time=   0.1s\n",
      "[CV 4/5] END .....C=0.1, gamma=0.01, kernel=rbf;, score=0.711 total time=   0.1s\n",
      "[CV 5/5] END .....C=0.1, gamma=0.01, kernel=rbf;, score=0.706 total time=   0.0s\n",
      "[CV 1/5] END ....C=0.1, gamma=0.001, kernel=rbf;, score=0.708 total time=   0.1s\n",
      "[CV 2/5] END ....C=0.1, gamma=0.001, kernel=rbf;, score=0.708 total time=   0.0s\n",
      "[CV 3/5] END ....C=0.1, gamma=0.001, kernel=rbf;, score=0.708 total time=   0.1s\n",
      "[CV 4/5] END ....C=0.1, gamma=0.001, kernel=rbf;, score=0.711 total time=   0.0s\n",
      "[CV 5/5] END ....C=0.1, gamma=0.001, kernel=rbf;, score=0.706 total time=   0.0s\n",
      "[CV 1/5] END ...C=0.1, gamma=0.0001, kernel=rbf;, score=0.708 total time=   0.0s\n",
      "[CV 2/5] END ...C=0.1, gamma=0.0001, kernel=rbf;, score=0.708 total time=   0.0s\n",
      "[CV 3/5] END ...C=0.1, gamma=0.0001, kernel=rbf;, score=0.708 total time=   0.0s\n",
      "[CV 4/5] END ...C=0.1, gamma=0.0001, kernel=rbf;, score=0.711 total time=   0.0s\n",
      "[CV 5/5] END ...C=0.1, gamma=0.0001, kernel=rbf;, score=0.706 total time=   0.0s\n",
      "[CV 1/5] END ..........C=1, gamma=1, kernel=rbf;, score=0.712 total time=   0.1s\n",
      "[CV 2/5] END ..........C=1, gamma=1, kernel=rbf;, score=0.712 total time=   0.1s\n",
      "[CV 3/5] END ..........C=1, gamma=1, kernel=rbf;, score=0.717 total time=   0.1s\n",
      "[CV 4/5] END ..........C=1, gamma=1, kernel=rbf;, score=0.716 total time=   0.1s\n",
      "[CV 5/5] END ..........C=1, gamma=1, kernel=rbf;, score=0.716 total time=   0.1s\n",
      "[CV 1/5] END ........C=1, gamma=0.1, kernel=rbf;, score=0.758 total time=   0.1s\n",
      "[CV 2/5] END ........C=1, gamma=0.1, kernel=rbf;, score=0.753 total time=   0.1s\n",
      "[CV 3/5] END ........C=1, gamma=0.1, kernel=rbf;, score=0.744 total time=   0.1s\n",
      "[CV 4/5] END ........C=1, gamma=0.1, kernel=rbf;, score=0.780 total time=   0.1s\n",
      "[CV 5/5] END ........C=1, gamma=0.1, kernel=rbf;, score=0.761 total time=   0.1s\n",
      "[CV 1/5] END .......C=1, gamma=0.01, kernel=rbf;, score=0.758 total time=   0.1s\n",
      "[CV 2/5] END .......C=1, gamma=0.01, kernel=rbf;, score=0.758 total time=   0.1s\n",
      "[CV 3/5] END .......C=1, gamma=0.01, kernel=rbf;, score=0.744 total time=   0.1s\n",
      "[CV 4/5] END .......C=1, gamma=0.01, kernel=rbf;, score=0.780 total time=   0.1s\n",
      "[CV 5/5] END .......C=1, gamma=0.01, kernel=rbf;, score=0.757 total time=   0.1s\n",
      "[CV 1/5] END ......C=1, gamma=0.001, kernel=rbf;, score=0.753 total time=   0.1s\n",
      "[CV 2/5] END ......C=1, gamma=0.001, kernel=rbf;, score=0.753 total time=   0.1s\n",
      "[CV 3/5] END ......C=1, gamma=0.001, kernel=rbf;, score=0.735 total time=   0.1s\n",
      "[CV 4/5] END ......C=1, gamma=0.001, kernel=rbf;, score=0.775 total time=   0.1s\n",
      "[CV 5/5] END ......C=1, gamma=0.001, kernel=rbf;, score=0.757 total time=   0.1s\n",
      "[CV 1/5] END .....C=1, gamma=0.0001, kernel=rbf;, score=0.708 total time=   0.0s\n",
      "[CV 2/5] END .....C=1, gamma=0.0001, kernel=rbf;, score=0.744 total time=   0.0s\n",
      "[CV 3/5] END .....C=1, gamma=0.0001, kernel=rbf;, score=0.717 total time=   0.0s\n",
      "[CV 4/5] END .....C=1, gamma=0.0001, kernel=rbf;, score=0.752 total time=   0.0s\n",
      "[CV 5/5] END .....C=1, gamma=0.0001, kernel=rbf;, score=0.725 total time=   0.0s\n",
      "[CV 1/5] END .........C=10, gamma=1, kernel=rbf;, score=0.712 total time=   0.1s\n",
      "[CV 2/5] END .........C=10, gamma=1, kernel=rbf;, score=0.712 total time=   0.1s\n",
      "[CV 3/5] END .........C=10, gamma=1, kernel=rbf;, score=0.717 total time=   0.1s\n",
      "[CV 4/5] END .........C=10, gamma=1, kernel=rbf;, score=0.716 total time=   0.1s\n",
      "[CV 5/5] END .........C=10, gamma=1, kernel=rbf;, score=0.716 total time=   0.1s\n",
      "[CV 1/5] END .......C=10, gamma=0.1, kernel=rbf;, score=0.763 total time=   0.1s\n",
      "[CV 2/5] END .......C=10, gamma=0.1, kernel=rbf;, score=0.772 total time=   0.1s\n",
      "[CV 3/5] END .......C=10, gamma=0.1, kernel=rbf;, score=0.758 total time=   0.1s\n",
      "[CV 4/5] END .......C=10, gamma=0.1, kernel=rbf;, score=0.784 total time=   0.1s\n",
      "[CV 5/5] END .......C=10, gamma=0.1, kernel=rbf;, score=0.766 total time=   0.1s\n",
      "[CV 1/5] END ......C=10, gamma=0.01, kernel=rbf;, score=0.763 total time=   0.1s\n",
      "[CV 2/5] END ......C=10, gamma=0.01, kernel=rbf;, score=0.763 total time=   0.1s\n",
      "[CV 3/5] END ......C=10, gamma=0.01, kernel=rbf;, score=0.758 total time=   0.1s\n",
      "[CV 4/5] END ......C=10, gamma=0.01, kernel=rbf;, score=0.784 total time=   0.1s\n",
      "[CV 5/5] END ......C=10, gamma=0.01, kernel=rbf;, score=0.761 total time=   0.1s\n",
      "[CV 1/5] END .....C=10, gamma=0.001, kernel=rbf;, score=0.749 total time=   0.1s\n",
      "[CV 2/5] END .....C=10, gamma=0.001, kernel=rbf;, score=0.749 total time=   0.1s\n",
      "[CV 3/5] END .....C=10, gamma=0.001, kernel=rbf;, score=0.744 total time=   0.1s\n",
      "[CV 4/5] END .....C=10, gamma=0.001, kernel=rbf;, score=0.771 total time=   0.1s\n",
      "[CV 5/5] END .....C=10, gamma=0.001, kernel=rbf;, score=0.761 total time=   0.1s\n",
      "[CV 1/5] END ....C=10, gamma=0.0001, kernel=rbf;, score=0.699 total time=   0.0s\n",
      "[CV 2/5] END ....C=10, gamma=0.0001, kernel=rbf;, score=0.712 total time=   0.0s\n",
      "[CV 3/5] END ....C=10, gamma=0.0001, kernel=rbf;, score=0.731 total time=   0.0s\n",
      "[CV 4/5] END ....C=10, gamma=0.0001, kernel=rbf;, score=0.739 total time=   0.0s\n",
      "[CV 5/5] END ....C=10, gamma=0.0001, kernel=rbf;, score=0.716 total time=   0.1s\n",
      "[CV 1/5] END ........C=100, gamma=1, kernel=rbf;, score=0.712 total time=   0.1s\n",
      "[CV 2/5] END ........C=100, gamma=1, kernel=rbf;, score=0.712 total time=   0.1s\n",
      "[CV 3/5] END ........C=100, gamma=1, kernel=rbf;, score=0.717 total time=   0.1s\n",
      "[CV 4/5] END ........C=100, gamma=1, kernel=rbf;, score=0.716 total time=   0.1s\n",
      "[CV 5/5] END ........C=100, gamma=1, kernel=rbf;, score=0.716 total time=   0.1s\n",
      "[CV 1/5] END ......C=100, gamma=0.1, kernel=rbf;, score=0.763 total time=   0.1s\n",
      "[CV 2/5] END ......C=100, gamma=0.1, kernel=rbf;, score=0.772 total time=   0.1s\n",
      "[CV 3/5] END ......C=100, gamma=0.1, kernel=rbf;, score=0.758 total time=   0.1s\n",
      "[CV 4/5] END ......C=100, gamma=0.1, kernel=rbf;, score=0.784 total time=   0.1s\n",
      "[CV 5/5] END ......C=100, gamma=0.1, kernel=rbf;, score=0.766 total time=   0.1s\n",
      "[CV 1/5] END .....C=100, gamma=0.01, kernel=rbf;, score=0.763 total time=   0.1s\n",
      "[CV 2/5] END .....C=100, gamma=0.01, kernel=rbf;, score=0.763 total time=   0.1s\n",
      "[CV 3/5] END .....C=100, gamma=0.01, kernel=rbf;, score=0.758 total time=   0.1s\n",
      "[CV 4/5] END .....C=100, gamma=0.01, kernel=rbf;, score=0.784 total time=   0.1s\n",
      "[CV 5/5] END .....C=100, gamma=0.01, kernel=rbf;, score=0.761 total time=   0.1s\n",
      "[CV 1/5] END ....C=100, gamma=0.001, kernel=rbf;, score=0.753 total time=   0.1s\n",
      "[CV 2/5] END ....C=100, gamma=0.001, kernel=rbf;, score=0.753 total time=   0.1s\n",
      "[CV 3/5] END ....C=100, gamma=0.001, kernel=rbf;, score=0.753 total time=   0.1s\n",
      "[CV 4/5] END ....C=100, gamma=0.001, kernel=rbf;, score=0.771 total time=   0.1s\n",
      "[CV 5/5] END ....C=100, gamma=0.001, kernel=rbf;, score=0.771 total time=   0.1s\n",
      "[CV 1/5] END ...C=100, gamma=0.0001, kernel=rbf;, score=0.699 total time=   0.0s\n",
      "[CV 2/5] END ...C=100, gamma=0.0001, kernel=rbf;, score=0.708 total time=   0.1s\n",
      "[CV 3/5] END ...C=100, gamma=0.0001, kernel=rbf;, score=0.721 total time=   0.0s\n",
      "[CV 4/5] END ...C=100, gamma=0.0001, kernel=rbf;, score=0.720 total time=   0.0s\n",
      "[CV 5/5] END ...C=100, gamma=0.0001, kernel=rbf;, score=0.711 total time=   0.0s\n",
      "[CV 1/5] END .......C=1000, gamma=1, kernel=rbf;, score=0.712 total time=   0.1s\n"
     ]
    },
    {
     "name": "stdout",
     "output_type": "stream",
     "text": [
      "[CV 2/5] END .......C=1000, gamma=1, kernel=rbf;, score=0.712 total time=   0.1s\n",
      "[CV 3/5] END .......C=1000, gamma=1, kernel=rbf;, score=0.717 total time=   0.1s\n",
      "[CV 4/5] END .......C=1000, gamma=1, kernel=rbf;, score=0.716 total time=   0.1s\n",
      "[CV 5/5] END .......C=1000, gamma=1, kernel=rbf;, score=0.716 total time=   0.1s\n",
      "[CV 1/5] END .....C=1000, gamma=0.1, kernel=rbf;, score=0.763 total time=   0.1s\n",
      "[CV 2/5] END .....C=1000, gamma=0.1, kernel=rbf;, score=0.772 total time=   0.1s\n",
      "[CV 3/5] END .....C=1000, gamma=0.1, kernel=rbf;, score=0.758 total time=   0.1s\n",
      "[CV 4/5] END .....C=1000, gamma=0.1, kernel=rbf;, score=0.784 total time=   0.1s\n",
      "[CV 5/5] END .....C=1000, gamma=0.1, kernel=rbf;, score=0.766 total time=   0.1s\n",
      "[CV 1/5] END ....C=1000, gamma=0.01, kernel=rbf;, score=0.763 total time=   0.1s\n",
      "[CV 2/5] END ....C=1000, gamma=0.01, kernel=rbf;, score=0.763 total time=   0.1s\n",
      "[CV 3/5] END ....C=1000, gamma=0.01, kernel=rbf;, score=0.758 total time=   0.1s\n",
      "[CV 4/5] END ....C=1000, gamma=0.01, kernel=rbf;, score=0.784 total time=   0.1s\n",
      "[CV 5/5] END ....C=1000, gamma=0.01, kernel=rbf;, score=0.761 total time=   0.1s\n",
      "[CV 1/5] END ...C=1000, gamma=0.001, kernel=rbf;, score=0.753 total time=   0.1s\n",
      "[CV 2/5] END ...C=1000, gamma=0.001, kernel=rbf;, score=0.753 total time=   0.1s\n",
      "[CV 3/5] END ...C=1000, gamma=0.001, kernel=rbf;, score=0.753 total time=   0.1s\n",
      "[CV 4/5] END ...C=1000, gamma=0.001, kernel=rbf;, score=0.771 total time=   0.1s\n",
      "[CV 5/5] END ...C=1000, gamma=0.001, kernel=rbf;, score=0.771 total time=   0.1s\n",
      "[CV 1/5] END ..C=1000, gamma=0.0001, kernel=rbf;, score=0.703 total time=   0.0s\n",
      "[CV 2/5] END ..C=1000, gamma=0.0001, kernel=rbf;, score=0.721 total time=   0.0s\n",
      "[CV 3/5] END ..C=1000, gamma=0.0001, kernel=rbf;, score=0.735 total time=   0.1s\n",
      "[CV 4/5] END ..C=1000, gamma=0.0001, kernel=rbf;, score=0.720 total time=   0.0s\n",
      "[CV 5/5] END ..C=1000, gamma=0.0001, kernel=rbf;, score=0.693 total time=   0.1s\n"
     ]
    },
    {
     "data": {
      "text/html": [
       "<style>#sk-container-id-2 {color: black;background-color: white;}#sk-container-id-2 pre{padding: 0;}#sk-container-id-2 div.sk-toggleable {background-color: white;}#sk-container-id-2 label.sk-toggleable__label {cursor: pointer;display: block;width: 100%;margin-bottom: 0;padding: 0.3em;box-sizing: border-box;text-align: center;}#sk-container-id-2 label.sk-toggleable__label-arrow:before {content: \"▸\";float: left;margin-right: 0.25em;color: #696969;}#sk-container-id-2 label.sk-toggleable__label-arrow:hover:before {color: black;}#sk-container-id-2 div.sk-estimator:hover label.sk-toggleable__label-arrow:before {color: black;}#sk-container-id-2 div.sk-toggleable__content {max-height: 0;max-width: 0;overflow: hidden;text-align: left;background-color: #f0f8ff;}#sk-container-id-2 div.sk-toggleable__content pre {margin: 0.2em;color: black;border-radius: 0.25em;background-color: #f0f8ff;}#sk-container-id-2 input.sk-toggleable__control:checked~div.sk-toggleable__content {max-height: 200px;max-width: 100%;overflow: auto;}#sk-container-id-2 input.sk-toggleable__control:checked~label.sk-toggleable__label-arrow:before {content: \"▾\";}#sk-container-id-2 div.sk-estimator input.sk-toggleable__control:checked~label.sk-toggleable__label {background-color: #d4ebff;}#sk-container-id-2 div.sk-label input.sk-toggleable__control:checked~label.sk-toggleable__label {background-color: #d4ebff;}#sk-container-id-2 input.sk-hidden--visually {border: 0;clip: rect(1px 1px 1px 1px);clip: rect(1px, 1px, 1px, 1px);height: 1px;margin: -1px;overflow: hidden;padding: 0;position: absolute;width: 1px;}#sk-container-id-2 div.sk-estimator {font-family: monospace;background-color: #f0f8ff;border: 1px dotted black;border-radius: 0.25em;box-sizing: border-box;margin-bottom: 0.5em;}#sk-container-id-2 div.sk-estimator:hover {background-color: #d4ebff;}#sk-container-id-2 div.sk-parallel-item::after {content: \"\";width: 100%;border-bottom: 1px solid gray;flex-grow: 1;}#sk-container-id-2 div.sk-label:hover label.sk-toggleable__label {background-color: #d4ebff;}#sk-container-id-2 div.sk-serial::before {content: \"\";position: absolute;border-left: 1px solid gray;box-sizing: border-box;top: 0;bottom: 0;left: 50%;z-index: 0;}#sk-container-id-2 div.sk-serial {display: flex;flex-direction: column;align-items: center;background-color: white;padding-right: 0.2em;padding-left: 0.2em;position: relative;}#sk-container-id-2 div.sk-item {position: relative;z-index: 1;}#sk-container-id-2 div.sk-parallel {display: flex;align-items: stretch;justify-content: center;background-color: white;position: relative;}#sk-container-id-2 div.sk-item::before, #sk-container-id-2 div.sk-parallel-item::before {content: \"\";position: absolute;border-left: 1px solid gray;box-sizing: border-box;top: 0;bottom: 0;left: 50%;z-index: -1;}#sk-container-id-2 div.sk-parallel-item {display: flex;flex-direction: column;z-index: 1;position: relative;background-color: white;}#sk-container-id-2 div.sk-parallel-item:first-child::after {align-self: flex-end;width: 50%;}#sk-container-id-2 div.sk-parallel-item:last-child::after {align-self: flex-start;width: 50%;}#sk-container-id-2 div.sk-parallel-item:only-child::after {width: 0;}#sk-container-id-2 div.sk-dashed-wrapped {border: 1px dashed gray;margin: 0 0.4em 0.5em 0.4em;box-sizing: border-box;padding-bottom: 0.4em;background-color: white;}#sk-container-id-2 div.sk-label label {font-family: monospace;font-weight: bold;display: inline-block;line-height: 1.2em;}#sk-container-id-2 div.sk-label-container {text-align: center;}#sk-container-id-2 div.sk-container {/* jupyter's `normalize.less` sets `[hidden] { display: none; }` but bootstrap.min.css set `[hidden] { display: none !important; }` so we also need the `!important` here to be able to override the default hidden behavior on the sphinx rendered scikit-learn.org. See: https://github.com/scikit-learn/scikit-learn/issues/21755 */display: inline-block !important;position: relative;}#sk-container-id-2 div.sk-text-repr-fallback {display: none;}</style><div id=\"sk-container-id-2\" class=\"sk-top-container\"><div class=\"sk-text-repr-fallback\"><pre>GridSearchCV(estimator=SVC(),\n",
       "             param_grid={&#x27;C&#x27;: [0.1, 1, 10, 100, 1000],\n",
       "                         &#x27;gamma&#x27;: [1, 0.1, 0.01, 0.001, 0.0001],\n",
       "                         &#x27;kernel&#x27;: [&#x27;rbf&#x27;]},\n",
       "             verbose=3)</pre><b>In a Jupyter environment, please rerun this cell to show the HTML representation or trust the notebook. <br />On GitHub, the HTML representation is unable to render, please try loading this page with nbviewer.org.</b></div><div class=\"sk-container\" hidden><div class=\"sk-item sk-dashed-wrapped\"><div class=\"sk-label-container\"><div class=\"sk-label sk-toggleable\"><input class=\"sk-toggleable__control sk-hidden--visually\" id=\"sk-estimator-id-4\" type=\"checkbox\" ><label for=\"sk-estimator-id-4\" class=\"sk-toggleable__label sk-toggleable__label-arrow\">GridSearchCV</label><div class=\"sk-toggleable__content\"><pre>GridSearchCV(estimator=SVC(),\n",
       "             param_grid={&#x27;C&#x27;: [0.1, 1, 10, 100, 1000],\n",
       "                         &#x27;gamma&#x27;: [1, 0.1, 0.01, 0.001, 0.0001],\n",
       "                         &#x27;kernel&#x27;: [&#x27;rbf&#x27;]},\n",
       "             verbose=3)</pre></div></div></div><div class=\"sk-parallel\"><div class=\"sk-parallel-item\"><div class=\"sk-item\"><div class=\"sk-label-container\"><div class=\"sk-label sk-toggleable\"><input class=\"sk-toggleable__control sk-hidden--visually\" id=\"sk-estimator-id-5\" type=\"checkbox\" ><label for=\"sk-estimator-id-5\" class=\"sk-toggleable__label sk-toggleable__label-arrow\">estimator: SVC</label><div class=\"sk-toggleable__content\"><pre>SVC()</pre></div></div></div><div class=\"sk-serial\"><div class=\"sk-item\"><div class=\"sk-estimator sk-toggleable\"><input class=\"sk-toggleable__control sk-hidden--visually\" id=\"sk-estimator-id-6\" type=\"checkbox\" ><label for=\"sk-estimator-id-6\" class=\"sk-toggleable__label sk-toggleable__label-arrow\">SVC</label><div class=\"sk-toggleable__content\"><pre>SVC()</pre></div></div></div></div></div></div></div></div></div></div>"
      ],
      "text/plain": [
       "GridSearchCV(estimator=SVC(),\n",
       "             param_grid={'C': [0.1, 1, 10, 100, 1000],\n",
       "                         'gamma': [1, 0.1, 0.01, 0.001, 0.0001],\n",
       "                         'kernel': ['rbf']},\n",
       "             verbose=3)"
      ]
     },
     "execution_count": 89,
     "metadata": {},
     "output_type": "execute_result"
    }
   ],
   "source": [
    "# defining parameter range\n",
    "param_grid = {'C': [0.1, 1, 10, 100, 1000], \n",
    "              'gamma': [1, 0.1, 0.01, 0.001, 0.0001],\n",
    "              'kernel': ['rbf']} \n",
    "  \n",
    "grid = GridSearchCV(SVC(), param_grid, refit = True, verbose = 3)\n",
    "  \n",
    "# fitting the model for grid search\n",
    "grid.fit(x_train, y_train)"
   ]
  },
  {
   "cell_type": "code",
   "execution_count": 90,
   "id": "d00d026a",
   "metadata": {},
   "outputs": [
    {
     "name": "stdout",
     "output_type": "stream",
     "text": [
      "{'C': 10, 'gamma': 0.1, 'kernel': 'rbf'}\n",
      "SVC(C=10, gamma=0.1)\n"
     ]
    }
   ],
   "source": [
    "# print best parameter after tuning\n",
    "print(grid.best_params_)\n",
    "  \n",
    "# print how our model looks after hyper-parameter tuning\n",
    "print(grid.best_estimator_)"
   ]
  },
  {
   "cell_type": "code",
   "execution_count": 91,
   "id": "9a939b28",
   "metadata": {},
   "outputs": [],
   "source": [
    "grid_predictions = grid.predict(x_test)"
   ]
  },
  {
   "cell_type": "code",
   "execution_count": 92,
   "id": "f4a986c9",
   "metadata": {},
   "outputs": [],
   "source": [
    "prediction = pd.DataFrame(grid_predictions, columns=['rating']).to_csv('SVM2_sample_submission.csv',index=False)\n",
    "df = pd.read_csv ('SVM2_sample_submission.csv')\n",
    "\n",
    "test = pd.read_csv(\"test_new.csv\")\n",
    "df['id']=test['id']\n",
    "\n",
    "df_pred = df.reindex(columns=['id','rating'])\n",
    "df_pred.to_csv('SVM2_sample_submission.csv',index=False)"
   ]
  },
  {
   "cell_type": "markdown",
   "id": "3d63891a",
   "metadata": {},
   "source": [
    "# 3- Decision Tree"
   ]
  },
  {
   "cell_type": "code",
   "execution_count": 94,
   "id": "80de8016",
   "metadata": {},
   "outputs": [
    {
     "data": {
      "text/html": [
       "<style>#sk-container-id-3 {color: black;background-color: white;}#sk-container-id-3 pre{padding: 0;}#sk-container-id-3 div.sk-toggleable {background-color: white;}#sk-container-id-3 label.sk-toggleable__label {cursor: pointer;display: block;width: 100%;margin-bottom: 0;padding: 0.3em;box-sizing: border-box;text-align: center;}#sk-container-id-3 label.sk-toggleable__label-arrow:before {content: \"▸\";float: left;margin-right: 0.25em;color: #696969;}#sk-container-id-3 label.sk-toggleable__label-arrow:hover:before {color: black;}#sk-container-id-3 div.sk-estimator:hover label.sk-toggleable__label-arrow:before {color: black;}#sk-container-id-3 div.sk-toggleable__content {max-height: 0;max-width: 0;overflow: hidden;text-align: left;background-color: #f0f8ff;}#sk-container-id-3 div.sk-toggleable__content pre {margin: 0.2em;color: black;border-radius: 0.25em;background-color: #f0f8ff;}#sk-container-id-3 input.sk-toggleable__control:checked~div.sk-toggleable__content {max-height: 200px;max-width: 100%;overflow: auto;}#sk-container-id-3 input.sk-toggleable__control:checked~label.sk-toggleable__label-arrow:before {content: \"▾\";}#sk-container-id-3 div.sk-estimator input.sk-toggleable__control:checked~label.sk-toggleable__label {background-color: #d4ebff;}#sk-container-id-3 div.sk-label input.sk-toggleable__control:checked~label.sk-toggleable__label {background-color: #d4ebff;}#sk-container-id-3 input.sk-hidden--visually {border: 0;clip: rect(1px 1px 1px 1px);clip: rect(1px, 1px, 1px, 1px);height: 1px;margin: -1px;overflow: hidden;padding: 0;position: absolute;width: 1px;}#sk-container-id-3 div.sk-estimator {font-family: monospace;background-color: #f0f8ff;border: 1px dotted black;border-radius: 0.25em;box-sizing: border-box;margin-bottom: 0.5em;}#sk-container-id-3 div.sk-estimator:hover {background-color: #d4ebff;}#sk-container-id-3 div.sk-parallel-item::after {content: \"\";width: 100%;border-bottom: 1px solid gray;flex-grow: 1;}#sk-container-id-3 div.sk-label:hover label.sk-toggleable__label {background-color: #d4ebff;}#sk-container-id-3 div.sk-serial::before {content: \"\";position: absolute;border-left: 1px solid gray;box-sizing: border-box;top: 0;bottom: 0;left: 50%;z-index: 0;}#sk-container-id-3 div.sk-serial {display: flex;flex-direction: column;align-items: center;background-color: white;padding-right: 0.2em;padding-left: 0.2em;position: relative;}#sk-container-id-3 div.sk-item {position: relative;z-index: 1;}#sk-container-id-3 div.sk-parallel {display: flex;align-items: stretch;justify-content: center;background-color: white;position: relative;}#sk-container-id-3 div.sk-item::before, #sk-container-id-3 div.sk-parallel-item::before {content: \"\";position: absolute;border-left: 1px solid gray;box-sizing: border-box;top: 0;bottom: 0;left: 50%;z-index: -1;}#sk-container-id-3 div.sk-parallel-item {display: flex;flex-direction: column;z-index: 1;position: relative;background-color: white;}#sk-container-id-3 div.sk-parallel-item:first-child::after {align-self: flex-end;width: 50%;}#sk-container-id-3 div.sk-parallel-item:last-child::after {align-self: flex-start;width: 50%;}#sk-container-id-3 div.sk-parallel-item:only-child::after {width: 0;}#sk-container-id-3 div.sk-dashed-wrapped {border: 1px dashed gray;margin: 0 0.4em 0.5em 0.4em;box-sizing: border-box;padding-bottom: 0.4em;background-color: white;}#sk-container-id-3 div.sk-label label {font-family: monospace;font-weight: bold;display: inline-block;line-height: 1.2em;}#sk-container-id-3 div.sk-label-container {text-align: center;}#sk-container-id-3 div.sk-container {/* jupyter's `normalize.less` sets `[hidden] { display: none; }` but bootstrap.min.css set `[hidden] { display: none !important; }` so we also need the `!important` here to be able to override the default hidden behavior on the sphinx rendered scikit-learn.org. See: https://github.com/scikit-learn/scikit-learn/issues/21755 */display: inline-block !important;position: relative;}#sk-container-id-3 div.sk-text-repr-fallback {display: none;}</style><div id=\"sk-container-id-3\" class=\"sk-top-container\"><div class=\"sk-text-repr-fallback\"><pre>DecisionTreeClassifier(max_depth=3, random_state=0)</pre><b>In a Jupyter environment, please rerun this cell to show the HTML representation or trust the notebook. <br />On GitHub, the HTML representation is unable to render, please try loading this page with nbviewer.org.</b></div><div class=\"sk-container\" hidden><div class=\"sk-item\"><div class=\"sk-estimator sk-toggleable\"><input class=\"sk-toggleable__control sk-hidden--visually\" id=\"sk-estimator-id-7\" type=\"checkbox\" checked><label for=\"sk-estimator-id-7\" class=\"sk-toggleable__label sk-toggleable__label-arrow\">DecisionTreeClassifier</label><div class=\"sk-toggleable__content\"><pre>DecisionTreeClassifier(max_depth=3, random_state=0)</pre></div></div></div></div></div>"
      ],
      "text/plain": [
       "DecisionTreeClassifier(max_depth=3, random_state=0)"
      ]
     },
     "execution_count": 94,
     "metadata": {},
     "output_type": "execute_result"
    }
   ],
   "source": [
    "from sklearn.tree import DecisionTreeClassifier\n",
    "clf_gini = DecisionTreeClassifier(criterion='gini', max_depth=3, random_state=0)\n",
    "\n",
    "# fit the model\n",
    "clf_gini.fit(x_train, y_train)"
   ]
  },
  {
   "cell_type": "code",
   "execution_count": 95,
   "id": "0be37d41",
   "metadata": {
    "scrolled": true
   },
   "outputs": [],
   "source": [
    "y_pred= clf_gini.predict(x_test)"
   ]
  },
  {
   "cell_type": "code",
   "execution_count": 96,
   "id": "249205bd",
   "metadata": {},
   "outputs": [],
   "source": [
    "prediction = pd.DataFrame(y_pred, columns=['rating']).to_csv('DT_sample_submission.csv',index=False)\n",
    "df = pd.read_csv ('DT_sample_submission.csv')\n",
    "\n",
    "test = pd.read_csv(\"test_new.csv\")\n",
    "df['id']=test['id']\n",
    "\n",
    "df_pred = df.reindex(columns=['id','rating'])\n",
    "df_pred.to_csv('DT_sample_submission.csv',index=False)"
   ]
  },
  {
   "cell_type": "markdown",
   "id": "7d73a6bb",
   "metadata": {},
   "source": [
    "# 4- Decision Tree\n",
    "Grid Search with Decision Tree"
   ]
  },
  {
   "cell_type": "code",
   "execution_count": 97,
   "id": "e9aa5b84",
   "metadata": {},
   "outputs": [
    {
     "name": "stdout",
     "output_type": "stream",
     "text": [
      "Fitting 5 folds for each of 90 candidates, totalling 450 fits\n"
     ]
    },
    {
     "data": {
      "text/html": [
       "<style>#sk-container-id-4 {color: black;background-color: white;}#sk-container-id-4 pre{padding: 0;}#sk-container-id-4 div.sk-toggleable {background-color: white;}#sk-container-id-4 label.sk-toggleable__label {cursor: pointer;display: block;width: 100%;margin-bottom: 0;padding: 0.3em;box-sizing: border-box;text-align: center;}#sk-container-id-4 label.sk-toggleable__label-arrow:before {content: \"▸\";float: left;margin-right: 0.25em;color: #696969;}#sk-container-id-4 label.sk-toggleable__label-arrow:hover:before {color: black;}#sk-container-id-4 div.sk-estimator:hover label.sk-toggleable__label-arrow:before {color: black;}#sk-container-id-4 div.sk-toggleable__content {max-height: 0;max-width: 0;overflow: hidden;text-align: left;background-color: #f0f8ff;}#sk-container-id-4 div.sk-toggleable__content pre {margin: 0.2em;color: black;border-radius: 0.25em;background-color: #f0f8ff;}#sk-container-id-4 input.sk-toggleable__control:checked~div.sk-toggleable__content {max-height: 200px;max-width: 100%;overflow: auto;}#sk-container-id-4 input.sk-toggleable__control:checked~label.sk-toggleable__label-arrow:before {content: \"▾\";}#sk-container-id-4 div.sk-estimator input.sk-toggleable__control:checked~label.sk-toggleable__label {background-color: #d4ebff;}#sk-container-id-4 div.sk-label input.sk-toggleable__control:checked~label.sk-toggleable__label {background-color: #d4ebff;}#sk-container-id-4 input.sk-hidden--visually {border: 0;clip: rect(1px 1px 1px 1px);clip: rect(1px, 1px, 1px, 1px);height: 1px;margin: -1px;overflow: hidden;padding: 0;position: absolute;width: 1px;}#sk-container-id-4 div.sk-estimator {font-family: monospace;background-color: #f0f8ff;border: 1px dotted black;border-radius: 0.25em;box-sizing: border-box;margin-bottom: 0.5em;}#sk-container-id-4 div.sk-estimator:hover {background-color: #d4ebff;}#sk-container-id-4 div.sk-parallel-item::after {content: \"\";width: 100%;border-bottom: 1px solid gray;flex-grow: 1;}#sk-container-id-4 div.sk-label:hover label.sk-toggleable__label {background-color: #d4ebff;}#sk-container-id-4 div.sk-serial::before {content: \"\";position: absolute;border-left: 1px solid gray;box-sizing: border-box;top: 0;bottom: 0;left: 50%;z-index: 0;}#sk-container-id-4 div.sk-serial {display: flex;flex-direction: column;align-items: center;background-color: white;padding-right: 0.2em;padding-left: 0.2em;position: relative;}#sk-container-id-4 div.sk-item {position: relative;z-index: 1;}#sk-container-id-4 div.sk-parallel {display: flex;align-items: stretch;justify-content: center;background-color: white;position: relative;}#sk-container-id-4 div.sk-item::before, #sk-container-id-4 div.sk-parallel-item::before {content: \"\";position: absolute;border-left: 1px solid gray;box-sizing: border-box;top: 0;bottom: 0;left: 50%;z-index: -1;}#sk-container-id-4 div.sk-parallel-item {display: flex;flex-direction: column;z-index: 1;position: relative;background-color: white;}#sk-container-id-4 div.sk-parallel-item:first-child::after {align-self: flex-end;width: 50%;}#sk-container-id-4 div.sk-parallel-item:last-child::after {align-self: flex-start;width: 50%;}#sk-container-id-4 div.sk-parallel-item:only-child::after {width: 0;}#sk-container-id-4 div.sk-dashed-wrapped {border: 1px dashed gray;margin: 0 0.4em 0.5em 0.4em;box-sizing: border-box;padding-bottom: 0.4em;background-color: white;}#sk-container-id-4 div.sk-label label {font-family: monospace;font-weight: bold;display: inline-block;line-height: 1.2em;}#sk-container-id-4 div.sk-label-container {text-align: center;}#sk-container-id-4 div.sk-container {/* jupyter's `normalize.less` sets `[hidden] { display: none; }` but bootstrap.min.css set `[hidden] { display: none !important; }` so we also need the `!important` here to be able to override the default hidden behavior on the sphinx rendered scikit-learn.org. See: https://github.com/scikit-learn/scikit-learn/issues/21755 */display: inline-block !important;position: relative;}#sk-container-id-4 div.sk-text-repr-fallback {display: none;}</style><div id=\"sk-container-id-4\" class=\"sk-top-container\"><div class=\"sk-text-repr-fallback\"><pre>GridSearchCV(cv=5, estimator=DecisionTreeClassifier(random_state=1024),\n",
       "             param_grid={&#x27;ccp_alpha&#x27;: [0.1, 0.01, 0.001],\n",
       "                         &#x27;criterion&#x27;: [&#x27;gini&#x27;, &#x27;entropy&#x27;],\n",
       "                         &#x27;max_depth&#x27;: [5, 6, 7, 8, 9],\n",
       "                         &#x27;max_features&#x27;: [&#x27;auto&#x27;, &#x27;sqrt&#x27;, &#x27;log2&#x27;]},\n",
       "             verbose=True)</pre><b>In a Jupyter environment, please rerun this cell to show the HTML representation or trust the notebook. <br />On GitHub, the HTML representation is unable to render, please try loading this page with nbviewer.org.</b></div><div class=\"sk-container\" hidden><div class=\"sk-item sk-dashed-wrapped\"><div class=\"sk-label-container\"><div class=\"sk-label sk-toggleable\"><input class=\"sk-toggleable__control sk-hidden--visually\" id=\"sk-estimator-id-8\" type=\"checkbox\" ><label for=\"sk-estimator-id-8\" class=\"sk-toggleable__label sk-toggleable__label-arrow\">GridSearchCV</label><div class=\"sk-toggleable__content\"><pre>GridSearchCV(cv=5, estimator=DecisionTreeClassifier(random_state=1024),\n",
       "             param_grid={&#x27;ccp_alpha&#x27;: [0.1, 0.01, 0.001],\n",
       "                         &#x27;criterion&#x27;: [&#x27;gini&#x27;, &#x27;entropy&#x27;],\n",
       "                         &#x27;max_depth&#x27;: [5, 6, 7, 8, 9],\n",
       "                         &#x27;max_features&#x27;: [&#x27;auto&#x27;, &#x27;sqrt&#x27;, &#x27;log2&#x27;]},\n",
       "             verbose=True)</pre></div></div></div><div class=\"sk-parallel\"><div class=\"sk-parallel-item\"><div class=\"sk-item\"><div class=\"sk-label-container\"><div class=\"sk-label sk-toggleable\"><input class=\"sk-toggleable__control sk-hidden--visually\" id=\"sk-estimator-id-9\" type=\"checkbox\" ><label for=\"sk-estimator-id-9\" class=\"sk-toggleable__label sk-toggleable__label-arrow\">estimator: DecisionTreeClassifier</label><div class=\"sk-toggleable__content\"><pre>DecisionTreeClassifier(random_state=1024)</pre></div></div></div><div class=\"sk-serial\"><div class=\"sk-item\"><div class=\"sk-estimator sk-toggleable\"><input class=\"sk-toggleable__control sk-hidden--visually\" id=\"sk-estimator-id-10\" type=\"checkbox\" ><label for=\"sk-estimator-id-10\" class=\"sk-toggleable__label sk-toggleable__label-arrow\">DecisionTreeClassifier</label><div class=\"sk-toggleable__content\"><pre>DecisionTreeClassifier(random_state=1024)</pre></div></div></div></div></div></div></div></div></div></div>"
      ],
      "text/plain": [
       "GridSearchCV(cv=5, estimator=DecisionTreeClassifier(random_state=1024),\n",
       "             param_grid={'ccp_alpha': [0.1, 0.01, 0.001],\n",
       "                         'criterion': ['gini', 'entropy'],\n",
       "                         'max_depth': [5, 6, 7, 8, 9],\n",
       "                         'max_features': ['auto', 'sqrt', 'log2']},\n",
       "             verbose=True)"
      ]
     },
     "execution_count": 97,
     "metadata": {},
     "output_type": "execute_result"
    }
   ],
   "source": [
    "from sklearn.tree import DecisionTreeClassifier\n",
    "param_grid = {'max_features': ['auto', 'sqrt', 'log2'],\n",
    "              'ccp_alpha': [0.1, .01, .001],\n",
    "              'max_depth' : [5, 6, 7, 8, 9],\n",
    "              'criterion' :['gini', 'entropy']\n",
    "             }\n",
    "tree_clas = DecisionTreeClassifier(random_state=1024)\n",
    "grid_search = GridSearchCV(estimator=tree_clas, param_grid=param_grid, cv=5, verbose=True)\n",
    "grid_search.fit(x_train, y_train)"
   ]
  },
  {
   "cell_type": "code",
   "execution_count": 98,
   "id": "ab5a3e2a",
   "metadata": {},
   "outputs": [
    {
     "data": {
      "text/html": [
       "<style>#sk-container-id-5 {color: black;background-color: white;}#sk-container-id-5 pre{padding: 0;}#sk-container-id-5 div.sk-toggleable {background-color: white;}#sk-container-id-5 label.sk-toggleable__label {cursor: pointer;display: block;width: 100%;margin-bottom: 0;padding: 0.3em;box-sizing: border-box;text-align: center;}#sk-container-id-5 label.sk-toggleable__label-arrow:before {content: \"▸\";float: left;margin-right: 0.25em;color: #696969;}#sk-container-id-5 label.sk-toggleable__label-arrow:hover:before {color: black;}#sk-container-id-5 div.sk-estimator:hover label.sk-toggleable__label-arrow:before {color: black;}#sk-container-id-5 div.sk-toggleable__content {max-height: 0;max-width: 0;overflow: hidden;text-align: left;background-color: #f0f8ff;}#sk-container-id-5 div.sk-toggleable__content pre {margin: 0.2em;color: black;border-radius: 0.25em;background-color: #f0f8ff;}#sk-container-id-5 input.sk-toggleable__control:checked~div.sk-toggleable__content {max-height: 200px;max-width: 100%;overflow: auto;}#sk-container-id-5 input.sk-toggleable__control:checked~label.sk-toggleable__label-arrow:before {content: \"▾\";}#sk-container-id-5 div.sk-estimator input.sk-toggleable__control:checked~label.sk-toggleable__label {background-color: #d4ebff;}#sk-container-id-5 div.sk-label input.sk-toggleable__control:checked~label.sk-toggleable__label {background-color: #d4ebff;}#sk-container-id-5 input.sk-hidden--visually {border: 0;clip: rect(1px 1px 1px 1px);clip: rect(1px, 1px, 1px, 1px);height: 1px;margin: -1px;overflow: hidden;padding: 0;position: absolute;width: 1px;}#sk-container-id-5 div.sk-estimator {font-family: monospace;background-color: #f0f8ff;border: 1px dotted black;border-radius: 0.25em;box-sizing: border-box;margin-bottom: 0.5em;}#sk-container-id-5 div.sk-estimator:hover {background-color: #d4ebff;}#sk-container-id-5 div.sk-parallel-item::after {content: \"\";width: 100%;border-bottom: 1px solid gray;flex-grow: 1;}#sk-container-id-5 div.sk-label:hover label.sk-toggleable__label {background-color: #d4ebff;}#sk-container-id-5 div.sk-serial::before {content: \"\";position: absolute;border-left: 1px solid gray;box-sizing: border-box;top: 0;bottom: 0;left: 50%;z-index: 0;}#sk-container-id-5 div.sk-serial {display: flex;flex-direction: column;align-items: center;background-color: white;padding-right: 0.2em;padding-left: 0.2em;position: relative;}#sk-container-id-5 div.sk-item {position: relative;z-index: 1;}#sk-container-id-5 div.sk-parallel {display: flex;align-items: stretch;justify-content: center;background-color: white;position: relative;}#sk-container-id-5 div.sk-item::before, #sk-container-id-5 div.sk-parallel-item::before {content: \"\";position: absolute;border-left: 1px solid gray;box-sizing: border-box;top: 0;bottom: 0;left: 50%;z-index: -1;}#sk-container-id-5 div.sk-parallel-item {display: flex;flex-direction: column;z-index: 1;position: relative;background-color: white;}#sk-container-id-5 div.sk-parallel-item:first-child::after {align-self: flex-end;width: 50%;}#sk-container-id-5 div.sk-parallel-item:last-child::after {align-self: flex-start;width: 50%;}#sk-container-id-5 div.sk-parallel-item:only-child::after {width: 0;}#sk-container-id-5 div.sk-dashed-wrapped {border: 1px dashed gray;margin: 0 0.4em 0.5em 0.4em;box-sizing: border-box;padding-bottom: 0.4em;background-color: white;}#sk-container-id-5 div.sk-label label {font-family: monospace;font-weight: bold;display: inline-block;line-height: 1.2em;}#sk-container-id-5 div.sk-label-container {text-align: center;}#sk-container-id-5 div.sk-container {/* jupyter's `normalize.less` sets `[hidden] { display: none; }` but bootstrap.min.css set `[hidden] { display: none !important; }` so we also need the `!important` here to be able to override the default hidden behavior on the sphinx rendered scikit-learn.org. See: https://github.com/scikit-learn/scikit-learn/issues/21755 */display: inline-block !important;position: relative;}#sk-container-id-5 div.sk-text-repr-fallback {display: none;}</style><div id=\"sk-container-id-5\" class=\"sk-top-container\"><div class=\"sk-text-repr-fallback\"><pre>DecisionTreeClassifier(ccp_alpha=0.001, max_depth=8, max_features=&#x27;auto&#x27;,\n",
       "                       random_state=1024)</pre><b>In a Jupyter environment, please rerun this cell to show the HTML representation or trust the notebook. <br />On GitHub, the HTML representation is unable to render, please try loading this page with nbviewer.org.</b></div><div class=\"sk-container\" hidden><div class=\"sk-item\"><div class=\"sk-estimator sk-toggleable\"><input class=\"sk-toggleable__control sk-hidden--visually\" id=\"sk-estimator-id-11\" type=\"checkbox\" checked><label for=\"sk-estimator-id-11\" class=\"sk-toggleable__label sk-toggleable__label-arrow\">DecisionTreeClassifier</label><div class=\"sk-toggleable__content\"><pre>DecisionTreeClassifier(ccp_alpha=0.001, max_depth=8, max_features=&#x27;auto&#x27;,\n",
       "                       random_state=1024)</pre></div></div></div></div></div>"
      ],
      "text/plain": [
       "DecisionTreeClassifier(ccp_alpha=0.001, max_depth=8, max_features='auto',\n",
       "                       random_state=1024)"
      ]
     },
     "execution_count": 98,
     "metadata": {},
     "output_type": "execute_result"
    }
   ],
   "source": [
    "final_model = grid_search.best_estimator_\n",
    "final_model"
   ]
  },
  {
   "cell_type": "code",
   "execution_count": 99,
   "id": "515b6a5f",
   "metadata": {},
   "outputs": [],
   "source": [
    "tree_clas = DecisionTreeClassifier(ccp_alpha=0.001, class_weight=None, criterion='entropy',\n",
    "                       max_depth=6, max_features='auto',\n",
    "                       min_impurity_decrease=0.0, \n",
    "                       min_samples_leaf=1, min_samples_split=2,\n",
    "                       random_state=1024, splitter='best')\n",
    "tree_clas.fit(x_train, y_train)\n",
    "y_predict = tree_clas.predict(x_test)"
   ]
  },
  {
   "cell_type": "code",
   "execution_count": 100,
   "id": "cbe62df6",
   "metadata": {},
   "outputs": [],
   "source": [
    "prediction = pd.DataFrame(y_predict, columns=['rating']).to_csv('DT2_sample_submission.csv',index=False)\n",
    "df = pd.read_csv('DT2_sample_submission.csv')\n",
    "\n",
    "test = pd.read_csv(\"test_new.csv\")\n",
    "df['id']=test['id']\n",
    "\n",
    "df_pred = df.reindex(columns=['id','rating'])\n",
    "df_pred.to_csv('DT2_sample_submission.csv',index=False)"
   ]
  },
  {
   "cell_type": "markdown",
   "id": "b5a1cf9b",
   "metadata": {},
   "source": [
    "# 3- Naive Bayes"
   ]
  },
  {
   "cell_type": "code",
   "execution_count": 101,
   "id": "71c1589c",
   "metadata": {},
   "outputs": [],
   "source": [
    "from sklearn.naive_bayes import GaussianNB\n",
    "from sklearn.model_selection import cross_val_score"
   ]
  },
  {
   "cell_type": "code",
   "execution_count": 102,
   "id": "05bf98ff",
   "metadata": {},
   "outputs": [
    {
     "name": "stdout",
     "output_type": "stream",
     "text": [
      "GaussianNB()  mean accuracy:  52.248 % std:  0.321 %\n"
     ]
    }
   ],
   "source": [
    "model = GaussianNB()\n",
    "cv_scores = cross_val_score(model, x_train, y_train, cv=5)\n",
    "    \n",
    "print(model, ' mean accuracy: ', round(cv_scores.mean()*100, 3), '% std: ', round(cv_scores.var()*100, 3),'%')"
   ]
  },
  {
   "cell_type": "code",
   "execution_count": 103,
   "id": "5f0ebd87",
   "metadata": {
    "scrolled": true
   },
   "outputs": [
    {
     "data": {
      "text/plain": [
       "array([3., 4., 4., 4., 4., 2., 4., 4., 4., 3., 5., 3., 3., 4., 4., 4., 3.,\n",
       "       4., 3., 4., 5., 2., 3., 3., 4., 3., 4., 4., 4., 4., 4., 4., 4., 4.,\n",
       "       4., 4., 4., 4., 2., 2., 4., 4., 4., 4., 4., 3., 2., 2., 2., 4., 5.,\n",
       "       2., 4., 4., 4., 4., 4., 4., 3., 4., 4., 3., 4., 4., 2., 4., 4., 2.,\n",
       "       3., 4., 2., 4., 4., 4., 4., 4., 4., 4., 4., 4., 3., 4., 4., 4., 4.,\n",
       "       2., 4., 3., 4., 4., 3., 4., 2., 5., 3., 4., 3., 3., 3., 4., 4., 5.,\n",
       "       4., 4., 4., 2., 2., 4., 3., 4., 4., 4., 4., 4., 4., 2., 4., 3., 2.,\n",
       "       3., 2., 4., 4., 4., 4., 3., 4., 4., 4., 4., 2., 4., 2., 4., 4., 4.,\n",
       "       4., 4., 4., 3., 2., 4., 2., 4., 3., 4., 3., 4., 4., 4., 4., 2., 4.,\n",
       "       4., 3., 4., 3., 4., 4., 4., 2., 4., 4., 3., 2., 4., 4., 4., 3., 4.,\n",
       "       4., 4., 4., 4., 4., 4., 3., 4., 4., 4., 4., 3., 2., 4., 4., 4., 4.,\n",
       "       2., 4., 4., 4., 2., 4., 4., 4., 4., 4., 3., 3., 4., 4., 4., 4., 4.,\n",
       "       4., 2., 4., 2., 2., 2., 3., 2., 4., 4., 4., 4., 4., 4., 4., 4., 4.,\n",
       "       4., 2., 4., 4., 4., 4., 4., 4., 2., 4., 3., 4., 2., 4., 4., 4., 4.,\n",
       "       5., 4., 4., 3., 3., 2., 3., 4., 3., 4., 3., 4., 3., 4., 3., 4., 2.,\n",
       "       4., 4., 3., 4., 4., 4., 4., 4., 3., 4., 4., 4., 4., 4., 3., 4., 4.,\n",
       "       4., 4., 4., 4., 3., 4., 4., 4., 4., 4., 3., 4., 4., 4., 4., 3., 4.,\n",
       "       4., 3., 3., 4., 3., 4., 4., 4., 4., 3., 2., 4., 4., 3., 2., 5., 4.,\n",
       "       4., 3., 4., 4., 4., 4., 2., 3., 4., 3., 2., 3., 3., 4., 3., 3., 4.,\n",
       "       4., 4., 3., 4., 3., 2., 2., 4., 4., 4., 4., 4., 4., 4., 4., 4., 4.,\n",
       "       3., 4., 3., 2., 4., 4., 4., 4., 4., 4., 3., 4., 3., 4., 4., 4., 3.,\n",
       "       3., 4., 4., 4., 4., 2., 2., 4., 2., 2., 4., 2., 4., 4., 2., 4., 3.,\n",
       "       4., 4., 4., 4., 3., 4., 4., 4., 2., 4., 4., 4., 2., 2., 3., 4., 4.,\n",
       "       4., 4., 4., 4., 2., 4., 3., 2., 4., 3., 4., 4., 4., 4., 2., 4., 3.,\n",
       "       2., 4., 2., 3., 4., 4., 3., 4., 2., 4., 4., 4., 4., 4., 3., 4., 3.,\n",
       "       4., 5., 4., 4., 4., 4., 4., 5., 3., 4., 4., 2., 3., 4., 3., 4., 4.,\n",
       "       4., 4., 4., 4., 4., 4., 4., 4., 4., 3., 4., 3., 3., 4., 3., 5., 4.,\n",
       "       4., 3., 4., 4., 4., 4., 4., 4., 4., 4., 4., 4., 4., 4., 4., 4., 4.,\n",
       "       2., 2., 4.])"
      ]
     },
     "execution_count": 103,
     "metadata": {},
     "output_type": "execute_result"
    }
   ],
   "source": [
    "y_pred = model.fit(x_train, y_train).predict(x_test)\n",
    "y_pred"
   ]
  },
  {
   "cell_type": "code",
   "execution_count": 104,
   "id": "cbe65719",
   "metadata": {},
   "outputs": [],
   "source": [
    "prediction = pd.DataFrame(y_predict, columns=['rating']).to_csv('NB_sample_submission.csv',index=False)\n",
    "df = pd.read_csv('NB_sample_submission.csv')\n",
    "\n",
    "test = pd.read_csv(\"test_new.csv\")\n",
    "df['id']=test['id']\n",
    "\n",
    "df_pred = df.reindex(columns=['id','rating'])\n",
    "df_pred.to_csv('NB_sample_submission.csv',index=False)"
   ]
  },
  {
   "cell_type": "markdown",
   "id": "ee36b124",
   "metadata": {},
   "source": [
    "## Results\n",
    "\n",
    "After submission with all these outputs, SVM with grid search (Model Number 2) is the one that got me my higher accuracy on kaggle: 0.79497"
   ]
  },
  {
   "cell_type": "code",
   "execution_count": null,
   "id": "d3931a58",
   "metadata": {},
   "outputs": [],
   "source": []
  }
 ],
 "metadata": {
  "kernelspec": {
   "display_name": "Python 3 (ipykernel)",
   "language": "python",
   "name": "python3"
  },
  "language_info": {
   "codemirror_mode": {
    "name": "ipython",
    "version": 3
   },
   "file_extension": ".py",
   "mimetype": "text/x-python",
   "name": "python",
   "nbconvert_exporter": "python",
   "pygments_lexer": "ipython3",
   "version": "3.8.5"
  }
 },
 "nbformat": 4,
 "nbformat_minor": 5
}
