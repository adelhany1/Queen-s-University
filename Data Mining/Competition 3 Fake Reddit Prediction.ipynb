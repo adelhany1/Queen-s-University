{
 "cells": [
  {
   "cell_type": "markdown",
   "id": "8ccd8733",
   "metadata": {
    "id": "8ccd8733"
   },
   "source": [
    "# cisc-873-dm-w23-a3\n",
    "## Fake Reddit Prediction\n",
    "\n",
    "https://www.kaggle.com/competitions/cisc-873-dm-w23-a3"
   ]
  },
  {
   "cell_type": "markdown",
   "id": "73efe16b",
   "metadata": {},
   "source": [
    "## Problem Formulation:\n",
    "\n",
    "**Define the problem:**\n",
    "- the problem is how are we  going to predict if a specific reddit(website) post is fake news or not\n",
    "\n",
    "**What is the input:**  \n",
    "- the input is text that has a lot of rows containing fake news and right news and has some noise needed be cleaned\n",
    "\n",
    "**What is the output:**\n",
    "- predict if the news are fake news or True news\n",
    "\n",
    "**What data mining function is required:**\n",
    "- data mining function is required  classification problem\n",
    "\n",
    "**What could be the challenges**\n",
    "- the challenges are to clean the text data by Preprocessing techniques in NLP to make the sentence pure to predict correctly and choose best classifier for this mission.\n",
    "\n",
    "**What is the impact:**\n",
    "\n",
    "- Reducing the spread of rumors and fake news\n",
    "\n",
    "**What is an ideal solution:**\n",
    "\n",
    "- the ideal solution is getting high accuracy for predict which fake or true news,and which model perfect to train input text (NLP or text classification) in this proplem randomforest classifier is the best and logestic regresion"
   ]
  },
  {
   "cell_type": "markdown",
   "id": "1fd6d24f",
   "metadata": {
    "id": "1fd6d24f"
   },
   "source": [
    "# Questions:\n",
    "🌈 What is the difference between Character n-gram and Word n-gram? Which one tends to suffer more from the OOV issue?\n",
    "\n",
    "🌈 What is the difference between stop word removal and stemming? Are these techniques language-dependent?\n",
    "\n",
    "🌈 Is tokenization techniques language dependent? Why?\n",
    "\n",
    "🌈 What is the difference between count vectorizer and tf-idf vectorizer? Would it be feasible to use all possible n-grams? If not, how should you select them?"
   ]
  },
  {
   "cell_type": "markdown",
   "id": "5e3777b4",
   "metadata": {
    "id": "5e3777b4"
   },
   "source": [
    "#### **What is the difference between Character n-gram and Word n-gram? Which one tends to suffer more from the OOV issue?**\n",
    "\n",
    "**1-**\n",
    "* Character N-Grams it is split each words based on character but ` \n",
    " `word N-Grams it is split whole text based on words`\n",
    "* For a given document in a language, there are more character N-grams repetitions than word n-gram repetitions\n",
    "\n",
    " character N-grams split highlights some common properties that a word n-gram split does not\n",
    "\n",
    "  character N-grams make languages more comparable revealing more repeated\n",
    "\n",
    "**2-**\n",
    "* Word n-gram tends to suffer more from OOV (Out-Of-Vocabulary) issue because of the new words that presented in the testing dataset and not appear in training dataset\n",
    "\n",
    "\n",
    "#### **What is the difference between stop word removal and stemming? Are these techniques language-dependent?**\n",
    "\n",
    "**1-**\n",
    "* Stop word removal and stemming are commonly used method in indexing the different between them are \n",
    "\n",
    "* Stop word removal Some common words that are present in text but do not contribute in the meaning of a sentence. Such words are not at all important for the purpose of information retrieval or natural language processing. The most common stopwords are ‘the’ and ‘a’.\n",
    "\n",
    "* Stemming is a technique used to extract the base form of the words by removing affixes from them. It is just like cutting down the branches of a tree to its stems. For example, the stem of the words eating, eats, eaten is eat.\n",
    "\n",
    "**2-**\n",
    "* yes, these techniques are language-dependent\n",
    "\n",
    "\n",
    "#### **Is tokenization techniques language dependent? Why?**\n",
    "\n",
    "* Tokenization is breaking the raw text into small chunks and helps in interpreting the meaning of the text by analyzing the sequence of the words\n",
    "so it is language dependent\n",
    "* because it needs to know meaning of each word to split it depend on language`\n",
    "`for example: wasn't>> wasnt>>was n't>>wasn t >> these all possable of tokenization but some of these doesn't have meaning in the language \n",
    "\n",
    "\n",
    "#### **What is the difference between count vectorizer and tf-idf vectorizer? Would it be feasible to use all possible n-grams? If not, how should you select them?**\n",
    "\n",
    "**1-**\n",
    "* TfidfVectorizer and CountVectorizer both are methods for converting text data into vectors as model can process only numerical data.\n",
    "\n",
    "* In CountVectorizer we only count the number of times a word appears in the document which results in biasing in favour of most frequent words. this ends up in ignoring rare words which could have helped is in processing our data more efficiently.\n",
    "\n",
    "\n",
    "\n",
    "* In TfidfVectorizer we consider overall document weightage of a word. It helps us in dealing with most frequent words. Using it we can penalize them. TfidfVectorizer weights the word counts by a measure of how often they appear in the documents.\n",
    "\n",
    "**2-**\n",
    "* it isn't feasible to use all possible n-grams\n",
    "\n",
    "N-gram range sets if features to be used to characterize texts will be:\n",
    "Unigrams or words (n-gram size = 1)\n",
    "Bigrams or terms compounded by two words (n-gram size = 2)\n",
    "Trigrams or terms compounded by up to three words (n-gram size = 3)\n",
    "\n",
    "\n",
    "I should select between them depend on problem like :\n",
    "Sentiment Analysis, setting n-gram ranges that use bigrams \n",
    "or trigrams can dramatically improve the accuracy of classification,\n",
    "as they can capture more complex expressions formed by the composition of more\n",
    "than one word. The rationale is that in Sentiment Analysis the outcome depends\n",
    "not only on the frequency of words but also on how they are combined:\n",
    "good has a different meaning alone than when preceded by a not as in not good."
   ]
  },
  {
   "cell_type": "markdown",
   "id": "2b23cb75",
   "metadata": {},
   "source": [
    "Import the libraries that i will use in the competetion"
   ]
  },
  {
   "cell_type": "code",
   "execution_count": 1,
   "id": "3e3bdf14",
   "metadata": {
    "id": "3e3bdf14"
   },
   "outputs": [],
   "source": [
    "import re\n",
    "import pickle\n",
    "import sklearn\n",
    "import pandas as pd\n",
    "from pandas.core.frame import DataFrame\n",
    "import numpy as np\n",
    "import holoviews as hv\n",
    "import nltk \n",
    "from bokeh.io import output_notebook\n",
    "output_notebook()\n",
    "import warnings\n",
    "warnings.filterwarnings(\"ignore\")\n",
    "from pathlib import Path\n",
    "np.random.seed(0)\n",
    "\n",
    "# some seeting for pandas and hvplot\n",
    "\n",
    "pd.options.display.max_columns = 100\n",
    "pd.options.display.max_rows = 300\n",
    "pd.options.display.max_colwidth = 100\n",
    "np.set_printoptions(threshold=2000)"
   ]
  },
  {
   "cell_type": "code",
   "execution_count": 54,
   "id": "3fdbdd3f",
   "metadata": {
    "id": "3fdbdd3f"
   },
   "outputs": [],
   "source": [
    "from sklearn.model_selection import train_test_split, GridSearchCV , RandomizedSearchCV\n",
    "from sklearn.feature_extraction.text import TfidfVectorizer , CountVectorizer\n",
    "from sklearn.linear_model import LogisticRegression\n",
    "from sklearn.svm import LinearSVC\n",
    "from sklearn.ensemble import RandomForestClassifier , GradientBoostingClassifier\n",
    "from sklearn.neural_network import MLPClassifier\n",
    "from sklearn.pipeline import Pipeline\n",
    "from sklearn.multiclass import OneVsRestClassifier\n",
    "from sklearn.ensemble import RandomForestClassifier # to use RandomForestClassifier model for my data\n",
    "from sklearn.pipeline import make_pipeline\n",
    "from xgboost import XGBClassifier\n",
    "from nltk.stem.snowball import SnowballStemmer\n",
    "from nltk.tokenize import word_tokenize\n",
    "from nltk.corpus import stopwords #remove the low-level information from our text in order to give more focus to the important"
   ]
  },
  {
   "cell_type": "code",
   "execution_count": 3,
   "id": "d6b6a1aa",
   "metadata": {
    "colab": {
     "base_uri": "https://localhost:8080/",
     "height": 424
    },
    "id": "d6b6a1aa",
    "outputId": "ecee973f-7766-4cca-8b0f-07f1e212f232"
   },
   "outputs": [
    {
     "data": {
      "text/html": [
       "\n",
       "  <div id=\"df-6429f8d2-1726-48ce-8918-b63c991c57b5\">\n",
       "    <div class=\"colab-df-container\">\n",
       "      <div>\n",
       "<style scoped>\n",
       "    .dataframe tbody tr th:only-of-type {\n",
       "        vertical-align: middle;\n",
       "    }\n",
       "\n",
       "    .dataframe tbody tr th {\n",
       "        vertical-align: top;\n",
       "    }\n",
       "\n",
       "    .dataframe thead th {\n",
       "        text-align: right;\n",
       "    }\n",
       "</style>\n",
       "<table border=\"1\" class=\"dataframe\">\n",
       "  <thead>\n",
       "    <tr style=\"text-align: right;\">\n",
       "      <th></th>\n",
       "      <th>id</th>\n",
       "      <th>text</th>\n",
       "      <th>label</th>\n",
       "    </tr>\n",
       "  </thead>\n",
       "  <tbody>\n",
       "    <tr>\n",
       "      <th>0</th>\n",
       "      <td>265723</td>\n",
       "      <td>A group of friends began to volunteer at a homeless shelter after their neighbors protested. \"Se...</td>\n",
       "      <td>0</td>\n",
       "    </tr>\n",
       "    <tr>\n",
       "      <th>1</th>\n",
       "      <td>284269</td>\n",
       "      <td>British Prime Minister @Theresa_May on Nerve Attack on Former Russian Spy: \"The government has c...</td>\n",
       "      <td>0</td>\n",
       "    </tr>\n",
       "    <tr>\n",
       "      <th>2</th>\n",
       "      <td>207715</td>\n",
       "      <td>In 1961, Goodyear released a kit that allows PS2s to be brought to heel. https://m.youtube.com/w...</td>\n",
       "      <td>0</td>\n",
       "    </tr>\n",
       "    <tr>\n",
       "      <th>3</th>\n",
       "      <td>551106</td>\n",
       "      <td>Happy Birthday, Bob Barker! The Price Is Right Host on How He'd Like to Be Remembered | \"As the ...</td>\n",
       "      <td>0</td>\n",
       "    </tr>\n",
       "    <tr>\n",
       "      <th>4</th>\n",
       "      <td>8584</td>\n",
       "      <td>Obama to Nation: 聙\"Innocent Cops and Unarmed Young Black Men Should Not be Dying Before Magic Jo...</td>\n",
       "      <td>0</td>\n",
       "    </tr>\n",
       "    <tr>\n",
       "      <th>...</th>\n",
       "      <td>...</td>\n",
       "      <td>...</td>\n",
       "      <td>...</td>\n",
       "    </tr>\n",
       "    <tr>\n",
       "      <th>59995</th>\n",
       "      <td>70046</td>\n",
       "      <td>Finish Sniper Simo H盲yh盲 during the invasion of Finland by the USSR (1939, colorized)</td>\n",
       "      <td>0</td>\n",
       "    </tr>\n",
       "    <tr>\n",
       "      <th>59996</th>\n",
       "      <td>189377</td>\n",
       "      <td>Nigerian Prince Scam took $110K from Kansas man; 10 years later, he's getting it back</td>\n",
       "      <td>1</td>\n",
       "    </tr>\n",
       "    <tr>\n",
       "      <th>59997</th>\n",
       "      <td>93486</td>\n",
       "      <td>Is It Safe To Smoke Marijuana During Pregnancy? You鈥檇 Be Surprised Of The Answer | no</td>\n",
       "      <td>0</td>\n",
       "    </tr>\n",
       "    <tr>\n",
       "      <th>59998</th>\n",
       "      <td>140950</td>\n",
       "      <td>Julius Caesar upon realizing that everyone in the room has a knife except him (44 bc)</td>\n",
       "      <td>0</td>\n",
       "    </tr>\n",
       "    <tr>\n",
       "      <th>59999</th>\n",
       "      <td>34509</td>\n",
       "      <td>Jeff Bridges Releasing 鈥楽leeping Tapes,鈥?a New Album Designed to Help You Fall Asleep</td>\n",
       "      <td>1</td>\n",
       "    </tr>\n",
       "  </tbody>\n",
       "</table>\n",
       "<p>60000 rows × 3 columns</p>\n",
       "</div>\n",
       "      <button class=\"colab-df-convert\" onclick=\"convertToInteractive('df-6429f8d2-1726-48ce-8918-b63c991c57b5')\"\n",
       "              title=\"Convert this dataframe to an interactive table.\"\n",
       "              style=\"display:none;\">\n",
       "        \n",
       "  <svg xmlns=\"http://www.w3.org/2000/svg\" height=\"24px\"viewBox=\"0 0 24 24\"\n",
       "       width=\"24px\">\n",
       "    <path d=\"M0 0h24v24H0V0z\" fill=\"none\"/>\n",
       "    <path d=\"M18.56 5.44l.94 2.06.94-2.06 2.06-.94-2.06-.94-.94-2.06-.94 2.06-2.06.94zm-11 1L8.5 8.5l.94-2.06 2.06-.94-2.06-.94L8.5 2.5l-.94 2.06-2.06.94zm10 10l.94 2.06.94-2.06 2.06-.94-2.06-.94-.94-2.06-.94 2.06-2.06.94z\"/><path d=\"M17.41 7.96l-1.37-1.37c-.4-.4-.92-.59-1.43-.59-.52 0-1.04.2-1.43.59L10.3 9.45l-7.72 7.72c-.78.78-.78 2.05 0 2.83L4 21.41c.39.39.9.59 1.41.59.51 0 1.02-.2 1.41-.59l7.78-7.78 2.81-2.81c.8-.78.8-2.07 0-2.86zM5.41 20L4 18.59l7.72-7.72 1.47 1.35L5.41 20z\"/>\n",
       "  </svg>\n",
       "      </button>\n",
       "      \n",
       "  <style>\n",
       "    .colab-df-container {\n",
       "      display:flex;\n",
       "      flex-wrap:wrap;\n",
       "      gap: 12px;\n",
       "    }\n",
       "\n",
       "    .colab-df-convert {\n",
       "      background-color: #E8F0FE;\n",
       "      border: none;\n",
       "      border-radius: 50%;\n",
       "      cursor: pointer;\n",
       "      display: none;\n",
       "      fill: #1967D2;\n",
       "      height: 32px;\n",
       "      padding: 0 0 0 0;\n",
       "      width: 32px;\n",
       "    }\n",
       "\n",
       "    .colab-df-convert:hover {\n",
       "      background-color: #E2EBFA;\n",
       "      box-shadow: 0px 1px 2px rgba(60, 64, 67, 0.3), 0px 1px 3px 1px rgba(60, 64, 67, 0.15);\n",
       "      fill: #174EA6;\n",
       "    }\n",
       "\n",
       "    [theme=dark] .colab-df-convert {\n",
       "      background-color: #3B4455;\n",
       "      fill: #D2E3FC;\n",
       "    }\n",
       "\n",
       "    [theme=dark] .colab-df-convert:hover {\n",
       "      background-color: #434B5C;\n",
       "      box-shadow: 0px 1px 3px 1px rgba(0, 0, 0, 0.15);\n",
       "      filter: drop-shadow(0px 1px 2px rgba(0, 0, 0, 0.3));\n",
       "      fill: #FFFFFF;\n",
       "    }\n",
       "  </style>\n",
       "\n",
       "      <script>\n",
       "        const buttonEl =\n",
       "          document.querySelector('#df-6429f8d2-1726-48ce-8918-b63c991c57b5 button.colab-df-convert');\n",
       "        buttonEl.style.display =\n",
       "          google.colab.kernel.accessAllowed ? 'block' : 'none';\n",
       "\n",
       "        async function convertToInteractive(key) {\n",
       "          const element = document.querySelector('#df-6429f8d2-1726-48ce-8918-b63c991c57b5');\n",
       "          const dataTable =\n",
       "            await google.colab.kernel.invokeFunction('convertToInteractive',\n",
       "                                                     [key], {});\n",
       "          if (!dataTable) return;\n",
       "\n",
       "          const docLinkHtml = 'Like what you see? Visit the ' +\n",
       "            '<a target=\"_blank\" href=https://colab.research.google.com/notebooks/data_table.ipynb>data table notebook</a>'\n",
       "            + ' to learn more about interactive tables.';\n",
       "          element.innerHTML = '';\n",
       "          dataTable['output_type'] = 'display_data';\n",
       "          await google.colab.output.renderOutput(dataTable, element);\n",
       "          const docLink = document.createElement('div');\n",
       "          docLink.innerHTML = docLinkHtml;\n",
       "          element.appendChild(docLink);\n",
       "        }\n",
       "      </script>\n",
       "    </div>\n",
       "  </div>\n",
       "  "
      ],
      "text/plain": [
       "           id  \\\n",
       "0      265723   \n",
       "1      284269   \n",
       "2      207715   \n",
       "3      551106   \n",
       "4        8584   \n",
       "...       ...   \n",
       "59995   70046   \n",
       "59996  189377   \n",
       "59997   93486   \n",
       "59998  140950   \n",
       "59999   34509   \n",
       "\n",
       "                                                                                                      text  \\\n",
       "0      A group of friends began to volunteer at a homeless shelter after their neighbors protested. \"Se...   \n",
       "1      British Prime Minister @Theresa_May on Nerve Attack on Former Russian Spy: \"The government has c...   \n",
       "2      In 1961, Goodyear released a kit that allows PS2s to be brought to heel. https://m.youtube.com/w...   \n",
       "3      Happy Birthday, Bob Barker! The Price Is Right Host on How He'd Like to Be Remembered | \"As the ...   \n",
       "4      Obama to Nation: 聙\"Innocent Cops and Unarmed Young Black Men Should Not be Dying Before Magic Jo...   \n",
       "...                                                                                                    ...   \n",
       "59995                Finish Sniper Simo H盲yh盲 during the invasion of Finland by the USSR (1939, colorized)   \n",
       "59996                Nigerian Prince Scam took $110K from Kansas man; 10 years later, he's getting it back   \n",
       "59997                Is It Safe To Smoke Marijuana During Pregnancy? You鈥檇 Be Surprised Of The Answer | no   \n",
       "59998                Julius Caesar upon realizing that everyone in the room has a knife except him (44 bc)   \n",
       "59999                Jeff Bridges Releasing 鈥楽leeping Tapes,鈥?a New Album Designed to Help You Fall Asleep   \n",
       "\n",
       "       label  \n",
       "0          0  \n",
       "1          0  \n",
       "2          0  \n",
       "3          0  \n",
       "4          0  \n",
       "...      ...  \n",
       "59995      0  \n",
       "59996      1  \n",
       "59997      0  \n",
       "59998      0  \n",
       "59999      1  \n",
       "\n",
       "[60000 rows x 3 columns]"
      ]
     },
     "execution_count": 3,
     "metadata": {},
     "output_type": "execute_result"
    }
   ],
   "source": [
    "# Read raw data\n",
    "np.random.seed(1)\n",
    "data = pd.read_csv(\"/content/xy_train.csv\", sep=\",\", na_values=[\"\"])\n",
    "data"
   ]
  },
  {
   "cell_type": "markdown",
   "id": "7747f3ae",
   "metadata": {
    "id": "7747f3ae"
   },
   "source": [
    "## Check for Null values"
   ]
  },
  {
   "cell_type": "code",
   "execution_count": null,
   "id": "baa3a8f9",
   "metadata": {
    "id": "baa3a8f9",
    "outputId": "f37d085b-917e-41c7-a89d-25fb9b040119"
   },
   "outputs": [
    {
     "data": {
      "text/plain": [
       "0"
      ]
     },
     "execution_count": 9,
     "metadata": {},
     "output_type": "execute_result"
    }
   ],
   "source": [
    "data.isnull().sum().sum()"
   ]
  },
  {
   "cell_type": "markdown",
   "id": "f3ca52df",
   "metadata": {
    "id": "f3ca52df"
   },
   "source": [
    "There are no null values"
   ]
  },
  {
   "cell_type": "markdown",
   "id": "1b558767",
   "metadata": {
    "id": "1b558767"
   },
   "source": [
    "## Check for duplicates"
   ]
  },
  {
   "cell_type": "code",
   "execution_count": null,
   "id": "37e0dad7",
   "metadata": {
    "id": "37e0dad7",
    "outputId": "66a81641-5dff-40ab-f429-9184cc141002"
   },
   "outputs": [
    {
     "data": {
      "text/plain": [
       "0"
      ]
     },
     "execution_count": 10,
     "metadata": {},
     "output_type": "execute_result"
    }
   ],
   "source": [
    "# print the same of duplicates\n",
    "data.duplicated().sum()"
   ]
  },
  {
   "cell_type": "markdown",
   "id": "92a07fc2",
   "metadata": {
    "id": "92a07fc2"
   },
   "source": [
    "There are no duplicates"
   ]
  },
  {
   "cell_type": "code",
   "execution_count": 4,
   "id": "01e112b5",
   "metadata": {
    "colab": {
     "base_uri": "https://localhost:8080/"
    },
    "id": "01e112b5",
    "outputId": "28175c8b-5eb7-456a-e331-e2f92d1710aa"
   },
   "outputs": [
    {
     "data": {
      "text/plain": [
       "(60000, 3)"
      ]
     },
     "execution_count": 4,
     "metadata": {},
     "output_type": "execute_result"
    }
   ],
   "source": [
    "data.shape"
   ]
  },
  {
   "cell_type": "code",
   "execution_count": null,
   "id": "adef7e34",
   "metadata": {
    "id": "adef7e34",
    "outputId": "a7f1b38f-5f6b-45a8-90bf-4916305e4b42"
   },
   "outputs": [
    {
     "name": "stdout",
     "output_type": "stream",
     "text": [
      "<class 'pandas.core.frame.DataFrame'>\n",
      "RangeIndex: 60000 entries, 0 to 59999\n",
      "Data columns (total 3 columns):\n",
      " #   Column  Non-Null Count  Dtype \n",
      "---  ------  --------------  ----- \n",
      " 0   id      60000 non-null  int64 \n",
      " 1   text    60000 non-null  object\n",
      " 2   label   60000 non-null  int64 \n",
      "dtypes: int64(2), object(1)\n",
      "memory usage: 1.4+ MB\n"
     ]
    }
   ],
   "source": [
    "data.info()"
   ]
  },
  {
   "cell_type": "markdown",
   "id": "b9375f72",
   "metadata": {
    "id": "b9375f72"
   },
   "source": [
    "## Check for Label Distribution"
   ]
  },
  {
   "cell_type": "code",
   "execution_count": null,
   "id": "1cd26ccd",
   "metadata": {
    "id": "1cd26ccd",
    "outputId": "0f717673-2f71-4b0a-b7a0-edb2d96920e6"
   },
   "outputs": [
    {
     "data": {
      "text/plain": [
       "0    32172\n",
       "1    27596\n",
       "2      232\n",
       "Name: label, dtype: int64"
      ]
     },
     "execution_count": 8,
     "metadata": {},
     "output_type": "execute_result"
    }
   ],
   "source": [
    "# display unique label values' counts\n",
    "data['label'].value_counts()"
   ]
  },
  {
   "cell_type": "code",
   "execution_count": 5,
   "id": "fbaf6694",
   "metadata": {
    "colab": {
     "base_uri": "https://localhost:8080/",
     "height": 442
    },
    "id": "fbaf6694",
    "outputId": "ac3b8304-72a7-4783-fbe0-60f9b5248fd4"
   },
   "outputs": [
    {
     "data": {
      "text/plain": [
       "<Axes: >"
      ]
     },
     "execution_count": 5,
     "metadata": {},
     "output_type": "execute_result"
    },
    {
     "data": {
      "image/png": "[encoded data removed]",
      "text/plain": [
       "<Figure size 640x480 with 1 Axes>"
      ]
     },
     "metadata": {},
     "output_type": "display_data"
    }
   ],
   "source": [
    "# Match distribution\n",
    "data['label'].value_counts().plot(kind='bar')"
   ]
  },
  {
   "cell_type": "markdown",
   "id": "a602bcc8",
   "metadata": {
    "id": "a602bcc8"
   },
   "source": [
    "The label values are 0 and 1 only, thus we'll remove all the rows with the label value 2"
   ]
  },
  {
   "cell_type": "code",
   "execution_count": 6,
   "id": "058aa1b8",
   "metadata": {
    "id": "058aa1b8"
   },
   "outputs": [],
   "source": [
    "data.drop(data[(data['label'] == 2)].index, inplace=True)"
   ]
  },
  {
   "cell_type": "code",
   "execution_count": 38,
   "id": "4dbd29d7",
   "metadata": {
    "colab": {
     "base_uri": "https://localhost:8080/"
    },
    "id": "4dbd29d7",
    "outputId": "52f6dea1-5547-416c-f22c-742b76bdb556"
   },
   "outputs": [
    {
     "data": {
      "text/plain": [
       "0    32172\n",
       "1    27596\n",
       "Name: label, dtype: int64"
      ]
     },
     "execution_count": 38,
     "metadata": {},
     "output_type": "execute_result"
    }
   ],
   "source": [
    "data['label'].value_counts()"
   ]
  },
  {
   "cell_type": "code",
   "execution_count": null,
   "id": "2f3c3cff",
   "metadata": {
    "id": "2f3c3cff",
    "outputId": "b6e8bff2-2576-4b94-9f41-be77629587a0",
    "scrolled": true
   },
   "outputs": [
    {
     "data": {
      "text/plain": [
       "<matplotlib.axes._subplots.AxesSubplot at 0x2459df156d0>"
      ]
     },
     "execution_count": 14,
     "metadata": {},
     "output_type": "execute_result"
    },
    {
     "data": {
      "image/png": "[encoded data removed]",
      "text/plain": [
       "<Figure size 432x288 with 1 Axes>"
      ]
     },
     "metadata": {
      "needs_background": "light"
     },
     "output_type": "display_data"
    }
   ],
   "source": [
    "# Match distribution\n",
    "data['label'].value_counts().plot(kind='bar')"
   ]
  },
  {
   "cell_type": "markdown",
   "id": "08ddb2d2",
   "metadata": {
    "id": "08ddb2d2"
   },
   "source": [
    "## Split Data from labels"
   ]
  },
  {
   "cell_type": "code",
   "execution_count": 39,
   "id": "3c758d47",
   "metadata": {
    "id": "3c758d47"
   },
   "outputs": [],
   "source": [
    "# remove all columns except rating (target column)\n",
    "X_train= data.drop(columns=['label', 'id'])\n",
    "\n",
    "# select only the target column \n",
    "y_train= data['label']"
   ]
  },
  {
   "cell_type": "code",
   "execution_count": 40,
   "id": "5551404c",
   "metadata": {
    "colab": {
     "base_uri": "https://localhost:8080/"
    },
    "id": "5551404c",
    "outputId": "d8620e26-f4ce-4bc1-bcb6-1fe7f42c8b41"
   },
   "outputs": [
    {
     "data": {
      "text/plain": [
       "((59768, 1), (59768,))"
      ]
     },
     "execution_count": 40,
     "metadata": {},
     "output_type": "execute_result"
    }
   ],
   "source": [
    "X_train.shape, y_train.shape"
   ]
  },
  {
   "cell_type": "code",
   "execution_count": 10,
   "id": "09851427",
   "metadata": {
    "colab": {
     "base_uri": "https://localhost:8080/",
     "height": 112
    },
    "id": "09851427",
    "outputId": "34794a20-6c67-43be-9012-d60b4810317e"
   },
   "outputs": [
    {
     "data": {
      "text/html": [
       "\n",
       "  <div id=\"df-d325a7c5-7fec-45f8-8f70-9b4a0a3ca333\">\n",
       "    <div class=\"colab-df-container\">\n",
       "      <div>\n",
       "<style scoped>\n",
       "    .dataframe tbody tr th:only-of-type {\n",
       "        vertical-align: middle;\n",
       "    }\n",
       "\n",
       "    .dataframe tbody tr th {\n",
       "        vertical-align: top;\n",
       "    }\n",
       "\n",
       "    .dataframe thead th {\n",
       "        text-align: right;\n",
       "    }\n",
       "</style>\n",
       "<table border=\"1\" class=\"dataframe\">\n",
       "  <thead>\n",
       "    <tr style=\"text-align: right;\">\n",
       "      <th></th>\n",
       "      <th>text</th>\n",
       "    </tr>\n",
       "  </thead>\n",
       "  <tbody>\n",
       "    <tr>\n",
       "      <th>0</th>\n",
       "      <td>A group of friends began to volunteer at a homeless shelter after their neighbors protested. \"Se...</td>\n",
       "    </tr>\n",
       "    <tr>\n",
       "      <th>1</th>\n",
       "      <td>British Prime Minister @Theresa_May on Nerve Attack on Former Russian Spy: \"The government has c...</td>\n",
       "    </tr>\n",
       "  </tbody>\n",
       "</table>\n",
       "</div>\n",
       "      <button class=\"colab-df-convert\" onclick=\"convertToInteractive('df-d325a7c5-7fec-45f8-8f70-9b4a0a3ca333')\"\n",
       "              title=\"Convert this dataframe to an interactive table.\"\n",
       "              style=\"display:none;\">\n",
       "        \n",
       "  <svg xmlns=\"http://www.w3.org/2000/svg\" height=\"24px\"viewBox=\"0 0 24 24\"\n",
       "       width=\"24px\">\n",
       "    <path d=\"M0 0h24v24H0V0z\" fill=\"none\"/>\n",
       "    <path d=\"M18.56 5.44l.94 2.06.94-2.06 2.06-.94-2.06-.94-.94-2.06-.94 2.06-2.06.94zm-11 1L8.5 8.5l.94-2.06 2.06-.94-2.06-.94L8.5 2.5l-.94 2.06-2.06.94zm10 10l.94 2.06.94-2.06 2.06-.94-2.06-.94-.94-2.06-.94 2.06-2.06.94z\"/><path d=\"M17.41 7.96l-1.37-1.37c-.4-.4-.92-.59-1.43-.59-.52 0-1.04.2-1.43.59L10.3 9.45l-7.72 7.72c-.78.78-.78 2.05 0 2.83L4 21.41c.39.39.9.59 1.41.59.51 0 1.02-.2 1.41-.59l7.78-7.78 2.81-2.81c.8-.78.8-2.07 0-2.86zM5.41 20L4 18.59l7.72-7.72 1.47 1.35L5.41 20z\"/>\n",
       "  </svg>\n",
       "      </button>\n",
       "      \n",
       "  <style>\n",
       "    .colab-df-container {\n",
       "      display:flex;\n",
       "      flex-wrap:wrap;\n",
       "      gap: 12px;\n",
       "    }\n",
       "\n",
       "    .colab-df-convert {\n",
       "      background-color: #E8F0FE;\n",
       "      border: none;\n",
       "      border-radius: 50%;\n",
       "      cursor: pointer;\n",
       "      display: none;\n",
       "      fill: #1967D2;\n",
       "      height: 32px;\n",
       "      padding: 0 0 0 0;\n",
       "      width: 32px;\n",
       "    }\n",
       "\n",
       "    .colab-df-convert:hover {\n",
       "      background-color: #E2EBFA;\n",
       "      box-shadow: 0px 1px 2px rgba(60, 64, 67, 0.3), 0px 1px 3px 1px rgba(60, 64, 67, 0.15);\n",
       "      fill: #174EA6;\n",
       "    }\n",
       "\n",
       "    [theme=dark] .colab-df-convert {\n",
       "      background-color: #3B4455;\n",
       "      fill: #D2E3FC;\n",
       "    }\n",
       "\n",
       "    [theme=dark] .colab-df-convert:hover {\n",
       "      background-color: #434B5C;\n",
       "      box-shadow: 0px 1px 3px 1px rgba(0, 0, 0, 0.15);\n",
       "      filter: drop-shadow(0px 1px 2px rgba(0, 0, 0, 0.3));\n",
       "      fill: #FFFFFF;\n",
       "    }\n",
       "  </style>\n",
       "\n",
       "      <script>\n",
       "        const buttonEl =\n",
       "          document.querySelector('#df-d325a7c5-7fec-45f8-8f70-9b4a0a3ca333 button.colab-df-convert');\n",
       "        buttonEl.style.display =\n",
       "          google.colab.kernel.accessAllowed ? 'block' : 'none';\n",
       "\n",
       "        async function convertToInteractive(key) {\n",
       "          const element = document.querySelector('#df-d325a7c5-7fec-45f8-8f70-9b4a0a3ca333');\n",
       "          const dataTable =\n",
       "            await google.colab.kernel.invokeFunction('convertToInteractive',\n",
       "                                                     [key], {});\n",
       "          if (!dataTable) return;\n",
       "\n",
       "          const docLinkHtml = 'Like what you see? Visit the ' +\n",
       "            '<a target=\"_blank\" href=https://colab.research.google.com/notebooks/data_table.ipynb>data table notebook</a>'\n",
       "            + ' to learn more about interactive tables.';\n",
       "          element.innerHTML = '';\n",
       "          dataTable['output_type'] = 'display_data';\n",
       "          await google.colab.output.renderOutput(dataTable, element);\n",
       "          const docLink = document.createElement('div');\n",
       "          docLink.innerHTML = docLinkHtml;\n",
       "          element.appendChild(docLink);\n",
       "        }\n",
       "      </script>\n",
       "    </div>\n",
       "  </div>\n",
       "  "
      ],
      "text/plain": [
       "                                                                                                  text\n",
       "0  A group of friends began to volunteer at a homeless shelter after their neighbors protested. \"Se...\n",
       "1  British Prime Minister @Theresa_May on Nerve Attack on Former Russian Spy: \"The government has c..."
      ]
     },
     "execution_count": 10,
     "metadata": {},
     "output_type": "execute_result"
    }
   ],
   "source": [
    "X_train.head(2)"
   ]
  },
  {
   "cell_type": "code",
   "execution_count": 11,
   "id": "990221e4",
   "metadata": {
    "colab": {
     "base_uri": "https://localhost:8080/"
    },
    "id": "990221e4",
    "outputId": "e053c448-510a-4196-a221-1608372d23f7"
   },
   "outputs": [
    {
     "data": {
      "text/plain": [
       "0    0\n",
       "1    0\n",
       "Name: label, dtype: int64"
      ]
     },
     "execution_count": 11,
     "metadata": {},
     "output_type": "execute_result"
    }
   ],
   "source": [
    "y_train.head(2)"
   ]
  },
  {
   "cell_type": "markdown",
   "id": "c77a6361",
   "metadata": {
    "id": "c77a6361"
   },
   "source": [
    "## Cleaning and pre processing"
   ]
  },
  {
   "cell_type": "markdown",
   "id": "2b4fc981",
   "metadata": {
    "id": "2b4fc981"
   },
   "source": [
    "## Trial 1\n",
    "Use pipeline with GridSearch, validation set and logistic regression model with word-level vectorizer. (word analzer)\n",
    "\n",
    "I expect it to get my high score because logistic regression is a good candidate to solve these kind of problems"
   ]
  },
  {
   "cell_type": "markdown",
   "id": "aa21e5a1",
   "metadata": {
    "id": "aa21e5a1"
   },
   "source": [
    "**Text clean**"
   ]
  },
  {
   "cell_type": "code",
   "execution_count": 12,
   "id": "aa584ed9",
   "metadata": {
    "colab": {
     "base_uri": "https://localhost:8080/"
    },
    "id": "aa584ed9",
    "outputId": "dc324b2e-7ea7-40bb-d38d-b6e36ef11553"
   },
   "outputs": [
    {
     "name": "stderr",
     "output_type": "stream",
     "text": [
      "[nltk_data] Downloading package punkt to /root/nltk_data...\n",
      "[nltk_data]   Unzipping tokenizers/punkt.zip.\n",
      "[nltk_data] Downloading package stopwords to /root/nltk_data...\n",
      "[nltk_data]   Unzipping corpora/stopwords.zip.\n"
     ]
    }
   ],
   "source": [
    "nltk.download('punkt')#download punkt pakages from nltk library\n",
    "nltk.download('stopwords')#download stopwords pakages from nltk library\n",
    "# A stop word is a commonly used word (such as “the”, “a”, “an”, “in”) that a search engine has been programmed to ignore\n",
    "stemmer = SnowballStemmer(language='english')\n",
    "stop_words = set(stopwords.words(\"english\"))"
   ]
  },
  {
   "cell_type": "code",
   "execution_count": 42,
   "id": "01d066bb",
   "metadata": {
    "id": "01d066bb"
   },
   "outputs": [],
   "source": [
    "def clean_text(text, for_embedding=True):  #will apply embedding \n",
    "    \"\"\" steps:\n",
    "        - remove any html tags (< /br> often found)\n",
    "        - Keep only ASCII + European Chars and whitespace, no digits\n",
    "        - remove single letter chars\n",
    "        - convert all whitespaces (tabs etc.) to single wspace\n",
    "        if not for embedding (but e.g. tdf-idf):\n",
    "        - all lowercase\n",
    "        - remove stopwords, punctuation and stemm\n",
    "    \"\"\"\n",
    "    RE_WSPACE = re.compile(r\"\\s+\", re.IGNORECASE)\n",
    "    RE_TAGS = re.compile(r\"<[^>]+>\")\n",
    "    RE_ASCII = re.compile(r\"[^A-Za-zÀ-ž ]\", re.IGNORECASE)\n",
    "    RE_SINGLECHAR = re.compile(r\"\\b[A-Za-zÀ-ž]\\b\", re.IGNORECASE)\n",
    "    if for_embedding:\n",
    "        # Keep punctuation\n",
    "        RE_ASCII = re.compile(r\"[^A-Za-zÀ-ž,.!? ]\", re.IGNORECASE)\n",
    "        RE_SINGLECHAR = re.compile(r\"\\b[A-Za-zÀ-ž,.!?]\\b\", re.IGNORECASE)\n",
    "\n",
    "    text = re.sub(RE_TAGS, \" \", text)\n",
    "    text = re.sub(RE_ASCII, \" \", text)\n",
    "    text = re.sub(RE_SINGLECHAR, \" \", text)\n",
    "    text = re.sub(RE_WSPACE, \" \", text)\n",
    "\n",
    "    word_tokens = word_tokenize(text)\n",
    "    words_tokens_lower = [word.lower() for word in word_tokens]\n",
    "\n",
    "    if for_embedding:\n",
    "        # no stemming, lowering and punctuation / stop words removal\n",
    "        words_filtered = word_tokens\n",
    "    else:\n",
    "        words_filtered = [\n",
    "            stemmer.stem(word) for word in words_tokens_lower if word not in stop_words\n",
    "        ]\n",
    "\n",
    "    text_clean = \" \".join(words_filtered)\n",
    "    return text_clean"
   ]
  },
  {
   "cell_type": "code",
   "execution_count": 43,
   "id": "be0eb9f0",
   "metadata": {
    "colab": {
     "base_uri": "https://localhost:8080/"
    },
    "id": "be0eb9f0",
    "outputId": "72bfa9e1-181b-43c4-8233-0225ce934f74",
    "scrolled": true
   },
   "outputs": [
    {
     "name": "stdout",
     "output_type": "stream",
     "text": [
      "CPU times: user 11.3 s, sys: 25 ms, total: 11.3 s\n",
      "Wall time: 11.3 s\n"
     ]
    }
   ],
   "source": [
    "%%time\n",
    "# Clean Comments\n",
    "X_train[\"text_clean\"] = X_train.loc[X_train[\"text\"].str.len() > 20, \"text\"]\n",
    "X_train[\"text_clean\"] = X_train[\"text_clean\"].map(\n",
    "    lambda x: clean_text(x, for_embedding=True) if isinstance(x, str) else x\n",
    ")"
   ]
  },
  {
   "cell_type": "code",
   "execution_count": 44,
   "id": "e65fa074",
   "metadata": {
    "colab": {
     "base_uri": "https://localhost:8080/",
     "height": 112
    },
    "id": "e65fa074",
    "outputId": "767b5ea6-2ee5-4c69-b396-db09aca7f541"
   },
   "outputs": [
    {
     "data": {
      "text/html": [
       "\n",
       "  <div id=\"df-b7f6e4f9-5c9c-4bea-9827-44b774fd92d5\">\n",
       "    <div class=\"colab-df-container\">\n",
       "      <div>\n",
       "<style scoped>\n",
       "    .dataframe tbody tr th:only-of-type {\n",
       "        vertical-align: middle;\n",
       "    }\n",
       "\n",
       "    .dataframe tbody tr th {\n",
       "        vertical-align: top;\n",
       "    }\n",
       "\n",
       "    .dataframe thead th {\n",
       "        text-align: right;\n",
       "    }\n",
       "</style>\n",
       "<table border=\"1\" class=\"dataframe\">\n",
       "  <thead>\n",
       "    <tr style=\"text-align: right;\">\n",
       "      <th></th>\n",
       "      <th>text</th>\n",
       "      <th>text_clean</th>\n",
       "    </tr>\n",
       "  </thead>\n",
       "  <tbody>\n",
       "    <tr>\n",
       "      <th>0</th>\n",
       "      <td>A group of friends began to volunteer at a homeless shelter after their neighbors protested. \"Se...</td>\n",
       "      <td>group of friends began to volunteer at homeless shelter after their neighbors protested . Seeing...</td>\n",
       "    </tr>\n",
       "    <tr>\n",
       "      <th>1</th>\n",
       "      <td>British Prime Minister @Theresa_May on Nerve Attack on Former Russian Spy: \"The government has c...</td>\n",
       "      <td>British Prime Minister Theresa May on Nerve Attack on Former Russian Spy The government has conc...</td>\n",
       "    </tr>\n",
       "  </tbody>\n",
       "</table>\n",
       "</div>\n",
       "      <button class=\"colab-df-convert\" onclick=\"convertToInteractive('df-b7f6e4f9-5c9c-4bea-9827-44b774fd92d5')\"\n",
       "              title=\"Convert this dataframe to an interactive table.\"\n",
       "              style=\"display:none;\">\n",
       "        \n",
       "  <svg xmlns=\"http://www.w3.org/2000/svg\" height=\"24px\"viewBox=\"0 0 24 24\"\n",
       "       width=\"24px\">\n",
       "    <path d=\"M0 0h24v24H0V0z\" fill=\"none\"/>\n",
       "    <path d=\"M18.56 5.44l.94 2.06.94-2.06 2.06-.94-2.06-.94-.94-2.06-.94 2.06-2.06.94zm-11 1L8.5 8.5l.94-2.06 2.06-.94-2.06-.94L8.5 2.5l-.94 2.06-2.06.94zm10 10l.94 2.06.94-2.06 2.06-.94-2.06-.94-.94-2.06-.94 2.06-2.06.94z\"/><path d=\"M17.41 7.96l-1.37-1.37c-.4-.4-.92-.59-1.43-.59-.52 0-1.04.2-1.43.59L10.3 9.45l-7.72 7.72c-.78.78-.78 2.05 0 2.83L4 21.41c.39.39.9.59 1.41.59.51 0 1.02-.2 1.41-.59l7.78-7.78 2.81-2.81c.8-.78.8-2.07 0-2.86zM5.41 20L4 18.59l7.72-7.72 1.47 1.35L5.41 20z\"/>\n",
       "  </svg>\n",
       "      </button>\n",
       "      \n",
       "  <style>\n",
       "    .colab-df-container {\n",
       "      display:flex;\n",
       "      flex-wrap:wrap;\n",
       "      gap: 12px;\n",
       "    }\n",
       "\n",
       "    .colab-df-convert {\n",
       "      background-color: #E8F0FE;\n",
       "      border: none;\n",
       "      border-radius: 50%;\n",
       "      cursor: pointer;\n",
       "      display: none;\n",
       "      fill: #1967D2;\n",
       "      height: 32px;\n",
       "      padding: 0 0 0 0;\n",
       "      width: 32px;\n",
       "    }\n",
       "\n",
       "    .colab-df-convert:hover {\n",
       "      background-color: #E2EBFA;\n",
       "      box-shadow: 0px 1px 2px rgba(60, 64, 67, 0.3), 0px 1px 3px 1px rgba(60, 64, 67, 0.15);\n",
       "      fill: #174EA6;\n",
       "    }\n",
       "\n",
       "    [theme=dark] .colab-df-convert {\n",
       "      background-color: #3B4455;\n",
       "      fill: #D2E3FC;\n",
       "    }\n",
       "\n",
       "    [theme=dark] .colab-df-convert:hover {\n",
       "      background-color: #434B5C;\n",
       "      box-shadow: 0px 1px 3px 1px rgba(0, 0, 0, 0.15);\n",
       "      filter: drop-shadow(0px 1px 2px rgba(0, 0, 0, 0.3));\n",
       "      fill: #FFFFFF;\n",
       "    }\n",
       "  </style>\n",
       "\n",
       "      <script>\n",
       "        const buttonEl =\n",
       "          document.querySelector('#df-b7f6e4f9-5c9c-4bea-9827-44b774fd92d5 button.colab-df-convert');\n",
       "        buttonEl.style.display =\n",
       "          google.colab.kernel.accessAllowed ? 'block' : 'none';\n",
       "\n",
       "        async function convertToInteractive(key) {\n",
       "          const element = document.querySelector('#df-b7f6e4f9-5c9c-4bea-9827-44b774fd92d5');\n",
       "          const dataTable =\n",
       "            await google.colab.kernel.invokeFunction('convertToInteractive',\n",
       "                                                     [key], {});\n",
       "          if (!dataTable) return;\n",
       "\n",
       "          const docLinkHtml = 'Like what you see? Visit the ' +\n",
       "            '<a target=\"_blank\" href=https://colab.research.google.com/notebooks/data_table.ipynb>data table notebook</a>'\n",
       "            + ' to learn more about interactive tables.';\n",
       "          element.innerHTML = '';\n",
       "          dataTable['output_type'] = 'display_data';\n",
       "          await google.colab.output.renderOutput(dataTable, element);\n",
       "          const docLink = document.createElement('div');\n",
       "          docLink.innerHTML = docLinkHtml;\n",
       "          element.appendChild(docLink);\n",
       "        }\n",
       "      </script>\n",
       "    </div>\n",
       "  </div>\n",
       "  "
      ],
      "text/plain": [
       "                                                                                                  text  \\\n",
       "0  A group of friends began to volunteer at a homeless shelter after their neighbors protested. \"Se...   \n",
       "1  British Prime Minister @Theresa_May on Nerve Attack on Former Russian Spy: \"The government has c...   \n",
       "\n",
       "                                                                                            text_clean  \n",
       "0  group of friends began to volunteer at homeless shelter after their neighbors protested . Seeing...  \n",
       "1  British Prime Minister Theresa May on Nerve Attack on Former Russian Spy The government has conc...  "
      ]
     },
     "execution_count": 44,
     "metadata": {},
     "output_type": "execute_result"
    }
   ],
   "source": [
    "X_train.head(2)"
   ]
  },
  {
   "cell_type": "code",
   "execution_count": 45,
   "id": "dd38ac40",
   "metadata": {
    "id": "dd38ac40"
   },
   "outputs": [],
   "source": [
    "X_train=X_train['text_clean']#define variable by new data that cleaned \n",
    "data_train = DataFrame(X_train)#just show data by dataframe"
   ]
  },
  {
   "cell_type": "markdown",
   "id": "e7b08495",
   "metadata": {
    "id": "e7b08495"
   },
   "source": [
    "### Feature creation with TF-IDF\n"
   ]
  },
  {
   "cell_type": "code",
   "execution_count": 17,
   "id": "d5f8498f",
   "metadata": {
    "colab": {
     "base_uri": "https://localhost:8080/",
     "height": 75
    },
    "id": "d5f8498f",
    "outputId": "1564f12a-2076-4e23-ad4d-f1f333b1051f"
   },
   "outputs": [
    {
     "data": {
      "text/html": [
       "<style>#sk-container-id-1 {color: black;background-color: white;}#sk-container-id-1 pre{padding: 0;}#sk-container-id-1 div.sk-toggleable {background-color: white;}#sk-container-id-1 label.sk-toggleable__label {cursor: pointer;display: block;width: 100%;margin-bottom: 0;padding: 0.3em;box-sizing: border-box;text-align: center;}#sk-container-id-1 label.sk-toggleable__label-arrow:before {content: \"▸\";float: left;margin-right: 0.25em;color: #696969;}#sk-container-id-1 label.sk-toggleable__label-arrow:hover:before {color: black;}#sk-container-id-1 div.sk-estimator:hover label.sk-toggleable__label-arrow:before {color: black;}#sk-container-id-1 div.sk-toggleable__content {max-height: 0;max-width: 0;overflow: hidden;text-align: left;background-color: #f0f8ff;}#sk-container-id-1 div.sk-toggleable__content pre {margin: 0.2em;color: black;border-radius: 0.25em;background-color: #f0f8ff;}#sk-container-id-1 input.sk-toggleable__control:checked~div.sk-toggleable__content {max-height: 200px;max-width: 100%;overflow: auto;}#sk-container-id-1 input.sk-toggleable__control:checked~label.sk-toggleable__label-arrow:before {content: \"▾\";}#sk-container-id-1 div.sk-estimator input.sk-toggleable__control:checked~label.sk-toggleable__label {background-color: #d4ebff;}#sk-container-id-1 div.sk-label input.sk-toggleable__control:checked~label.sk-toggleable__label {background-color: #d4ebff;}#sk-container-id-1 input.sk-hidden--visually {border: 0;clip: rect(1px 1px 1px 1px);clip: rect(1px, 1px, 1px, 1px);height: 1px;margin: -1px;overflow: hidden;padding: 0;position: absolute;width: 1px;}#sk-container-id-1 div.sk-estimator {font-family: monospace;background-color: #f0f8ff;border: 1px dotted black;border-radius: 0.25em;box-sizing: border-box;margin-bottom: 0.5em;}#sk-container-id-1 div.sk-estimator:hover {background-color: #d4ebff;}#sk-container-id-1 div.sk-parallel-item::after {content: \"\";width: 100%;border-bottom: 1px solid gray;flex-grow: 1;}#sk-container-id-1 div.sk-label:hover label.sk-toggleable__label {background-color: #d4ebff;}#sk-container-id-1 div.sk-serial::before {content: \"\";position: absolute;border-left: 1px solid gray;box-sizing: border-box;top: 0;bottom: 0;left: 50%;z-index: 0;}#sk-container-id-1 div.sk-serial {display: flex;flex-direction: column;align-items: center;background-color: white;padding-right: 0.2em;padding-left: 0.2em;position: relative;}#sk-container-id-1 div.sk-item {position: relative;z-index: 1;}#sk-container-id-1 div.sk-parallel {display: flex;align-items: stretch;justify-content: center;background-color: white;position: relative;}#sk-container-id-1 div.sk-item::before, #sk-container-id-1 div.sk-parallel-item::before {content: \"\";position: absolute;border-left: 1px solid gray;box-sizing: border-box;top: 0;bottom: 0;left: 50%;z-index: -1;}#sk-container-id-1 div.sk-parallel-item {display: flex;flex-direction: column;z-index: 1;position: relative;background-color: white;}#sk-container-id-1 div.sk-parallel-item:first-child::after {align-self: flex-end;width: 50%;}#sk-container-id-1 div.sk-parallel-item:last-child::after {align-self: flex-start;width: 50%;}#sk-container-id-1 div.sk-parallel-item:only-child::after {width: 0;}#sk-container-id-1 div.sk-dashed-wrapped {border: 1px dashed gray;margin: 0 0.4em 0.5em 0.4em;box-sizing: border-box;padding-bottom: 0.4em;background-color: white;}#sk-container-id-1 div.sk-label label {font-family: monospace;font-weight: bold;display: inline-block;line-height: 1.2em;}#sk-container-id-1 div.sk-label-container {text-align: center;}#sk-container-id-1 div.sk-container {/* jupyter's `normalize.less` sets `[hidden] { display: none; }` but bootstrap.min.css set `[hidden] { display: none !important; }` so we also need the `!important` here to be able to override the default hidden behavior on the sphinx rendered scikit-learn.org. See: https://github.com/scikit-learn/scikit-learn/issues/21755 */display: inline-block !important;position: relative;}#sk-container-id-1 div.sk-text-repr-fallback {display: none;}</style><div id=\"sk-container-id-1\" class=\"sk-top-container\"><div class=\"sk-text-repr-fallback\"><pre>TfidfVectorizer(max_df=0.3, min_df=10, ngram_range=(1, 2))</pre><b>In a Jupyter environment, please rerun this cell to show the HTML representation or trust the notebook. <br />On GitHub, the HTML representation is unable to render, please try loading this page with nbviewer.org.</b></div><div class=\"sk-container\" hidden><div class=\"sk-item\"><div class=\"sk-estimator sk-toggleable\"><input class=\"sk-toggleable__control sk-hidden--visually\" id=\"sk-estimator-id-1\" type=\"checkbox\" checked><label for=\"sk-estimator-id-1\" class=\"sk-toggleable__label sk-toggleable__label-arrow\">TfidfVectorizer</label><div class=\"sk-toggleable__content\"><pre>TfidfVectorizer(max_df=0.3, min_df=10, ngram_range=(1, 2))</pre></div></div></div></div></div>"
      ],
      "text/plain": [
       "TfidfVectorizer(max_df=0.3, min_df=10, ngram_range=(1, 2))"
      ]
     },
     "execution_count": 17,
     "metadata": {},
     "output_type": "execute_result"
    }
   ],
   "source": [
    "\"\"\"\n",
    "TF-IDF are word frequency scores that try to highlight words that are more interesting\n",
    "Compute unique word vector with frequencies\n",
    "exclude very uncommon (<10 obsv.) and common (>=30%) words\n",
    "use pairs of two words (ngram)\n",
    "\"\"\"\n",
    "vectorizer = TfidfVectorizer(\n",
    "    analyzer=\"word\", max_df=0.3, min_df=10, ngram_range=(1, 2), norm=\"l2\"\n",
    ")\n",
    "vectorizer.fit(X_train)"
   ]
  },
  {
   "cell_type": "code",
   "execution_count": 18,
   "id": "778cbfc6",
   "metadata": {
    "id": "778cbfc6"
   },
   "outputs": [],
   "source": [
    "X_train_transformed = vectorizer.transform(X_train)#apply transform"
   ]
  },
  {
   "cell_type": "code",
   "execution_count": 19,
   "id": "eda80796",
   "metadata": {
    "colab": {
     "base_uri": "https://localhost:8080/"
    },
    "id": "eda80796",
    "outputId": "159072a5-e428-4158-b487-ada0b8824c37"
   },
   "outputs": [
    {
     "name": "stdout",
     "output_type": "stream",
     "text": [
      "X_train_transformed (59768, 21026)\n",
      "y_train (59768,)\n"
     ]
    }
   ],
   "source": [
    "print('X_train_transformed', X_train_transformed.shape)\n",
    "print('y_train', y_train.shape)"
   ]
  },
  {
   "cell_type": "code",
   "execution_count": null,
   "id": "4e43c36e",
   "metadata": {
    "id": "4e43c36e",
    "outputId": "cec34ba0-b32e-49ce-d956-39bb0bc97f31"
   },
   "outputs": [
    {
     "name": "stdout",
     "output_type": "stream",
     "text": [
      "Unique word (ngram) vector extract:\n",
      "\n",
      " wipe              20467\n",
      "of medical        11879\n",
      "my grandfather    11148\n",
      "can someone        2715\n",
      "crop               3940\n",
      "dtype: int64\n"
     ]
    }
   ],
   "source": [
    "# Vector representation of vocabulary\n",
    "word_vector = pd.Series(vectorizer.vocabulary_).sample(5, random_state=1)\n",
    "print(f\"Unique word (ngram) vector extract:\\n\\n {word_vector}\")"
   ]
  },
  {
   "cell_type": "code",
   "execution_count": null,
   "id": "9deb6b97",
   "metadata": {
    "id": "9deb6b97",
    "outputId": "9590bfad-770e-46de-8c00-2ba28db9e1e7",
    "scrolled": true
   },
   "outputs": [
    {
     "name": "stdout",
     "output_type": "stream",
     "text": [
      "Fitting 5 folds for each of 40 candidates, totalling 200 fits\n",
      "Best_score = 0.8881015835980843\n",
      "Best_params = {'Log_reg__C': 1.3, 'Log_reg__class_weight': 'balanced', 'Log_reg__penalty': 'l2', 'Log_reg__solver': 'saga'}\n",
      "CPU times: total: 3.84 s\n",
      "Wall time: 2min 7s\n"
     ]
    }
   ],
   "source": [
    "%%time\n",
    "#use pipline and gridsearch to tuning hyperparameter \n",
    "pipe_Log_reg =  Pipeline([(\"Log_reg\", LogisticRegression())])\n",
    "params = {\n",
    "          'Log_reg__penalty': ['l2'], #l2 regularization\n",
    "          'Log_reg__C' : [0.6,0.9,1,1.3],#The parameter C is the the inverse of regularization strength in Logistic Regression\n",
    "          'Log_reg__class_weight': ['balanced',None],\n",
    "          'Log_reg__solver': ['newton-cg', 'lbfgs', 'liblinear', 'sag', 'saga']\n",
    "          }\n",
    "param_grid  = GridSearchCV(\n",
    "    pipe_Log_reg, params, cv=5, verbose=1, n_jobs=2, \n",
    "    scoring='roc_auc')\n",
    "#fit X_train and y_train\n",
    "param_grid.fit(X_train_transformed,y_train)\n",
    "#print best score\n",
    "print(f'Best_score = {param_grid.best_score_}')\n",
    "#print best Params\n",
    "print(f'Best_params = {param_grid.best_params_}')"
   ]
  },
  {
   "cell_type": "markdown",
   "id": "be0cf7b5",
   "metadata": {
    "id": "be0cf7b5"
   },
   "source": [
    "## Test"
   ]
  },
  {
   "cell_type": "code",
   "execution_count": 26,
   "id": "6a537ef5",
   "metadata": {
    "colab": {
     "base_uri": "https://localhost:8080/",
     "height": 112
    },
    "id": "6a537ef5",
    "outputId": "600b15a3-ed01-4bc1-ba9a-6a16ce0f064f"
   },
   "outputs": [
    {
     "data": {
      "text/html": [
       "\n",
       "  <div id=\"df-20c04c0c-a5bd-4320-86ed-bf6cda9cfdf0\">\n",
       "    <div class=\"colab-df-container\">\n",
       "      <div>\n",
       "<style scoped>\n",
       "    .dataframe tbody tr th:only-of-type {\n",
       "        vertical-align: middle;\n",
       "    }\n",
       "\n",
       "    .dataframe tbody tr th {\n",
       "        vertical-align: top;\n",
       "    }\n",
       "\n",
       "    .dataframe thead th {\n",
       "        text-align: right;\n",
       "    }\n",
       "</style>\n",
       "<table border=\"1\" class=\"dataframe\">\n",
       "  <thead>\n",
       "    <tr style=\"text-align: right;\">\n",
       "      <th></th>\n",
       "      <th>id</th>\n",
       "      <th>text</th>\n",
       "    </tr>\n",
       "  </thead>\n",
       "  <tbody>\n",
       "    <tr>\n",
       "      <th>0</th>\n",
       "      <td>0</td>\n",
       "      <td>stargazer</td>\n",
       "    </tr>\n",
       "    <tr>\n",
       "      <th>1</th>\n",
       "      <td>1</td>\n",
       "      <td>yeah</td>\n",
       "    </tr>\n",
       "  </tbody>\n",
       "</table>\n",
       "</div>\n",
       "      <button class=\"colab-df-convert\" onclick=\"convertToInteractive('df-20c04c0c-a5bd-4320-86ed-bf6cda9cfdf0')\"\n",
       "              title=\"Convert this dataframe to an interactive table.\"\n",
       "              style=\"display:none;\">\n",
       "        \n",
       "  <svg xmlns=\"http://www.w3.org/2000/svg\" height=\"24px\"viewBox=\"0 0 24 24\"\n",
       "       width=\"24px\">\n",
       "    <path d=\"M0 0h24v24H0V0z\" fill=\"none\"/>\n",
       "    <path d=\"M18.56 5.44l.94 2.06.94-2.06 2.06-.94-2.06-.94-.94-2.06-.94 2.06-2.06.94zm-11 1L8.5 8.5l.94-2.06 2.06-.94-2.06-.94L8.5 2.5l-.94 2.06-2.06.94zm10 10l.94 2.06.94-2.06 2.06-.94-2.06-.94-.94-2.06-.94 2.06-2.06.94z\"/><path d=\"M17.41 7.96l-1.37-1.37c-.4-.4-.92-.59-1.43-.59-.52 0-1.04.2-1.43.59L10.3 9.45l-7.72 7.72c-.78.78-.78 2.05 0 2.83L4 21.41c.39.39.9.59 1.41.59.51 0 1.02-.2 1.41-.59l7.78-7.78 2.81-2.81c.8-.78.8-2.07 0-2.86zM5.41 20L4 18.59l7.72-7.72 1.47 1.35L5.41 20z\"/>\n",
       "  </svg>\n",
       "      </button>\n",
       "      \n",
       "  <style>\n",
       "    .colab-df-container {\n",
       "      display:flex;\n",
       "      flex-wrap:wrap;\n",
       "      gap: 12px;\n",
       "    }\n",
       "\n",
       "    .colab-df-convert {\n",
       "      background-color: #E8F0FE;\n",
       "      border: none;\n",
       "      border-radius: 50%;\n",
       "      cursor: pointer;\n",
       "      display: none;\n",
       "      fill: #1967D2;\n",
       "      height: 32px;\n",
       "      padding: 0 0 0 0;\n",
       "      width: 32px;\n",
       "    }\n",
       "\n",
       "    .colab-df-convert:hover {\n",
       "      background-color: #E2EBFA;\n",
       "      box-shadow: 0px 1px 2px rgba(60, 64, 67, 0.3), 0px 1px 3px 1px rgba(60, 64, 67, 0.15);\n",
       "      fill: #174EA6;\n",
       "    }\n",
       "\n",
       "    [theme=dark] .colab-df-convert {\n",
       "      background-color: #3B4455;\n",
       "      fill: #D2E3FC;\n",
       "    }\n",
       "\n",
       "    [theme=dark] .colab-df-convert:hover {\n",
       "      background-color: #434B5C;\n",
       "      box-shadow: 0px 1px 3px 1px rgba(0, 0, 0, 0.15);\n",
       "      filter: drop-shadow(0px 1px 2px rgba(0, 0, 0, 0.3));\n",
       "      fill: #FFFFFF;\n",
       "    }\n",
       "  </style>\n",
       "\n",
       "      <script>\n",
       "        const buttonEl =\n",
       "          document.querySelector('#df-20c04c0c-a5bd-4320-86ed-bf6cda9cfdf0 button.colab-df-convert');\n",
       "        buttonEl.style.display =\n",
       "          google.colab.kernel.accessAllowed ? 'block' : 'none';\n",
       "\n",
       "        async function convertToInteractive(key) {\n",
       "          const element = document.querySelector('#df-20c04c0c-a5bd-4320-86ed-bf6cda9cfdf0');\n",
       "          const dataTable =\n",
       "            await google.colab.kernel.invokeFunction('convertToInteractive',\n",
       "                                                     [key], {});\n",
       "          if (!dataTable) return;\n",
       "\n",
       "          const docLinkHtml = 'Like what you see? Visit the ' +\n",
       "            '<a target=\"_blank\" href=https://colab.research.google.com/notebooks/data_table.ipynb>data table notebook</a>'\n",
       "            + ' to learn more about interactive tables.';\n",
       "          element.innerHTML = '';\n",
       "          dataTable['output_type'] = 'display_data';\n",
       "          await google.colab.output.renderOutput(dataTable, element);\n",
       "          const docLink = document.createElement('div');\n",
       "          docLink.innerHTML = docLinkHtml;\n",
       "          element.appendChild(docLink);\n",
       "        }\n",
       "      </script>\n",
       "    </div>\n",
       "  </div>\n",
       "  "
      ],
      "text/plain": [
       "   id        text\n",
       "0   0  stargazer \n",
       "1   1        yeah"
      ]
     },
     "execution_count": 26,
     "metadata": {},
     "output_type": "execute_result"
    }
   ],
   "source": [
    "df = pd.read_csv(\"/content/x_test.csv\")\n",
    "df.head(2)"
   ]
  },
  {
   "cell_type": "code",
   "execution_count": 27,
   "id": "e84fea43",
   "metadata": {
    "id": "e84fea43"
   },
   "outputs": [],
   "source": [
    "data_test=df.copy()#copy data from original file \n",
    "data_test=data_test.drop(['id'],axis=1)#drop id columns "
   ]
  },
  {
   "cell_type": "code",
   "execution_count": 28,
   "id": "e1926432",
   "metadata": {
    "colab": {
     "base_uri": "https://localhost:8080/"
    },
    "id": "e1926432",
    "outputId": "d3bed02b-6104-4412-ccd5-2753b09827f2",
    "scrolled": true
   },
   "outputs": [
    {
     "name": "stdout",
     "output_type": "stream",
     "text": [
      "CPU times: user 6.99 s, sys: 13.4 ms, total: 7 s\n",
      "Wall time: 7.08 s\n"
     ]
    }
   ],
   "source": [
    "%%time\n",
    "# Clean Comments\n",
    "data_test[\"text_clean\"] = data_test.loc[data_test[\"text\"].str.len() > 0, \"text\"]\n",
    "data_test[\"text_clean\"] = data_test[\"text_clean\"].map(\n",
    "    lambda x: clean_text(x, for_embedding=True) if isinstance(x, str) else x\n",
    ")"
   ]
  },
  {
   "cell_type": "code",
   "execution_count": 29,
   "id": "c10962b1",
   "metadata": {
    "colab": {
     "base_uri": "https://localhost:8080/",
     "height": 424
    },
    "id": "c10962b1",
    "outputId": "9010bd93-6f32-498f-c5c5-daad2fb49c53"
   },
   "outputs": [
    {
     "data": {
      "text/html": [
       "\n",
       "  <div id=\"df-c820666b-5b86-4323-bfdb-6028cde4c1d4\">\n",
       "    <div class=\"colab-df-container\">\n",
       "      <div>\n",
       "<style scoped>\n",
       "    .dataframe tbody tr th:only-of-type {\n",
       "        vertical-align: middle;\n",
       "    }\n",
       "\n",
       "    .dataframe tbody tr th {\n",
       "        vertical-align: top;\n",
       "    }\n",
       "\n",
       "    .dataframe thead th {\n",
       "        text-align: right;\n",
       "    }\n",
       "</style>\n",
       "<table border=\"1\" class=\"dataframe\">\n",
       "  <thead>\n",
       "    <tr style=\"text-align: right;\">\n",
       "      <th></th>\n",
       "      <th>text_clean</th>\n",
       "    </tr>\n",
       "  </thead>\n",
       "  <tbody>\n",
       "    <tr>\n",
       "      <th>0</th>\n",
       "      <td>stargazer</td>\n",
       "    </tr>\n",
       "    <tr>\n",
       "      <th>1</th>\n",
       "      <td>yeah</td>\n",
       "    </tr>\n",
       "    <tr>\n",
       "      <th>2</th>\n",
       "      <td>PD Phoenix car thief gets instructions from YouTube video</td>\n",
       "    </tr>\n",
       "    <tr>\n",
       "      <th>3</th>\n",
       "      <td>As Trump Accuses Iran , He Has One Problem His Own Credibility</td>\n",
       "    </tr>\n",
       "    <tr>\n",
       "      <th>4</th>\n",
       "      <td>Believers Hezbollah</td>\n",
       "    </tr>\n",
       "    <tr>\n",
       "      <th>...</th>\n",
       "      <td>...</td>\n",
       "    </tr>\n",
       "    <tr>\n",
       "      <th>59146</th>\n",
       "      <td>Bicycle taxi drivers of New Delhi</td>\n",
       "    </tr>\n",
       "    <tr>\n",
       "      <th>59147</th>\n",
       "      <td>Trump blows up GOP formula for winning House races</td>\n",
       "    </tr>\n",
       "    <tr>\n",
       "      <th>59148</th>\n",
       "      <td>Napoleon returns from his exile on the island of Elba . March , Colourised</td>\n",
       "    </tr>\n",
       "    <tr>\n",
       "      <th>59149</th>\n",
       "      <td>Deep down he always wanted to be ballet dancer</td>\n",
       "    </tr>\n",
       "    <tr>\n",
       "      <th>59150</th>\n",
       "      <td>Toddler miraculously survives story fall landing on car</td>\n",
       "    </tr>\n",
       "  </tbody>\n",
       "</table>\n",
       "<p>59151 rows × 1 columns</p>\n",
       "</div>\n",
       "      <button class=\"colab-df-convert\" onclick=\"convertToInteractive('df-c820666b-5b86-4323-bfdb-6028cde4c1d4')\"\n",
       "              title=\"Convert this dataframe to an interactive table.\"\n",
       "              style=\"display:none;\">\n",
       "        \n",
       "  <svg xmlns=\"http://www.w3.org/2000/svg\" height=\"24px\"viewBox=\"0 0 24 24\"\n",
       "       width=\"24px\">\n",
       "    <path d=\"M0 0h24v24H0V0z\" fill=\"none\"/>\n",
       "    <path d=\"M18.56 5.44l.94 2.06.94-2.06 2.06-.94-2.06-.94-.94-2.06-.94 2.06-2.06.94zm-11 1L8.5 8.5l.94-2.06 2.06-.94-2.06-.94L8.5 2.5l-.94 2.06-2.06.94zm10 10l.94 2.06.94-2.06 2.06-.94-2.06-.94-.94-2.06-.94 2.06-2.06.94z\"/><path d=\"M17.41 7.96l-1.37-1.37c-.4-.4-.92-.59-1.43-.59-.52 0-1.04.2-1.43.59L10.3 9.45l-7.72 7.72c-.78.78-.78 2.05 0 2.83L4 21.41c.39.39.9.59 1.41.59.51 0 1.02-.2 1.41-.59l7.78-7.78 2.81-2.81c.8-.78.8-2.07 0-2.86zM5.41 20L4 18.59l7.72-7.72 1.47 1.35L5.41 20z\"/>\n",
       "  </svg>\n",
       "      </button>\n",
       "      \n",
       "  <style>\n",
       "    .colab-df-container {\n",
       "      display:flex;\n",
       "      flex-wrap:wrap;\n",
       "      gap: 12px;\n",
       "    }\n",
       "\n",
       "    .colab-df-convert {\n",
       "      background-color: #E8F0FE;\n",
       "      border: none;\n",
       "      border-radius: 50%;\n",
       "      cursor: pointer;\n",
       "      display: none;\n",
       "      fill: #1967D2;\n",
       "      height: 32px;\n",
       "      padding: 0 0 0 0;\n",
       "      width: 32px;\n",
       "    }\n",
       "\n",
       "    .colab-df-convert:hover {\n",
       "      background-color: #E2EBFA;\n",
       "      box-shadow: 0px 1px 2px rgba(60, 64, 67, 0.3), 0px 1px 3px 1px rgba(60, 64, 67, 0.15);\n",
       "      fill: #174EA6;\n",
       "    }\n",
       "\n",
       "    [theme=dark] .colab-df-convert {\n",
       "      background-color: #3B4455;\n",
       "      fill: #D2E3FC;\n",
       "    }\n",
       "\n",
       "    [theme=dark] .colab-df-convert:hover {\n",
       "      background-color: #434B5C;\n",
       "      box-shadow: 0px 1px 3px 1px rgba(0, 0, 0, 0.15);\n",
       "      filter: drop-shadow(0px 1px 2px rgba(0, 0, 0, 0.3));\n",
       "      fill: #FFFFFF;\n",
       "    }\n",
       "  </style>\n",
       "\n",
       "      <script>\n",
       "        const buttonEl =\n",
       "          document.querySelector('#df-c820666b-5b86-4323-bfdb-6028cde4c1d4 button.colab-df-convert');\n",
       "        buttonEl.style.display =\n",
       "          google.colab.kernel.accessAllowed ? 'block' : 'none';\n",
       "\n",
       "        async function convertToInteractive(key) {\n",
       "          const element = document.querySelector('#df-c820666b-5b86-4323-bfdb-6028cde4c1d4');\n",
       "          const dataTable =\n",
       "            await google.colab.kernel.invokeFunction('convertToInteractive',\n",
       "                                                     [key], {});\n",
       "          if (!dataTable) return;\n",
       "\n",
       "          const docLinkHtml = 'Like what you see? Visit the ' +\n",
       "            '<a target=\"_blank\" href=https://colab.research.google.com/notebooks/data_table.ipynb>data table notebook</a>'\n",
       "            + ' to learn more about interactive tables.';\n",
       "          element.innerHTML = '';\n",
       "          dataTable['output_type'] = 'display_data';\n",
       "          await google.colab.output.renderOutput(dataTable, element);\n",
       "          const docLink = document.createElement('div');\n",
       "          docLink.innerHTML = docLinkHtml;\n",
       "          element.appendChild(docLink);\n",
       "        }\n",
       "      </script>\n",
       "    </div>\n",
       "  </div>\n",
       "  "
      ],
      "text/plain": [
       "                                                                       text_clean\n",
       "0                                                                       stargazer\n",
       "1                                                                            yeah\n",
       "2                       PD Phoenix car thief gets instructions from YouTube video\n",
       "3                  As Trump Accuses Iran , He Has One Problem His Own Credibility\n",
       "4                                                             Believers Hezbollah\n",
       "...                                                                           ...\n",
       "59146                                           Bicycle taxi drivers of New Delhi\n",
       "59147                          Trump blows up GOP formula for winning House races\n",
       "59148  Napoleon returns from his exile on the island of Elba . March , Colourised\n",
       "59149                              Deep down he always wanted to be ballet dancer\n",
       "59150                     Toddler miraculously survives story fall landing on car\n",
       "\n",
       "[59151 rows x 1 columns]"
      ]
     },
     "execution_count": 29,
     "metadata": {},
     "output_type": "execute_result"
    }
   ],
   "source": [
    "X_test=data_test['text_clean']#assign the new data to variable\n",
    "DataFrame(X_test)#just show the data "
   ]
  },
  {
   "cell_type": "markdown",
   "id": "48284015",
   "metadata": {
    "id": "48284015"
   },
   "source": [
    "## Test data to submit"
   ]
  },
  {
   "cell_type": "code",
   "execution_count": 30,
   "id": "bf21574a",
   "metadata": {
    "id": "bf21574a",
    "scrolled": true
   },
   "outputs": [],
   "source": [
    "X_test_transformed = vectorizer.transform(X_test)#apply vectorization on test data "
   ]
  },
  {
   "cell_type": "code",
   "execution_count": 31,
   "id": "1af5a659",
   "metadata": {
    "colab": {
     "base_uri": "https://localhost:8080/"
    },
    "id": "1af5a659",
    "outputId": "202a0d41-e956-42a1-d703-a0cf16ad8c41"
   },
   "outputs": [
    {
     "name": "stdout",
     "output_type": "stream",
     "text": [
      "X_test_transformed (59151, 21026)\n"
     ]
    }
   ],
   "source": [
    "print('X_test_transformed', X_test_transformed.shape)#check shape of test data "
   ]
  },
  {
   "cell_type": "code",
   "execution_count": null,
   "id": "ffeb2890",
   "metadata": {
    "id": "ffeb2890"
   },
   "outputs": [],
   "source": [
    "y_pred = param_grid.predict_proba(X_test_transformed)#predict yhat"
   ]
  },
  {
   "cell_type": "code",
   "execution_count": null,
   "id": "cc4cfe44",
   "metadata": {
    "id": "cc4cfe44"
   },
   "outputs": [],
   "source": [
    "submission = pd.DataFrame()\n",
    "\n",
    "submission['id'] = df['id']\n",
    "\n",
    "submission['label'] = y_pred[:,1]\n",
    "\n",
    "submission.to_csv('1submission.csv', index=False)"
   ]
  },
  {
   "cell_type": "markdown",
   "id": "317802cf",
   "metadata": {
    "id": "317802cf"
   },
   "source": [
    "## Observation:\n",
    "\n",
    "In Trial 1 we used The Logistic Regression model with Grid Search .\n",
    "\n",
    "Best_score from Grid Search = 0.8881011444182029\n",
    "\n",
    "Best_params = {'Log_reg__C': 1.3, 'Log_reg__class_weight': 'balanced', 'Log_reg__penalty': 'l2', 'Log_reg__solver': 'liblinear'}\n",
    "\n",
    "Also i cleaned the data and removed stopword, used TfidfVectorizer analyzer word, And I applied for_embedding=True\n",
    "\n",
    "Public Score on kaggle : 0.8564\n",
    "\n",
    "AS i ecpected it got me a very good score."
   ]
  },
  {
   "cell_type": "markdown",
   "id": "3a3d6ea0",
   "metadata": {
    "id": "3a3d6ea0"
   },
   "source": [
    "************************"
   ]
  },
  {
   "cell_type": "markdown",
   "id": "e12175c3",
   "metadata": {
    "id": "e12175c3"
   },
   "source": [
    "## Trial 2\n",
    "Use the same technique word analyzer (TF-IDF) with xgboost and Grid Search with cross validation\n",
    "\n",
    "I expect it to gor me a good score too because xgboost is a very good model to solve machine learning problems"
   ]
  },
  {
   "cell_type": "code",
   "execution_count": null,
   "id": "7a6ced90",
   "metadata": {
    "id": "7a6ced90",
    "outputId": "b733fe85-2ff6-48be-e0f4-28d53058adb5",
    "scrolled": true
   },
   "outputs": [
    {
     "data": {
      "text/html": [
       "<style>#sk-container-id-2 {color: black;background-color: white;}#sk-container-id-2 pre{padding: 0;}#sk-container-id-2 div.sk-toggleable {background-color: white;}#sk-container-id-2 label.sk-toggleable__label {cursor: pointer;display: block;width: 100%;margin-bottom: 0;padding: 0.3em;box-sizing: border-box;text-align: center;}#sk-container-id-2 label.sk-toggleable__label-arrow:before {content: \"▸\";float: left;margin-right: 0.25em;color: #696969;}#sk-container-id-2 label.sk-toggleable__label-arrow:hover:before {color: black;}#sk-container-id-2 div.sk-estimator:hover label.sk-toggleable__label-arrow:before {color: black;}#sk-container-id-2 div.sk-toggleable__content {max-height: 0;max-width: 0;overflow: hidden;text-align: left;background-color: #f0f8ff;}#sk-container-id-2 div.sk-toggleable__content pre {margin: 0.2em;color: black;border-radius: 0.25em;background-color: #f0f8ff;}#sk-container-id-2 input.sk-toggleable__control:checked~div.sk-toggleable__content {max-height: 200px;max-width: 100%;overflow: auto;}#sk-container-id-2 input.sk-toggleable__control:checked~label.sk-toggleable__label-arrow:before {content: \"▾\";}#sk-container-id-2 div.sk-estimator input.sk-toggleable__control:checked~label.sk-toggleable__label {background-color: #d4ebff;}#sk-container-id-2 div.sk-label input.sk-toggleable__control:checked~label.sk-toggleable__label {background-color: #d4ebff;}#sk-container-id-2 input.sk-hidden--visually {border: 0;clip: rect(1px 1px 1px 1px);clip: rect(1px, 1px, 1px, 1px);height: 1px;margin: -1px;overflow: hidden;padding: 0;position: absolute;width: 1px;}#sk-container-id-2 div.sk-estimator {font-family: monospace;background-color: #f0f8ff;border: 1px dotted black;border-radius: 0.25em;box-sizing: border-box;margin-bottom: 0.5em;}#sk-container-id-2 div.sk-estimator:hover {background-color: #d4ebff;}#sk-container-id-2 div.sk-parallel-item::after {content: \"\";width: 100%;border-bottom: 1px solid gray;flex-grow: 1;}#sk-container-id-2 div.sk-label:hover label.sk-toggleable__label {background-color: #d4ebff;}#sk-container-id-2 div.sk-serial::before {content: \"\";position: absolute;border-left: 1px solid gray;box-sizing: border-box;top: 0;bottom: 0;left: 50%;z-index: 0;}#sk-container-id-2 div.sk-serial {display: flex;flex-direction: column;align-items: center;background-color: white;padding-right: 0.2em;padding-left: 0.2em;position: relative;}#sk-container-id-2 div.sk-item {position: relative;z-index: 1;}#sk-container-id-2 div.sk-parallel {display: flex;align-items: stretch;justify-content: center;background-color: white;position: relative;}#sk-container-id-2 div.sk-item::before, #sk-container-id-2 div.sk-parallel-item::before {content: \"\";position: absolute;border-left: 1px solid gray;box-sizing: border-box;top: 0;bottom: 0;left: 50%;z-index: -1;}#sk-container-id-2 div.sk-parallel-item {display: flex;flex-direction: column;z-index: 1;position: relative;background-color: white;}#sk-container-id-2 div.sk-parallel-item:first-child::after {align-self: flex-end;width: 50%;}#sk-container-id-2 div.sk-parallel-item:last-child::after {align-self: flex-start;width: 50%;}#sk-container-id-2 div.sk-parallel-item:only-child::after {width: 0;}#sk-container-id-2 div.sk-dashed-wrapped {border: 1px dashed gray;margin: 0 0.4em 0.5em 0.4em;box-sizing: border-box;padding-bottom: 0.4em;background-color: white;}#sk-container-id-2 div.sk-label label {font-family: monospace;font-weight: bold;display: inline-block;line-height: 1.2em;}#sk-container-id-2 div.sk-label-container {text-align: center;}#sk-container-id-2 div.sk-container {/* jupyter's `normalize.less` sets `[hidden] { display: none; }` but bootstrap.min.css set `[hidden] { display: none !important; }` so we also need the `!important` here to be able to override the default hidden behavior on the sphinx rendered scikit-learn.org. See: https://github.com/scikit-learn/scikit-learn/issues/21755 */display: inline-block !important;position: relative;}#sk-container-id-2 div.sk-text-repr-fallback {display: none;}</style><div id=\"sk-container-id-2\" class=\"sk-top-container\"><div class=\"sk-text-repr-fallback\"><pre>Pipeline(steps=[(&#x27;my_classifier&#x27;,\n",
       "                 XGBClassifier(base_score=None, booster=None, callbacks=None,\n",
       "                               colsample_bylevel=None, colsample_bynode=None,\n",
       "                               colsample_bytree=0.4, early_stopping_rounds=None,\n",
       "                               enable_categorical=False, eval_metric=None,\n",
       "                               feature_types=None, gamma=None, gpu_id=None,\n",
       "                               grow_policy=None, importance_type=None,\n",
       "                               interaction_constraints=None, learning_rate=0.02,\n",
       "                               max_bin=None, max_cat_threshold=None,\n",
       "                               max_cat_to_onehot=None, max_delta_step=None,\n",
       "                               max_depth=11, max_leaves=None,\n",
       "                               min_child_weight=None, missing=nan,\n",
       "                               monotone_constraints=None, n_estimators=900,\n",
       "                               n_jobs=None, num_parallel_tree=None,\n",
       "                               predictor=None, random_state=None, ...))])</pre><b>In a Jupyter environment, please rerun this cell to show the HTML representation or trust the notebook. <br />On GitHub, the HTML representation is unable to render, please try loading this page with nbviewer.org.</b></div><div class=\"sk-container\" hidden><div class=\"sk-item sk-dashed-wrapped\"><div class=\"sk-label-container\"><div class=\"sk-label sk-toggleable\"><input class=\"sk-toggleable__control sk-hidden--visually\" id=\"sk-estimator-id-2\" type=\"checkbox\" ><label for=\"sk-estimator-id-2\" class=\"sk-toggleable__label sk-toggleable__label-arrow\">Pipeline</label><div class=\"sk-toggleable__content\"><pre>Pipeline(steps=[(&#x27;my_classifier&#x27;,\n",
       "                 XGBClassifier(base_score=None, booster=None, callbacks=None,\n",
       "                               colsample_bylevel=None, colsample_bynode=None,\n",
       "                               colsample_bytree=0.4, early_stopping_rounds=None,\n",
       "                               enable_categorical=False, eval_metric=None,\n",
       "                               feature_types=None, gamma=None, gpu_id=None,\n",
       "                               grow_policy=None, importance_type=None,\n",
       "                               interaction_constraints=None, learning_rate=0.02,\n",
       "                               max_bin=None, max_cat_threshold=None,\n",
       "                               max_cat_to_onehot=None, max_delta_step=None,\n",
       "                               max_depth=11, max_leaves=None,\n",
       "                               min_child_weight=None, missing=nan,\n",
       "                               monotone_constraints=None, n_estimators=900,\n",
       "                               n_jobs=None, num_parallel_tree=None,\n",
       "                               predictor=None, random_state=None, ...))])</pre></div></div></div><div class=\"sk-serial\"><div class=\"sk-item\"><div class=\"sk-estimator sk-toggleable\"><input class=\"sk-toggleable__control sk-hidden--visually\" id=\"sk-estimator-id-3\" type=\"checkbox\" ><label for=\"sk-estimator-id-3\" class=\"sk-toggleable__label sk-toggleable__label-arrow\">XGBClassifier</label><div class=\"sk-toggleable__content\"><pre>XGBClassifier(base_score=None, booster=None, callbacks=None,\n",
       "              colsample_bylevel=None, colsample_bynode=None,\n",
       "              colsample_bytree=0.4, early_stopping_rounds=None,\n",
       "              enable_categorical=False, eval_metric=None, feature_types=None,\n",
       "              gamma=None, gpu_id=None, grow_policy=None, importance_type=None,\n",
       "              interaction_constraints=None, learning_rate=0.02, max_bin=None,\n",
       "              max_cat_threshold=None, max_cat_to_onehot=None,\n",
       "              max_delta_step=None, max_depth=11, max_leaves=None,\n",
       "              min_child_weight=None, missing=nan, monotone_constraints=None,\n",
       "              n_estimators=900, n_jobs=None, num_parallel_tree=None,\n",
       "              predictor=None, random_state=None, ...)</pre></div></div></div></div></div></div></div>"
      ],
      "text/plain": [
       "Pipeline(steps=[('my_classifier',\n",
       "                 XGBClassifier(base_score=None, booster=None, callbacks=None,\n",
       "                               colsample_bylevel=None, colsample_bynode=None,\n",
       "                               colsample_bytree=0.4, early_stopping_rounds=None,\n",
       "                               enable_categorical=False, eval_metric=None,\n",
       "                               feature_types=None, gamma=None, gpu_id=None,\n",
       "                               grow_policy=None, importance_type=None,\n",
       "                               interaction_constraints=None, learning_rate=0.02,\n",
       "                               max_bin=None, max_cat_threshold=None,\n",
       "                               max_cat_to_onehot=None, max_delta_step=None,\n",
       "                               max_depth=11, max_leaves=None,\n",
       "                               min_child_weight=None, missing=nan,\n",
       "                               monotone_constraints=None, n_estimators=900,\n",
       "                               n_jobs=None, num_parallel_tree=None,\n",
       "                               predictor=None, random_state=None, ...))])"
      ]
     },
     "execution_count": 37,
     "metadata": {},
     "output_type": "execute_result"
    }
   ],
   "source": [
    "xgb = XGBClassifier(scale_pos_weight=1, \n",
    "                      colsample_bytree = 0.4,\n",
    "                      learning_rate=0.02,\n",
    "                       max_depth=11,\n",
    "                      n_estimators=900,\n",
    "                      subsample = 0.8,\n",
    "                      objective='binary:logistic', \n",
    "                      reg_alpha = 0.3,\n",
    "                    )\n",
    "full_pipline1 = Pipeline(\n",
    "    steps=[\n",
    "        ('my_classifier', xgb,)\n",
    "    ]\n",
    ")\n",
    "full_pipline1"
   ]
  },
  {
   "cell_type": "code",
   "execution_count": null,
   "id": "71c96e3f",
   "metadata": {
    "id": "71c96e3f"
   },
   "outputs": [],
   "source": [
    "full_pipline1 = full_pipline1.fit(X_train_transformed,y_train)    "
   ]
  },
  {
   "cell_type": "code",
   "execution_count": null,
   "id": "8cfd0046",
   "metadata": {
    "id": "8cfd0046",
    "outputId": "8d84f83c-c7fd-4b9d-d594-6f9f9d990f83",
    "scrolled": true
   },
   "outputs": [
    {
     "name": "stdout",
     "output_type": "stream",
     "text": [
      "Fitting 10 folds for each of 4 candidates, totalling 40 fits\n",
      "best score 0.8603125418671764\n",
      "best score {'my_classifier__max_depth': 11, 'my_classifier__n_estimators': 900}\n"
     ]
    }
   ],
   "source": [
    "# here we specify the search space\n",
    "param_grid = {\n",
    "      'my_classifier__n_estimators': [700,900],     \n",
    "       'my_classifier__max_depth':[8,11] ,\n",
    "     \n",
    "}\n",
    "# cv=10 means ten-fold cross-validation\n",
    "\n",
    "grid_search = GridSearchCV(\n",
    "    full_pipline1, param_grid, cv=5, verbose=1, n_jobs=2, \n",
    "    scoring='roc_auc')\n",
    "\n",
    "grid_search.fit(X_train_transformed, y_train)\n",
    "print('best score {}'.format(grid_search.best_score_))\n",
    "print('best score {}'.format(grid_search.best_params_))"
   ]
  },
  {
   "cell_type": "markdown",
   "id": "4267eea7",
   "metadata": {
    "id": "4267eea7"
   },
   "source": [
    "## Test data to Submit"
   ]
  },
  {
   "cell_type": "code",
   "execution_count": null,
   "id": "0d0f20fc",
   "metadata": {
    "id": "0d0f20fc",
    "outputId": "b1c17f00-a23f-4d7a-a41b-ba7c5dd8cd8d"
   },
   "outputs": [
    {
     "name": "stdout",
     "output_type": "stream",
     "text": [
      "X_test_transformed (59151, 21026)\n"
     ]
    }
   ],
   "source": [
    "print('X_test_transformed', X_test_transformed.shape)#check shape of test data "
   ]
  },
  {
   "cell_type": "code",
   "execution_count": null,
   "id": "02625db3",
   "metadata": {
    "id": "02625db3"
   },
   "outputs": [],
   "source": [
    "y_pred = grid_search.predict_proba(X_test_transformed)#predict yhat\n",
    "\n",
    "submission = pd.DataFrame()\n",
    "\n",
    "submission['id'] = df['id']\n",
    "\n",
    "submission['label'] = y_pred[:,1]\n",
    "\n",
    "submission.to_csv('2submission.csv', index=False)"
   ]
  },
  {
   "cell_type": "markdown",
   "id": "95bb2c93",
   "metadata": {
    "id": "95bb2c93"
   },
   "source": [
    "## Observation:\n",
    "\n",
    "In Trial 2 we used xgboost model with Grid Search .\n",
    "\n",
    "Best_score from Grid Search = 0.8881011444182029\n",
    "\n",
    "Best_params = {'Log_reg__C': 1.3, 'Log_reg__class_weight': 'balanced', 'Log_reg__penalty': 'l2', 'Log_reg__solver': 'liblinear'}\n",
    "\n",
    "Also i cleaned the data and removed stopword, used TfidfVectorizer analyzer word, And I applied for_embedding=True\n",
    "\n",
    "Public Score on kaggle : 0.82214\n",
    "\n",
    "I expect more than that , this is not a very good result. Let's try different techniques."
   ]
  },
  {
   "cell_type": "markdown",
   "id": "e726a64f",
   "metadata": {
    "id": "e726a64f"
   },
   "source": [
    "# Trial 3\n",
    "We will use Bag of Words technique (CountVectorizer) with Logistic Regression model with Grid search\n",
    "* N-grams (sets of consecutive words), N=2\n",
    "* Min_df ignores terms that have a document frequency (presence in % of documents).\n",
    "* min_df is used to limit the vocabulary size, so it learns only those terms that appear in at least 10%, 20%, etc. of the documents\n",
    "*When building the vocabulary, it ignores terms that have a document frequency strictly higher than the given threshold. This could be used to exclude terms that are too frequent and are unlikely to help predict the label.\n",
    "* Max_features :Limit the amount of features (vocabulary) that the vectorizer will learn\n",
    "\n",
    "Bag of words is s good technique but i think TfidfVectorizer should give a better result than it.\n",
    "\n",
    "I expect the result not to be that good."
   ]
  },
  {
   "cell_type": "code",
   "execution_count": 20,
   "id": "f3d68961",
   "metadata": {
    "id": "f3d68961"
   },
   "outputs": [],
   "source": [
    "# Initialize a CountVectorizer object: count_vectorizer\n",
    "Count_vec = CountVectorizer(stop_words=\"english\", analyzer='word', \n",
    "                  ngram_range=(1, 2),max_df=0.3, min_df=10, max_features=None,strip_accents='unicode',token_pattern=r'\\w{2,}')"
   ]
  },
  {
   "cell_type": "code",
   "execution_count": 21,
   "id": "0f8e27da",
   "metadata": {
    "id": "0f8e27da"
   },
   "outputs": [],
   "source": [
    "# Transforms the data into a bag of words\n",
    "Count_train = Count_vec.fit(X_train)\n",
    "X_train_trans= Count_vec.transform(X_train)"
   ]
  },
  {
   "cell_type": "code",
   "execution_count": 22,
   "id": "c28c076a",
   "metadata": {
    "colab": {
     "base_uri": "https://localhost:8080/"
    },
    "id": "c28c076a",
    "outputId": "83f6f603-12c6-47f2-f387-6d867f50f408"
   },
   "outputs": [
    {
     "name": "stdout",
     "output_type": "stream",
     "text": [
      "X_train_transformed (59768, 11393)\n",
      "y_train (59768,)\n"
     ]
    }
   ],
   "source": [
    "print('X_train_transformed', X_train_trans.shape)\n",
    "print('y_train', y_train.shape)"
   ]
  },
  {
   "cell_type": "code",
   "execution_count": 23,
   "id": "285862d1",
   "metadata": {
    "colab": {
     "base_uri": "https://localhost:8080/"
    },
    "id": "285862d1",
    "outputId": "a97ace78-688a-4868-ab60-d9ed29ebae40"
   },
   "outputs": [
    {
     "name": "stdout",
     "output_type": "stream",
     "text": [
      "Fitting 10 folds for each of 10 candidates, totalling 100 fits\n",
      "Best_score = 0.8674246772456018\n",
      "Best_params = {'Log_reg__C': 0.8, 'Log_reg__class_weight': 'balanced', 'Log_reg__penalty': 'l2', 'Log_reg__solver': 'newton-cg'}\n",
      "CPU times: user 2.41 s, sys: 1.63 s, total: 4.04 s\n",
      "Wall time: 1min 33s\n"
     ]
    }
   ],
   "source": [
    "%%time\n",
    "pipe_Log_reg =  Pipeline([(\"Log_reg\", LogisticRegression())])\n",
    "params = {\n",
    "          'Log_reg__penalty': ['l2'],\n",
    "          'Log_reg__C' : [0.8],\n",
    "          'Log_reg__class_weight': ['balanced',None],\n",
    "          'Log_reg__solver': ['newton-cg', 'lbfgs', 'liblinear', 'sag', 'saga']\n",
    "          }\n",
    "param_grid  = GridSearchCV(\n",
    "    pipe_Log_reg, params, cv=10, verbose=1, n_jobs=2, \n",
    "    scoring='roc_auc')\n",
    "#fit X_train and y_train\n",
    "param_grid.fit(X_train_trans,y_train)\n",
    "print(f'Best_score = {param_grid.best_score_}')\n",
    "print(f'Best_params = {param_grid.best_params_}')"
   ]
  },
  {
   "cell_type": "markdown",
   "id": "924c9602",
   "metadata": {
    "id": "924c9602"
   },
   "source": [
    "## Test data to Submit"
   ]
  },
  {
   "cell_type": "code",
   "execution_count": 32,
   "id": "cccc8203",
   "metadata": {
    "colab": {
     "base_uri": "https://localhost:8080/"
    },
    "id": "cccc8203",
    "outputId": "432f72ba-c65b-478a-fdd1-b5cbb2d93e66"
   },
   "outputs": [
    {
     "name": "stdout",
     "output_type": "stream",
     "text": [
      "X_train_transformed (59151, 11393)\n"
     ]
    }
   ],
   "source": [
    "X_test=data_test['text_clean']\n",
    "X_test_trans= Count_vec.transform(X_test)\n",
    "print('X_train_transformed', X_test_trans.shape)"
   ]
  },
  {
   "cell_type": "code",
   "execution_count": 33,
   "id": "91d35e7c",
   "metadata": {
    "id": "91d35e7c"
   },
   "outputs": [],
   "source": [
    "y_pred2=param_grid.predict_proba(X_test_trans)\n",
    "#prediction file\n",
    "submission = pd.DataFrame()\n",
    "\n",
    "submission['id'] = df['id']\n",
    "\n",
    "submission['label'] = y_pred2[:,1]\n",
    "\n",
    "submission.to_csv('3submission.csv', index=False)"
   ]
  },
  {
   "cell_type": "markdown",
   "id": "23750ddf",
   "metadata": {
    "id": "23750ddf"
   },
   "source": [
    "# Observation\n",
    "\n",
    "I used Bag of Words technique (CountVectorizer) with Logistic Regression model with Grid search\n",
    "\n",
    "As i expected the result is not that good:\n",
    "\n",
    "Got me a 0.74172 as a public score on kaggle."
   ]
  },
  {
   "cell_type": "markdown",
   "id": "3fd80dc7",
   "metadata": {
    "id": "3fd80dc7"
   },
   "source": [
    "## Trial 4\n",
    "Adding ways to preprocess the data in addition to TfidfVectorizer with GradientBoostingClassifier with Grid Search\n",
    "\n",
    "The result should be in the middle point, not that good but also not that bad."
   ]
  },
  {
   "cell_type": "code",
   "execution_count": 46,
   "id": "e4b4ef9c",
   "metadata": {
    "colab": {
     "base_uri": "https://localhost:8080/",
     "height": 112
    },
    "id": "e4b4ef9c",
    "outputId": "e13861bd-e6fe-475e-9e1a-ff63c8de0325"
   },
   "outputs": [
    {
     "data": {
      "text/html": [
       "\n",
       "  <div id=\"df-8bc0bb5a-23e3-4876-8953-ad1c535482f3\">\n",
       "    <div class=\"colab-df-container\">\n",
       "      <div>\n",
       "<style scoped>\n",
       "    .dataframe tbody tr th:only-of-type {\n",
       "        vertical-align: middle;\n",
       "    }\n",
       "\n",
       "    .dataframe tbody tr th {\n",
       "        vertical-align: top;\n",
       "    }\n",
       "\n",
       "    .dataframe thead th {\n",
       "        text-align: right;\n",
       "    }\n",
       "</style>\n",
       "<table border=\"1\" class=\"dataframe\">\n",
       "  <thead>\n",
       "    <tr style=\"text-align: right;\">\n",
       "      <th></th>\n",
       "      <th>text_clean</th>\n",
       "    </tr>\n",
       "  </thead>\n",
       "  <tbody>\n",
       "    <tr>\n",
       "      <th>0</th>\n",
       "      <td>group of friends began to volunteer at homeless shelter after their neighbors protested . Seeing...</td>\n",
       "    </tr>\n",
       "    <tr>\n",
       "      <th>1</th>\n",
       "      <td>British Prime Minister Theresa May on Nerve Attack on Former Russian Spy The government has conc...</td>\n",
       "    </tr>\n",
       "  </tbody>\n",
       "</table>\n",
       "</div>\n",
       "      <button class=\"colab-df-convert\" onclick=\"convertToInteractive('df-8bc0bb5a-23e3-4876-8953-ad1c535482f3')\"\n",
       "              title=\"Convert this dataframe to an interactive table.\"\n",
       "              style=\"display:none;\">\n",
       "        \n",
       "  <svg xmlns=\"http://www.w3.org/2000/svg\" height=\"24px\"viewBox=\"0 0 24 24\"\n",
       "       width=\"24px\">\n",
       "    <path d=\"M0 0h24v24H0V0z\" fill=\"none\"/>\n",
       "    <path d=\"M18.56 5.44l.94 2.06.94-2.06 2.06-.94-2.06-.94-.94-2.06-.94 2.06-2.06.94zm-11 1L8.5 8.5l.94-2.06 2.06-.94-2.06-.94L8.5 2.5l-.94 2.06-2.06.94zm10 10l.94 2.06.94-2.06 2.06-.94-2.06-.94-.94-2.06-.94 2.06-2.06.94z\"/><path d=\"M17.41 7.96l-1.37-1.37c-.4-.4-.92-.59-1.43-.59-.52 0-1.04.2-1.43.59L10.3 9.45l-7.72 7.72c-.78.78-.78 2.05 0 2.83L4 21.41c.39.39.9.59 1.41.59.51 0 1.02-.2 1.41-.59l7.78-7.78 2.81-2.81c.8-.78.8-2.07 0-2.86zM5.41 20L4 18.59l7.72-7.72 1.47 1.35L5.41 20z\"/>\n",
       "  </svg>\n",
       "      </button>\n",
       "      \n",
       "  <style>\n",
       "    .colab-df-container {\n",
       "      display:flex;\n",
       "      flex-wrap:wrap;\n",
       "      gap: 12px;\n",
       "    }\n",
       "\n",
       "    .colab-df-convert {\n",
       "      background-color: #E8F0FE;\n",
       "      border: none;\n",
       "      border-radius: 50%;\n",
       "      cursor: pointer;\n",
       "      display: none;\n",
       "      fill: #1967D2;\n",
       "      height: 32px;\n",
       "      padding: 0 0 0 0;\n",
       "      width: 32px;\n",
       "    }\n",
       "\n",
       "    .colab-df-convert:hover {\n",
       "      background-color: #E2EBFA;\n",
       "      box-shadow: 0px 1px 2px rgba(60, 64, 67, 0.3), 0px 1px 3px 1px rgba(60, 64, 67, 0.15);\n",
       "      fill: #174EA6;\n",
       "    }\n",
       "\n",
       "    [theme=dark] .colab-df-convert {\n",
       "      background-color: #3B4455;\n",
       "      fill: #D2E3FC;\n",
       "    }\n",
       "\n",
       "    [theme=dark] .colab-df-convert:hover {\n",
       "      background-color: #434B5C;\n",
       "      box-shadow: 0px 1px 3px 1px rgba(0, 0, 0, 0.15);\n",
       "      filter: drop-shadow(0px 1px 2px rgba(0, 0, 0, 0.3));\n",
       "      fill: #FFFFFF;\n",
       "    }\n",
       "  </style>\n",
       "\n",
       "      <script>\n",
       "        const buttonEl =\n",
       "          document.querySelector('#df-8bc0bb5a-23e3-4876-8953-ad1c535482f3 button.colab-df-convert');\n",
       "        buttonEl.style.display =\n",
       "          google.colab.kernel.accessAllowed ? 'block' : 'none';\n",
       "\n",
       "        async function convertToInteractive(key) {\n",
       "          const element = document.querySelector('#df-8bc0bb5a-23e3-4876-8953-ad1c535482f3');\n",
       "          const dataTable =\n",
       "            await google.colab.kernel.invokeFunction('convertToInteractive',\n",
       "                                                     [key], {});\n",
       "          if (!dataTable) return;\n",
       "\n",
       "          const docLinkHtml = 'Like what you see? Visit the ' +\n",
       "            '<a target=\"_blank\" href=https://colab.research.google.com/notebooks/data_table.ipynb>data table notebook</a>'\n",
       "            + ' to learn more about interactive tables.';\n",
       "          element.innerHTML = '';\n",
       "          dataTable['output_type'] = 'display_data';\n",
       "          await google.colab.output.renderOutput(dataTable, element);\n",
       "          const docLink = document.createElement('div');\n",
       "          docLink.innerHTML = docLinkHtml;\n",
       "          element.appendChild(docLink);\n",
       "        }\n",
       "      </script>\n",
       "    </div>\n",
       "  </div>\n",
       "  "
      ],
      "text/plain": [
       "                                                                                            text_clean\n",
       "0  group of friends began to volunteer at homeless shelter after their neighbors protested . Seeing...\n",
       "1  British Prime Minister Theresa May on Nerve Attack on Former Russian Spy The government has conc..."
      ]
     },
     "execution_count": 46,
     "metadata": {},
     "output_type": "execute_result"
    }
   ],
   "source": [
    "data_train.head(2)"
   ]
  },
  {
   "cell_type": "code",
   "execution_count": 47,
   "id": "56109cfa",
   "metadata": {
    "colab": {
     "base_uri": "https://localhost:8080/"
    },
    "id": "56109cfa",
    "outputId": "0a944493-d6ab-4ba6-c8cd-dfe3aec3758a"
   },
   "outputs": [
    {
     "name": "stdout",
     "output_type": "stream",
     "text": [
      "total time 0.598578691482544\n"
     ]
    }
   ],
   "source": [
    "import time\n",
    "start_time=time.time()\n",
    "# remove '\\\\n'\n",
    "data_train['clean_text'] = data_train['text_clean'].map(lambda x: re.sub('\\\\n',' ',str(x)))\n",
    "# remove any text starting with User... \n",
    "data_train['clean_text'] = data_train['text_clean'].map(lambda x: re.sub(\"\\[\\[User.*\",'',str(x)))\n",
    "# remove IP addresses or user IDs\n",
    "data_train['clean_text'] = data_train['text_clean'].map(lambda x: re.sub(\"\\d{1,3}\\.\\d{1,3}\\.\\d{1,3}\\.\\d{1,3}\",'',str(x)))\n",
    "#remove http links in the text\n",
    "data_train['clean_text'] = data_train['text_clean'].map(lambda x: re.sub(\"(http://.*?\\s)|(http://.*)\",'',str(x)))\n",
    "end_time=time.time()\n",
    "print(\"total time\",end_time-start_time)"
   ]
  },
  {
   "cell_type": "code",
   "execution_count": 48,
   "id": "5a1bcb6a",
   "metadata": {
    "colab": {
     "base_uri": "https://localhost:8080/",
     "height": 112
    },
    "id": "5a1bcb6a",
    "outputId": "cb04ec23-678c-47a3-d642-0b6b39a53302"
   },
   "outputs": [
    {
     "data": {
      "text/html": [
       "\n",
       "  <div id=\"df-b01fbece-7b61-4b5f-9130-6b95fcac46d3\">\n",
       "    <div class=\"colab-df-container\">\n",
       "      <div>\n",
       "<style scoped>\n",
       "    .dataframe tbody tr th:only-of-type {\n",
       "        vertical-align: middle;\n",
       "    }\n",
       "\n",
       "    .dataframe tbody tr th {\n",
       "        vertical-align: top;\n",
       "    }\n",
       "\n",
       "    .dataframe thead th {\n",
       "        text-align: right;\n",
       "    }\n",
       "</style>\n",
       "<table border=\"1\" class=\"dataframe\">\n",
       "  <thead>\n",
       "    <tr style=\"text-align: right;\">\n",
       "      <th></th>\n",
       "      <th>text_clean</th>\n",
       "      <th>clean_text</th>\n",
       "    </tr>\n",
       "  </thead>\n",
       "  <tbody>\n",
       "    <tr>\n",
       "      <th>0</th>\n",
       "      <td>group of friends began to volunteer at homeless shelter after their neighbors protested . Seeing...</td>\n",
       "      <td>group of friends began to volunteer at homeless shelter after their neighbors protested . Seeing...</td>\n",
       "    </tr>\n",
       "    <tr>\n",
       "      <th>1</th>\n",
       "      <td>British Prime Minister Theresa May on Nerve Attack on Former Russian Spy The government has conc...</td>\n",
       "      <td>British Prime Minister Theresa May on Nerve Attack on Former Russian Spy The government has conc...</td>\n",
       "    </tr>\n",
       "  </tbody>\n",
       "</table>\n",
       "</div>\n",
       "      <button class=\"colab-df-convert\" onclick=\"convertToInteractive('df-b01fbece-7b61-4b5f-9130-6b95fcac46d3')\"\n",
       "              title=\"Convert this dataframe to an interactive table.\"\n",
       "              style=\"display:none;\">\n",
       "        \n",
       "  <svg xmlns=\"http://www.w3.org/2000/svg\" height=\"24px\"viewBox=\"0 0 24 24\"\n",
       "       width=\"24px\">\n",
       "    <path d=\"M0 0h24v24H0V0z\" fill=\"none\"/>\n",
       "    <path d=\"M18.56 5.44l.94 2.06.94-2.06 2.06-.94-2.06-.94-.94-2.06-.94 2.06-2.06.94zm-11 1L8.5 8.5l.94-2.06 2.06-.94-2.06-.94L8.5 2.5l-.94 2.06-2.06.94zm10 10l.94 2.06.94-2.06 2.06-.94-2.06-.94-.94-2.06-.94 2.06-2.06.94z\"/><path d=\"M17.41 7.96l-1.37-1.37c-.4-.4-.92-.59-1.43-.59-.52 0-1.04.2-1.43.59L10.3 9.45l-7.72 7.72c-.78.78-.78 2.05 0 2.83L4 21.41c.39.39.9.59 1.41.59.51 0 1.02-.2 1.41-.59l7.78-7.78 2.81-2.81c.8-.78.8-2.07 0-2.86zM5.41 20L4 18.59l7.72-7.72 1.47 1.35L5.41 20z\"/>\n",
       "  </svg>\n",
       "      </button>\n",
       "      \n",
       "  <style>\n",
       "    .colab-df-container {\n",
       "      display:flex;\n",
       "      flex-wrap:wrap;\n",
       "      gap: 12px;\n",
       "    }\n",
       "\n",
       "    .colab-df-convert {\n",
       "      background-color: #E8F0FE;\n",
       "      border: none;\n",
       "      border-radius: 50%;\n",
       "      cursor: pointer;\n",
       "      display: none;\n",
       "      fill: #1967D2;\n",
       "      height: 32px;\n",
       "      padding: 0 0 0 0;\n",
       "      width: 32px;\n",
       "    }\n",
       "\n",
       "    .colab-df-convert:hover {\n",
       "      background-color: #E2EBFA;\n",
       "      box-shadow: 0px 1px 2px rgba(60, 64, 67, 0.3), 0px 1px 3px 1px rgba(60, 64, 67, 0.15);\n",
       "      fill: #174EA6;\n",
       "    }\n",
       "\n",
       "    [theme=dark] .colab-df-convert {\n",
       "      background-color: #3B4455;\n",
       "      fill: #D2E3FC;\n",
       "    }\n",
       "\n",
       "    [theme=dark] .colab-df-convert:hover {\n",
       "      background-color: #434B5C;\n",
       "      box-shadow: 0px 1px 3px 1px rgba(0, 0, 0, 0.15);\n",
       "      filter: drop-shadow(0px 1px 2px rgba(0, 0, 0, 0.3));\n",
       "      fill: #FFFFFF;\n",
       "    }\n",
       "  </style>\n",
       "\n",
       "      <script>\n",
       "        const buttonEl =\n",
       "          document.querySelector('#df-b01fbece-7b61-4b5f-9130-6b95fcac46d3 button.colab-df-convert');\n",
       "        buttonEl.style.display =\n",
       "          google.colab.kernel.accessAllowed ? 'block' : 'none';\n",
       "\n",
       "        async function convertToInteractive(key) {\n",
       "          const element = document.querySelector('#df-b01fbece-7b61-4b5f-9130-6b95fcac46d3');\n",
       "          const dataTable =\n",
       "            await google.colab.kernel.invokeFunction('convertToInteractive',\n",
       "                                                     [key], {});\n",
       "          if (!dataTable) return;\n",
       "\n",
       "          const docLinkHtml = 'Like what you see? Visit the ' +\n",
       "            '<a target=\"_blank\" href=https://colab.research.google.com/notebooks/data_table.ipynb>data table notebook</a>'\n",
       "            + ' to learn more about interactive tables.';\n",
       "          element.innerHTML = '';\n",
       "          dataTable['output_type'] = 'display_data';\n",
       "          await google.colab.output.renderOutput(dataTable, element);\n",
       "          const docLink = document.createElement('div');\n",
       "          docLink.innerHTML = docLinkHtml;\n",
       "          element.appendChild(docLink);\n",
       "        }\n",
       "      </script>\n",
       "    </div>\n",
       "  </div>\n",
       "  "
      ],
      "text/plain": [
       "                                                                                            text_clean  \\\n",
       "0  group of friends began to volunteer at homeless shelter after their neighbors protested . Seeing...   \n",
       "1  British Prime Minister Theresa May on Nerve Attack on Former Russian Spy The government has conc...   \n",
       "\n",
       "                                                                                            clean_text  \n",
       "0  group of friends began to volunteer at homeless shelter after their neighbors protested . Seeing...  \n",
       "1  British Prime Minister Theresa May on Nerve Attack on Former Russian Spy The government has conc...  "
      ]
     },
     "execution_count": 48,
     "metadata": {},
     "output_type": "execute_result"
    }
   ],
   "source": [
    "data_train.head(2)"
   ]
  },
  {
   "cell_type": "code",
   "execution_count": 49,
   "id": "5f00c7b5",
   "metadata": {
    "id": "5f00c7b5"
   },
   "outputs": [],
   "source": [
    "X_train=data_train['clean_text'] "
   ]
  },
  {
   "cell_type": "code",
   "execution_count": 50,
   "id": "9fee1175",
   "metadata": {
    "id": "9fee1175"
   },
   "outputs": [],
   "source": [
    "# Instantiate the vectorizer\n",
    "vectorizer = TfidfVectorizer(\n",
    "    analyzer=\"char\", max_df=0.3, min_df=8, ngram_range=(1, 2), norm=\"l2\",token_pattern=r'\\w{1,}',stop_words='english')"
   ]
  },
  {
   "cell_type": "code",
   "execution_count": 51,
   "id": "684be0e5",
   "metadata": {
    "id": "684be0e5"
   },
   "outputs": [],
   "source": [
    "# fit and transform on it the training features\n",
    "vectorizer.fit(X_train)\n",
    "X_train_word_features =vectorizer.transform(X_train)"
   ]
  },
  {
   "cell_type": "code",
   "execution_count": 52,
   "id": "efe480fd",
   "metadata": {
    "colab": {
     "base_uri": "https://localhost:8080/"
    },
    "id": "efe480fd",
    "outputId": "bd0dd872-a6e8-461c-b188-9fe9d7ee5a55"
   },
   "outputs": [
    {
     "name": "stdout",
     "output_type": "stream",
     "text": [
      "X_train_transformed (59768, 667)\n",
      "y_train (59768,)\n"
     ]
    }
   ],
   "source": [
    "print('X_train_transformed', X_train_word_features.shape)\n",
    "print('y_train', y_train.shape)"
   ]
  },
  {
   "cell_type": "code",
   "execution_count": 55,
   "id": "67a67f66",
   "metadata": {
    "colab": {
     "base_uri": "https://localhost:8080/"
    },
    "id": "67a67f66",
    "outputId": "c2264447-be51-4ba6-d3f7-3931fc2dfd6b"
   },
   "outputs": [
    {
     "name": "stdout",
     "output_type": "stream",
     "text": [
      "Fitting 10 folds for each of 4 candidates, totalling 40 fits\n",
      "Best_score = 0.76701201277468\n",
      "Best_params = {'Log_reg__max_depth': 13, 'Log_reg__max_features': 'sqrt', 'Log_reg__min_samples_split': 500}\n",
      "CPU times: user 19.3 s, sys: 309 ms, total: 19.6 s\n",
      "Wall time: 7min 59s\n"
     ]
    }
   ],
   "source": [
    "%%time\n",
    "pipe_Log_reg =  Pipeline([(\"Log_reg\", GradientBoostingClassifier())])\n",
    "params = {\n",
    "          'Log_reg__min_samples_split': [400,500],\n",
    "          'Log_reg__max_features' : ['sqrt'],\n",
    "          'Log_reg__max_depth': [11,13]          }\n",
    "param_grid  = GridSearchCV(\n",
    "    pipe_Log_reg, params, cv=10, verbose=1, n_jobs=2, \n",
    "    scoring='roc_auc')\n",
    "#fit X_train and y_train\n",
    "param_grid.fit(X_train_word_features,y_train)\n",
    "print(f'Best_score = {param_grid.best_score_}')\n",
    "print(f'Best_params = {param_grid.best_params_}')"
   ]
  },
  {
   "cell_type": "markdown",
   "id": "3b30dd93",
   "metadata": {
    "id": "3b30dd93"
   },
   "source": [
    "## Test data to Submit"
   ]
  },
  {
   "cell_type": "code",
   "execution_count": 56,
   "id": "5288642e",
   "metadata": {
    "colab": {
     "base_uri": "https://localhost:8080/"
    },
    "id": "5288642e",
    "outputId": "4692c4ca-28d9-411b-e443-ace69dfab6e3"
   },
   "outputs": [
    {
     "name": "stdout",
     "output_type": "stream",
     "text": [
      "total time 0.3256227970123291\n"
     ]
    }
   ],
   "source": [
    "import time\n",
    "start_time=time.time()\n",
    "# remove '\\\\n'\n",
    "data_test['clean_text'] = data_test['text_clean'].map(lambda x: re.sub('\\\\n',' ',str(x)))\n",
    "# remove any text starting with User... \n",
    "data_test['clean_text'] = data_test['text_clean'].map(lambda x: re.sub(\"\\[\\[User.*\",'',str(x)))\n",
    "# remove IP addresses or user IDs\n",
    "data_test['clean_text'] = data_test['text_clean'].map(lambda x: re.sub(\"\\d{1,3}\\.\\d{1,3}\\.\\d{1,3}\\.\\d{1,3}\",'',str(x)))\n",
    "#remove http links in the text\n",
    "data_test['clean_text'] = data_test['text_clean'].map(lambda x: re.sub(\"(http://.*?\\s)|(http://.*)\",'',str(x)))\n",
    "end_time=time.time()\n",
    "print(\"total time\",end_time-start_time)"
   ]
  },
  {
   "cell_type": "code",
   "execution_count": 57,
   "id": "05f6a09f",
   "metadata": {
    "colab": {
     "base_uri": "https://localhost:8080/"
    },
    "id": "05f6a09f",
    "outputId": "771b8f2f-2c31-41ed-bdc7-b207aaed600d"
   },
   "outputs": [
    {
     "name": "stdout",
     "output_type": "stream",
     "text": [
      "X_test_transformed (59151, 667)\n"
     ]
    }
   ],
   "source": [
    "X_test=data_test['clean_text'] \n",
    "X_test_word_features = vectorizer.transform(X_test)\n",
    "print('X_test_transformed', X_test_word_features.shape)"
   ]
  },
  {
   "cell_type": "code",
   "execution_count": 58,
   "id": "bc8601e6",
   "metadata": {
    "id": "bc8601e6"
   },
   "outputs": [],
   "source": [
    "y_pred3=param_grid.predict_proba(X_test_word_features)\n",
    "submission = pd.DataFrame()\n",
    "\n",
    "submission['id'] = df['id']\n",
    "\n",
    "submission['label'] = y_pred3[:,1]\n",
    "\n",
    "submission.to_csv('4submission.csv', index=False)"
   ]
  },
  {
   "cell_type": "markdown",
   "id": "c3aa7ab5",
   "metadata": {
    "id": "c3aa7ab5"
   },
   "source": [
    "# Observation:\n",
    "\n",
    "Didn't see that coming, it also gets a very bad result on the publics score: 0.7413"
   ]
  },
  {
   "cell_type": "markdown",
   "id": "540a4baa",
   "metadata": {
    "id": "540a4baa"
   },
   "source": [
    "# Trial 5\n",
    "\n",
    "TfidfVectorizer with LogisticRegression with RandomizedSearchCV\n",
    "\n",
    "It should get me a good result as we use logistic regression with TfidfVectorizer"
   ]
  },
  {
   "cell_type": "code",
   "execution_count": 69,
   "id": "b1617680",
   "metadata": {
    "colab": {
     "base_uri": "https://localhost:8080/"
    },
    "id": "b1617680",
    "outputId": "00c45d7f-71e8-440e-b0e4-2ec2ef5e4cb6"
   },
   "outputs": [
    {
     "name": "stdout",
     "output_type": "stream",
     "text": [
      "Fitting 2 folds for each of 10 candidates, totalling 20 fits\n",
      "best score 0.8610331713831172\n",
      "best score {'Log_reg__solver': 'lbfgs', 'Log_reg__penalty': 'l2', 'Log_reg__class_weight': 'balanced', 'Log_reg__C': 1}\n",
      "CPU times: user 3.94 s, sys: 2.77 s, total: 6.71 s\n",
      "Wall time: 35.5 s\n"
     ]
    }
   ],
   "source": [
    "%%time\n",
    "# n_jobs=2 means the cucurrent number of jobs\n",
    "# scoring depends on roc_auc\n",
    "# i used n_iter=10 \n",
    "\n",
    "pipe= Pipeline([(\"tfidf\", TfidfVectorizer(analyzer='word')),\n",
    "        ('Log_reg', LogisticRegression()\n",
    "        )])\n",
    "param_grid = {\n",
    "          'Log_reg__penalty': ['l2'], #l2 regularization\n",
    "          'Log_reg__C' : [0.6,0.9,1],#The parameter C is the the inverse of regularization strength in Logistic Regression\n",
    "          'Log_reg__class_weight': ['balanced',None],\n",
    "          'Log_reg__solver': ['newton-cg', 'lbfgs', 'liblinear']\n",
    "          }\n",
    "\n",
    "\n",
    "random = RandomizedSearchCV(\n",
    "    pipe, param_grid, cv=2, verbose=1, n_jobs=2, \n",
    "    # number of random trials\n",
    "    n_iter=10,\n",
    "    scoring='roc_auc')\n",
    "\n",
    "# fit Random_search\n",
    "random.fit(X_train, y_train)\n",
    "\n",
    "# print best_score and best_params for Random_search\n",
    "print('best score {}'.format(random.best_score_))\n",
    "print('best score {}'.format(random.best_params_))"
   ]
  },
  {
   "cell_type": "markdown",
   "id": "d3079aee",
   "metadata": {
    "id": "d3079aee"
   },
   "source": [
    "## Test data to Submit"
   ]
  },
  {
   "cell_type": "code",
   "execution_count": 70,
   "id": "3dae0054",
   "metadata": {
    "id": "3dae0054"
   },
   "outputs": [],
   "source": [
    "X_test=data_test['text_clean'] \n",
    "y_pred5=random.predict_proba(X_test)\n",
    "submission = pd.DataFrame()\n",
    "\n",
    "submission['id'] = df['id']\n",
    "\n",
    "submission['label'] = y_pred5[:,1]\n",
    "\n",
    "submission.to_csv('5submission.csv', index=False)"
   ]
  },
  {
   "cell_type": "markdown",
   "id": "6f393e73",
   "metadata": {
    "id": "6f393e73"
   },
   "source": [
    "# Observation\n",
    "\n",
    "As i expected it got me a good result on public score on kaggle: 0.85677 and this is my best for this competetion as a public score."
   ]
  },
  {
   "cell_type": "markdown",
   "id": "234c4edb",
   "metadata": {
    "id": "a616c5d1"
   },
   "source": [
    "# Thank You"
   ]
  },
  {
   "cell_type": "code",
   "execution_count": null,
   "id": "fdeeea35",
   "metadata": {},
   "outputs": [],
   "source": []
  }
 ],
 "metadata": {
  "accelerator": "GPU",
  "colab": {
   "provenance": []
  },
  "gpuClass": "standard",
  "kernelspec": {
   "display_name": "Python 3 (ipykernel)",
   "language": "python",
   "name": "python3"
  },
  "language_info": {
   "codemirror_mode": {
    "name": "ipython",
    "version": 3
   },
   "file_extension": ".py",
   "mimetype": "text/x-python",
   "name": "python",
   "nbconvert_exporter": "python",
   "pygments_lexer": "ipython3",
   "version": "3.8.5"
  }
 },
 "nbformat": 4,
 "nbformat_minor": 5
}
